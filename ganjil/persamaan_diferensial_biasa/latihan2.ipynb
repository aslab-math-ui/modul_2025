{
 "cells": [
  {
   "cell_type": "markdown",
   "id": "e2a107fd",
   "metadata": {},
   "source": [
    "# Latihan 2 Praktikum Persamaan Diferensial Biasa: Metode Euler dan Metode Runge-Kutta"
   ]
  },
  {
   "cell_type": "markdown",
   "id": "feb6a4be",
   "metadata": {},
   "source": [
    "## Soal Kelas A"
   ]
  },
  {
   "cell_type": "markdown",
   "id": "9fb7a7c0",
   "metadata": {},
   "source": [
    "Diberikan suatu masalah nilai awal (*Initial Value Problem*):\n",
    "\n",
    "$$\n",
    "\\begin{align*}\n",
    "    y' &= \\cfrac{2}{t}y + t^2e^t,\\\\\n",
    "       & y(1) = 0 \\nonumber\n",
    "\\end{align*}\n",
    "$$\n",
    "\n",
    "Diberikan pada interval $1\\leq t\\leq 2$ dengan stepsize $h = 0.1$\n",
    "\n",
    "Diketahui bahwa solusi eksak dari model diberikan oleh\n",
    "\n",
    "$$\n",
    "\\begin{align*}\n",
    "    y(t) = t^2(e^t-e)\n",
    "\\end{align*}\n",
    "$$\n",
    "\n",
    "**Gunakan Metode Taylor orde 2**"
   ]
  },
  {
   "cell_type": "markdown",
   "id": "eb3b98b1",
   "metadata": {},
   "source": [
    "## Soal Kelas B"
   ]
  },
  {
   "cell_type": "markdown",
   "id": "81055f84",
   "metadata": {},
   "source": [
    "Diberikan suatu masalah nilai awal (*Initial Value Problem*):\n",
    "\n",
    "$$\n",
    "\\begin{align*}\n",
    "    y' &= \\cfrac{(y^2+y)}{t},\\\\\n",
    "       & y(1) = -2 \\nonumber\n",
    "\\end{align*}\n",
    "$$\n",
    "\n",
    "Diberikan pada interval $1\\leq t\\leq 3$ dengan stepsize $h = 0.2$\n",
    "\n",
    "Diketahui bahwa solusi eksak dari model diberikan oleh\n",
    "\n",
    "$$\n",
    "\\begin{align*}\n",
    "    y(t) = \\cfrac{2t}{1-2t}\n",
    "\\end{align*}\n",
    "$$\n",
    "\n",
    "**Gunakan Metode Runge-Kutta orde 4**"
   ]
  },
  {
   "cell_type": "markdown",
   "id": "e188871e",
   "metadata": {},
   "source": [
    "Ketentuan Tugas:\n",
    "\n",
    "- Buatlah *script file* `nama_kelas_npm.m` (contoh: Pandu Adjie_C_1234567890.m) berisi penggunaan metode berdasarkan kelas anda untuk mengaproksimasi solusi dari model secara numerik !\n",
    "- Tunjukkan solusi aproksimasi anda dalam bentuk plot dan tentukan 1 dari aproksimasi dibandingkan dengan solusi eksak !\n",
    "- Kumpulkan file `.m` ke masing-masing kelas pada emas3 Praktikum PDB tanpa mengumpulkan *function file*."
   ]
  },
  {
   "cell_type": "markdown",
   "id": "fd81c6e0",
   "metadata": {},
   "source": []
  }
 ],
 "metadata": {
  "kernelspec": {
   "display_name": "Python 3",
   "language": "python",
   "name": "python3"
  },
  "language_info": {
   "codemirror_mode": {
    "name": "ipython",
    "version": 3
   },
   "file_extension": ".py",
   "mimetype": "text/x-python",
   "name": "python",
   "nbconvert_exporter": "python",
   "pygments_lexer": "ipython3",
   "version": "3.12.10"
  }
 },
 "nbformat": 4,
 "nbformat_minor": 5
}
