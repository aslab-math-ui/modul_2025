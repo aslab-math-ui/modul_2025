{
 "cells": [
  {
   "cell_type": "markdown",
   "metadata": {
    "id": "AvN39AmVPHJL"
   },
   "source": [
    "---\n",
    "title: \"Modul 3 Struktur Data: Linked List dan Graphviz\"\n",
    "subtitle: \"Singly Linked List, Doubly Linked List, Circular Linked List, dan Visualisasi dengan Graphviz\"\n",
    "image: https://raw.githubusercontent.com/aslab-math-ui/asset/main/struktur_data/static/linked_list.png\n",
    "description: \"Offline di Departemen Matematika\"\n",
    "date: 09/29/2025\n",
    "page-navigation: true\n",
    "format: html\n",
    "---"
   ]
  },
  {
   "cell_type": "markdown",
   "metadata": {
    "id": "BOZ8rSDUPHJM"
   },
   "source": [
    "Kembali ke [Struktur Data](./strukdat2025.qmd)"
   ]
  },
  {
   "cell_type": "markdown",
   "metadata": {
    "id": "r53Y-5qRPHJN"
   },
   "source": [
    "Pada praktikum kali ini, kita akan membahas mengenai *linked list*, serta cara memvisualisasikannya menggunakan yang namanya Graphviz."
   ]
  },
  {
   "cell_type": "markdown",
   "metadata": {
    "id": "27hIwyN4PHJN"
   },
   "source": [
    "Sebelum mengikuti praktikum ini, ada baiknya kalian me-*review* kembali modul berikut:\n",
    "\n",
    "* [Modul 2: Pengantar OOP](./modul2.ipynb)\n",
    "\n",
    "Untuk apa? Kita akan menyusun struktur data *linked list* menggunakan `class` :) semoga kalian sudah cukup paham tentang `class` yaa. Kalau belum pun, semoga kalian akan lebih paham setelah praktikum kali ini :D"
   ]
  },
  {
   "cell_type": "markdown",
   "metadata": {
    "id": "VHXuiCa2PHJW"
   },
   "source": [
    "# *(Singly) Linked List*"
   ]
  },
  {
   "cell_type": "markdown",
   "metadata": {
    "id": "Kx4yLgx8PHJW"
   },
   "source": [
    "*Singly-linked list* (seringkali disebut *linked list* saja) adalah semacam \"rantai\" dari *node*, di mana tiap *node* berisi 2 nilai, yaitu `data` dan `next` (yaitu *pointer* ke *node* lain). *Node* yang paling pertama itu ditunjuk oleh suatu *pointer* bernama `head`, yang menjadi awal dari *linked list*.\n",
    "\n",
    "(Terkadang, *pointer* `next` ditulis `LINK`. Artinya dan kegunaannya sama.)"
   ]
  },
  {
   "cell_type": "markdown",
   "metadata": {
    "id": "8YSOZTwsPHJW"
   },
   "source": [
    "Pertama-tama, kita buat struktur *node* terlebih dahulu menggunakan `class`. (Apabila *pointer* `next` tidak menunjuk ke apapun, biasanya ditulis `NULL` atau di sini `None`.)\n",
    "\n",
    "Biasanya, di kuliah, disebutnya `class Node` atau `Node` saja. Namun, berhubung modul ini akan membahas *doubly-linked list* dengan struktur yang agak berbeda, maka *node* untuk *singly-linked list* akan kita sebut `SLNode` (*singly-linked node*) agar berbeda."
   ]
  },
  {
   "cell_type": "code",
   "execution_count": 1,
   "metadata": {
    "id": "KheZldUPPHJW"
   },
   "outputs": [],
   "source": [
    "class SLNode:\n",
    "    def __init__(self, data, next=None):\n",
    "        self.data = data\n",
    "        self.next = next"
   ]
  },
  {
   "cell_type": "markdown",
   "metadata": {
    "id": "44sHPIKnPHJW"
   },
   "source": [
    "Kita bisa bermain-main dengan *node* ini sebagaimana yang dibahas di kuliah. Misalnya, kita buat *node* baru yang menyimpan data 15:"
   ]
  },
  {
   "cell_type": "code",
   "execution_count": 2,
   "metadata": {
    "id": "hRwtmIWrPHJW"
   },
   "outputs": [],
   "source": [
    "p = SLNode(15)"
   ]
  },
  {
   "cell_type": "markdown",
   "metadata": {
    "id": "h-Cq2IdrPHJW"
   },
   "source": [
    "Saat ini, *node* tersebut ditunjuk oleh *pointer* yang di sini kita sebut `p`. Secara tidak langsung, kita telah membuat *linked list* dengan `head` nya adalah `p`."
   ]
  },
  {
   "cell_type": "markdown",
   "metadata": {
    "id": "hURDIsRyPHJW"
   },
   "source": [
    "Kita bisa mengakses data yang disimpan di `data` dan juga alamat yang tersimpan di `next`:"
   ]
  },
  {
   "cell_type": "code",
   "execution_count": 3,
   "metadata": {
    "colab": {
     "base_uri": "https://localhost:8080/"
    },
    "id": "k3a2FNX8PHJW",
    "outputId": "439ab7ec-f991-408f-b281-2b05ec233d10"
   },
   "outputs": [
    {
     "name": "stdout",
     "output_type": "stream",
     "text": [
      "15\n"
     ]
    }
   ],
   "source": [
    "print(p.data)"
   ]
  },
  {
   "cell_type": "code",
   "execution_count": 4,
   "metadata": {
    "colab": {
     "base_uri": "https://localhost:8080/"
    },
    "id": "_t8FxzhMPHJW",
    "outputId": "02b3980a-bac6-4a57-c518-da08f36b9514"
   },
   "outputs": [
    {
     "name": "stdout",
     "output_type": "stream",
     "text": [
      "None\n"
     ]
    }
   ],
   "source": [
    "print(p.next)"
   ]
  },
  {
   "cell_type": "markdown",
   "metadata": {
    "id": "MQRw8mmVPHJW"
   },
   "source": [
    "Saat ini, *node* yang ditunjuk oleh `p` itu belum menunjuk ke manapun, sehingga `p.next` masih bernilai `None`."
   ]
  },
  {
   "cell_type": "markdown",
   "metadata": {
    "id": "End49NeVPHJW"
   },
   "source": [
    "Kita bisa melihat alamat dari *node* itu sendiri menggunakan `id`:"
   ]
  },
  {
   "cell_type": "code",
   "execution_count": 5,
   "metadata": {
    "colab": {
     "base_uri": "https://localhost:8080/"
    },
    "id": "jo-Tmb0bPHJW",
    "outputId": "32f40246-efd1-48ea-99a3-485da28e734c"
   },
   "outputs": [
    {
     "name": "stdout",
     "output_type": "stream",
     "text": [
      "1939465782336\n"
     ]
    }
   ],
   "source": [
    "print(id(p))"
   ]
  },
  {
   "cell_type": "markdown",
   "metadata": {
    "id": "m3C8i2YlPHJW"
   },
   "source": [
    "Alamat ini akan selalu berbeda tiap kali kita membuat *node* baru, dan di antara dua komputer kemungkinan besar juga berbeda. Memang wajar apabila alamat yang kalian dapatkan itu berbeda dengan yang tertera di modul."
   ]
  },
  {
   "cell_type": "markdown",
   "metadata": {
    "id": "8dcOJrVRPHJW"
   },
   "source": [
    "Namun, alamat biasanya ditampilkan dalam bentuk heksadesimal (*base-16*), sedangkan yang kita dapatkan dengan `id` masih berupa bilangan bulat desimal (*base-10*). Kita bisa menggunakan `hex` untuk mengubah *base-10* menjadi *base-16*:"
   ]
  },
  {
   "cell_type": "code",
   "execution_count": 6,
   "metadata": {
    "colab": {
     "base_uri": "https://localhost:8080/"
    },
    "id": "Os8bnKYvPHJX",
    "outputId": "1e171a67-37d9-40fc-b300-32d486ec7340"
   },
   "outputs": [
    {
     "name": "stdout",
     "output_type": "stream",
     "text": [
      "0x1c3912b4440\n"
     ]
    }
   ],
   "source": [
    "print(hex(id(p)))"
   ]
  },
  {
   "cell_type": "markdown",
   "metadata": {
    "id": "ZHQsoan4PHJX"
   },
   "source": [
    "Awalan `0x` itu hanya penanda bahwa bilangannya berupa heksadesimal."
   ]
  },
  {
   "cell_type": "markdown",
   "metadata": {
    "id": "i2u_u4H9PHJX"
   },
   "source": [
    "Selanjutnya, kita bisa membuat *node* baru di `p.next`, yaitu yang ditunjuk oleh `p`, sebagai berikut:"
   ]
  },
  {
   "cell_type": "code",
   "execution_count": 7,
   "metadata": {
    "id": "1SxFREWvPHJX"
   },
   "outputs": [],
   "source": [
    "p.next = SLNode(28)"
   ]
  },
  {
   "cell_type": "markdown",
   "metadata": {
    "id": "w3yYbZO3PHJX"
   },
   "source": [
    "Sehingga, data 28 itu bisa diakses dari `p` seperti berikut:"
   ]
  },
  {
   "cell_type": "code",
   "execution_count": 8,
   "metadata": {
    "colab": {
     "base_uri": "https://localhost:8080/"
    },
    "id": "UdKfWUayPHJX",
    "outputId": "38b4124a-9b21-47ff-97ab-2c8b26a25dac"
   },
   "outputs": [
    {
     "name": "stdout",
     "output_type": "stream",
     "text": [
      "28\n"
     ]
    }
   ],
   "source": [
    "print(p.next.data)"
   ]
  },
  {
   "cell_type": "markdown",
   "metadata": {
    "id": "GUyOmX29PHJX"
   },
   "source": [
    "Sedangkan, setelah *node* berisi 15 dan *node* berisi 28, belum ada *node* lagi, sehingga:"
   ]
  },
  {
   "cell_type": "code",
   "execution_count": 9,
   "metadata": {
    "colab": {
     "base_uri": "https://localhost:8080/"
    },
    "id": "EZ4kEXlrPHJX",
    "outputId": "42185dbf-10bd-4db9-f7a9-4fe032b026ee"
   },
   "outputs": [
    {
     "name": "stdout",
     "output_type": "stream",
     "text": [
      "None\n"
     ]
    }
   ],
   "source": [
    "print(p.next.next)"
   ]
  },
  {
   "cell_type": "markdown",
   "metadata": {
    "id": "oV_9m9cZPHJX"
   },
   "source": [
    "Mari kita buat *node* baru lagi setelah *node* berisi 28:"
   ]
  },
  {
   "cell_type": "code",
   "execution_count": 10,
   "metadata": {
    "id": "yznECCjXPHJX"
   },
   "outputs": [],
   "source": [
    "p.next.next = SLNode(-3)"
   ]
  },
  {
   "cell_type": "markdown",
   "metadata": {
    "id": "F0qcEQ0sPHJX"
   },
   "source": [
    "Sehingga, kita bisa mengakses data masing-masing *node* dari `p`:"
   ]
  },
  {
   "cell_type": "code",
   "execution_count": 11,
   "metadata": {
    "colab": {
     "base_uri": "https://localhost:8080/"
    },
    "id": "Re70h73BPHJX",
    "outputId": "21a5235d-687a-407c-e72b-5bdda4e41996"
   },
   "outputs": [
    {
     "name": "stdout",
     "output_type": "stream",
     "text": [
      "15\n",
      "28\n",
      "-3\n"
     ]
    }
   ],
   "source": [
    "print(p.data)\n",
    "print(p.next.data)\n",
    "print(p.next.next.data)"
   ]
  },
  {
   "cell_type": "markdown",
   "metadata": {
    "id": "vpQenYq2PHJX"
   },
   "source": [
    "Kita bisa juga membuat *pointer* baru yang menunjuk ke *node* yang sudah ada. Misalnya, kita bisa membuat *pointer* bernama `q` yang menunjuk ke *node* yang berisi 28, seperti berikut:"
   ]
  },
  {
   "cell_type": "code",
   "execution_count": 12,
   "metadata": {
    "id": "VWOBo4UFPHJY"
   },
   "outputs": [],
   "source": [
    "q = p.next"
   ]
  },
  {
   "cell_type": "markdown",
   "metadata": {
    "id": "hMUB0EuMPHJY"
   },
   "source": [
    "Sehingga, `p.next.next` bisa diakses dengan `q.next`:"
   ]
  },
  {
   "cell_type": "code",
   "execution_count": 13,
   "metadata": {
    "colab": {
     "base_uri": "https://localhost:8080/"
    },
    "id": "FTEDpvCgPHJY",
    "outputId": "b5f2cfe0-f94f-4079-ca5b-31886ac43311"
   },
   "outputs": [
    {
     "name": "stdout",
     "output_type": "stream",
     "text": [
      "-3\n",
      "-3\n"
     ]
    }
   ],
   "source": [
    "print(p.next.next.data)\n",
    "print(q.next.data)"
   ]
  },
  {
   "cell_type": "markdown",
   "metadata": {
    "id": "lD7KtHvJPHJY"
   },
   "source": [
    "Bahkan, kita bisa mengubah data -3 menjadi yang lain melalui `q`, dan itu akan berubah juga jika diakses melalui `p`:"
   ]
  },
  {
   "cell_type": "code",
   "execution_count": 14,
   "metadata": {
    "colab": {
     "base_uri": "https://localhost:8080/"
    },
    "id": "8JvqIws0PHJY",
    "outputId": "330ecc10-b2af-42e0-b5d5-c9d8424e4df1"
   },
   "outputs": [
    {
     "name": "stdout",
     "output_type": "stream",
     "text": [
      "-63\n",
      "-63\n"
     ]
    }
   ],
   "source": [
    "q.next.data = -63\n",
    "print(q.next.data)\n",
    "print(p.next.next.data)"
   ]
  },
  {
   "cell_type": "markdown",
   "metadata": {
    "id": "mHvCahPNPHJY"
   },
   "source": [
    "Kok bisa? Karena, sesuai yang sudah kita tetapkan, `q` menunjuk ke *node* yang sama dengan `p.next`. Kita bisa periksa alamatnya:"
   ]
  },
  {
   "cell_type": "code",
   "execution_count": 15,
   "metadata": {
    "colab": {
     "base_uri": "https://localhost:8080/"
    },
    "id": "ZaH_A0L_PHJY",
    "outputId": "c80fcc5e-3d58-45ba-d55b-248270b230bc"
   },
   "outputs": [
    {
     "name": "stdout",
     "output_type": "stream",
     "text": [
      "0x1c3910bac10\n",
      "0x1c3910bac10\n"
     ]
    }
   ],
   "source": [
    "print(hex(id(q)))\n",
    "print(hex(id(p.next)))"
   ]
  },
  {
   "cell_type": "markdown",
   "metadata": {
    "id": "57zc-fAzPHJY"
   },
   "source": [
    "Sehingga alamat dari *node* yang ditunjuk oleh `q.next` akan sama dengan yang ditunjuk oleh `p.next.next`:"
   ]
  },
  {
   "cell_type": "code",
   "execution_count": 16,
   "metadata": {
    "colab": {
     "base_uri": "https://localhost:8080/"
    },
    "id": "EKCv3PuvPHJY",
    "outputId": "ab4322f3-f400-4a2d-d78f-1ebc3ffb922b"
   },
   "outputs": [
    {
     "name": "stdout",
     "output_type": "stream",
     "text": [
      "0x1c3914c0f50\n",
      "0x1c3914c0f50\n"
     ]
    }
   ],
   "source": [
    "print(hex(id(q.next)))\n",
    "print(hex(id(p.next.next)))"
   ]
  },
  {
   "cell_type": "markdown",
   "metadata": {
    "id": "WZ_DwfCZPHJY"
   },
   "source": [
    "Sejauh ini, kita sudah bermain dengan *node* dan membuat *linked list* secara manual. Sebenarnya, kita juga bisa membuat suatu `class` untuk suatu *linked list* secara keseluruhan. Di dalam `class` itu, kita bisa membuat atribut (variabel) yang menyimpan `head`, serta berbagai *method* (fungsi) untuk algoritma-algoritma operasi dasar yang kita pelajari di kuliah, seperti insert *node* di awal/akhir dan delete *node* di awal/akhir. Dengan begitu, kita bisa menggunakan *linked list* dengan lebih nyaman."
   ]
  },
  {
   "cell_type": "markdown",
   "metadata": {
    "id": "v2SY_vNAPHJY"
   },
   "source": [
    "Kita akan menyebutnya `class SLList` (*singly-linked list*)."
   ]
  },
  {
   "cell_type": "code",
   "execution_count": 2,
   "metadata": {},
   "outputs": [],
   "source": [
    "# Digunakan untuk visualisasi linked list\n",
    "import graphviz as gv"
   ]
  },
  {
   "cell_type": "code",
   "execution_count": null,
   "metadata": {
    "id": "O9dSlOitPHJY"
   },
   "outputs": [],
   "source": [
    "class SLList:\n",
    "    def __init__(self):\n",
    "        self.head = None\n",
    "\n",
    "    # Memeriksa apakah linked list kosong\n",
    "    def is_empty(self):\n",
    "        if self.head == None:\n",
    "            return True\n",
    "        else:\n",
    "            return False\n",
    "\n",
    "    # Traversal, hanya untuk menghitung banyaknya node di linked list\n",
    "    def get_size(self):\n",
    "        count = 0\n",
    "        current = self.head\n",
    "        while current != None:\n",
    "            count += 1\n",
    "            current = current.next\n",
    "        return count\n",
    "\n",
    "    # Traversal, print masing-masing data node dari awal sampai akhir\n",
    "    def print_all(self):\n",
    "        print(\"head -> \", end=\"\")\n",
    "        temp = self.head\n",
    "        while temp != None:\n",
    "            print(temp.data, end = \" -> \")\n",
    "            temp = temp.next\n",
    "        print(\"None\")\n",
    "\n",
    "    # Traversal, semacam linear search, cari letak node dengan data tertentu\n",
    "    def get_pos(self, x):\n",
    "        pos = -1\n",
    "        current = self.head\n",
    "        while current != None:\n",
    "            pos += 1\n",
    "            if current.data == x:\n",
    "                return pos\n",
    "            current = current.next\n",
    "        return -1\n",
    "\n",
    "    # Insert node baru di depan\n",
    "    def ins_front(self, newdata):\n",
    "        newnode = SLNode(newdata)\n",
    "        newnode.next = self.head\n",
    "        self.head = newnode\n",
    "\n",
    "    # Insert node baru di belakang, ide nya perlu dilakukan traversal hingga node terakhir kemudian lakukan insert\n",
    "    def ins_end(self, newdata):\n",
    "        newnode = SLNode(newdata)\n",
    "        if self.is_empty():\n",
    "            self.head = newnode\n",
    "        else:\n",
    "            temp = self.head\n",
    "            while temp.next != None:\n",
    "                temp = temp.next\n",
    "\n",
    "            # sekarang temp sudah di node terakhir\n",
    "            temp.next = newnode\n",
    "\n",
    "    # Insert node baru di tengah\n",
    "    def ins_pos(self, newdata, pos):\n",
    "        if pos == 0:\n",
    "            self.ins_front(newdata)\n",
    "        else:\n",
    "            current_pos = 0\n",
    "            current = self.head\n",
    "            while (current != None) and (current_pos != pos-1):\n",
    "                current = current.next\n",
    "                current_pos += 1\n",
    "            # Keluar loop, bisa karena current == None atau current_pos == pos-1\n",
    "            # Kalau karena current_pos == pos-1, bisa insert\n",
    "            if (current_pos == pos-1):\n",
    "                newnode = SLNode(newdata)\n",
    "                temp = current.next\n",
    "                current.next = newnode\n",
    "                newnode.next = temp\n",
    "            # Tapi kalau karena current == None,\n",
    "            # berarti posisi yang diminta melampaui panjang linked list\n",
    "            else:\n",
    "                print(\"Error: posisi melebihi panjang linked list\")\n",
    "\n",
    "    # Delete node di depan\n",
    "    def del_front(self):\n",
    "        if self.is_empty():\n",
    "            print(\"Error: linked list sudah kosong\")\n",
    "        else:\n",
    "            temp = self.head.next\n",
    "            del self.head\n",
    "            self.head = temp\n",
    "\n",
    "    # Delete node di belakang\n",
    "    def del_end(self):\n",
    "        if self.is_empty():\n",
    "            print(\"Error: linked list sudah kosong\")\n",
    "        else:\n",
    "            temp = self.head\n",
    "            while temp.next.next != None:\n",
    "                temp = temp.next\n",
    "\n",
    "            # sekarang temp ada di node sebelum terakhir\n",
    "            del temp.next\n",
    "            temp.next = None\n",
    "\n",
    "    # Delete node di tengah. Mirip ins_pos, hanya berbeda di bagian current_pos == pos-1\n",
    "    def del_pos(self, pos):\n",
    "        if pos == 0:\n",
    "            self.del_front()\n",
    "        else:\n",
    "            current_pos = 0\n",
    "            current = self.head\n",
    "            while (current != None) and (current_pos != pos-1):\n",
    "                current = current.next\n",
    "                current_pos += 1\n",
    "            # Keluar loop, bisa karena current == None atau current_pos == pos-1\n",
    "            # Kalau karena current_pos == pos-1, maka bisa dihapus selama\n",
    "            # current.next yang mau dihapus itu memang ada\n",
    "            if (current_pos == pos-1) and (current.next != None):\n",
    "                temp = current.next.next\n",
    "                del current.next\n",
    "                current.next = temp\n",
    "            # Tapi kalau karena current == None, atau current.next tidak ada,\n",
    "            # berarti posisi yang diminta melampaui panjang linked list\n",
    "            else:\n",
    "                print(\"Error: posisi melebihi panjang linked list\")\n",
    "\n",
    "    # Menghapus semua node di linked list\n",
    "    def del_all(self):\n",
    "        while (not self.is_empty()):\n",
    "            self.del_front()\n",
    "\n",
    "    # Method untuk memperoleh digraph yang menggambarkan linked list nya :D\n",
    "    def get_digraph(self):\n",
    "        # Buat digraph baru yang sifatnya dari kiri ke kanan\n",
    "        new_digraph = gv.Digraph(graph_attr={\"rankdir\": \"LR\"})\n",
    "\n",
    "        # Pointer untuk menunjuk ke tiap node, mulai dari node pertama\n",
    "        # (akan dilakukan traversal)\n",
    "        current = self.head\n",
    "\n",
    "        # Untuk menghitung node ke-sekian untuk nama node di Graphviz,\n",
    "        # sehingga head menunjuk ke node0, lalu node0 menunjuk ke node1, dst\n",
    "        counter = 0\n",
    "\n",
    "        # Memperoleh alamat yang sedang disimpan di head\n",
    "        # - asumsi awal: tidak ada alamat (None)\n",
    "        next_id = None\n",
    "        next_name = \"node0\" # ini nanti untuk nama node berikutnya di Graphviz\n",
    "        # - kalau ternyata ada alamat...\n",
    "        if current != None:\n",
    "            # maka simpan alamat tersebut\n",
    "            next_id = hex(id(current))\n",
    "            # kita buat lebih spesifik untuk node berikutnya, tunjuk ke port id\n",
    "            next_name = \"node0:id\"\n",
    "\n",
    "        # Label (tabel) untuk pointer head\n",
    "        # - pembuka tabel\n",
    "        str_label = \"<\"\n",
    "        str_label += \"<TABLE BORDER=\\\"0\\\" CELLBORDER=\\\"1\\\" CELLSPACING=\\\"0\\\">\"\n",
    "        # - baris head\n",
    "        str_label += \"<TR><TD>head</TD></TR>\"\n",
    "        # - baris alamat (sekalian membuat port namanya \"contents\")\n",
    "        str_label += \"<TR><TD PORT=\\\"contents\\\">\" + str(next_id) + \"</TD></TR>\"\n",
    "        # - penutup tabel\n",
    "        str_label += \"</TABLE>\"\n",
    "        str_label += \">\"\n",
    "\n",
    "        # Membuat node head, membuat edge dari head ke node berikutnya\n",
    "        new_digraph.node(\"head\", shape=\"none\", label=str_label)\n",
    "        new_digraph.edge(\"head:contents\", next_name)\n",
    "        # dari port \"contents\" ke node berikutnya, yang namanya next_name\n",
    "\n",
    "        # Selama node yang ditunjuk bukan None, buatlah node nya di Graphviz,\n",
    "        # lalu lanjut ke node selanjutnya (ini traversal)\n",
    "        while current != None:\n",
    "            # Alamat yang tersimpan pada current.next\n",
    "            # - asumsi awal: tidak ada alamat; current adalah node terakhir\n",
    "            next_id = None\n",
    "            # - kalau ternyata ada alamat...\n",
    "            if current.next != None:\n",
    "                # maka simpan alamat tersebut\n",
    "                next_id = hex(id(current.next))\n",
    "\n",
    "            # Persiapan label (tabel) untuk node\n",
    "            # - pembuka tabel\n",
    "            str_label = \"<\"\n",
    "            str_label += \"<TABLE BORDER=\\\"0\\\" CELLBORDER=\\\"1\\\" CELLSPACING=\\\"0\\\">\"\n",
    "            # - baris tulisan \"data\", \"next\"\n",
    "            str_label += \"<TR><TD>data</TD><TD>next</TD></TR>\"\n",
    "            # - baris untuk isi data dan isi next\n",
    "            str_label += \"<TR>\"\n",
    "            str_label += \"<TD>\" + str(current.data) + \"</TD>\"\n",
    "            str_label += \"<TD PORT=\\\"next\\\">\" + str(next_id) + \"</TD>\"\n",
    "            str_label += \"</TR>\"\n",
    "            # - baris tulisan \"alamat node\", merentang dua kolom\n",
    "            str_label += \"<TR><TD COLSPAN=\\\"2\\\">alamat node</TD></TR>\"\n",
    "            # - baris untuk isi alamat node, merentang dua kolom\n",
    "            str_label += \"<TR>\"\n",
    "            str_label += \"<TD PORT=\\\"id\\\" COLSPAN=\\\"2\\\">\"\n",
    "            str_label += str(hex(id(current)))\n",
    "            str_label += \"</TD>\"\n",
    "            str_label += \"</TR>\"\n",
    "            # - penutup tabel\n",
    "            str_label += \"</TABLE>\"\n",
    "            str_label += \">\"\n",
    "\n",
    "            # Membuat node baru di Graphviz dengan label (tabel) tersebut\n",
    "            new_digraph.node(\"node\" + str(counter), shape=\"none\", label = str_label)\n",
    "\n",
    "            # Menentukan nama dua port yang bakal disambung dengan edge,\n",
    "            # yaitu (node saat ini):next disambung ke node(berikutnya):id\n",
    "            # yaitu bagian \"next\" disambung ke bagian alamat di node berikutnya\n",
    "            nama_node_next = \"node\" + str(counter) + \":next\"\n",
    "            if current.next != None:\n",
    "                nama_alamat_node_berikutnya = \"node\" + str(counter+1) + \":id\"\n",
    "            # atau ke node(berikutnya) saja tanpa id kalau itu ternyata None,\n",
    "            # karena None tidak akan memiliki port id\n",
    "            else:\n",
    "                nama_alamat_node_berikutnya = \"node\" + str(counter+1)\n",
    "\n",
    "            # Menyambung keduanya\n",
    "            new_digraph.edge(nama_node_next, nama_alamat_node_berikutnya)\n",
    "\n",
    "            # Lanjut ke node selanjutnya\n",
    "            current = current.next\n",
    "            counter += 1\n",
    "        # Kalau sudah keluar loop, artinya current menunjuk ke None\n",
    "        # Berarti tinggal membuat \"node\" terakhir berisi tulisan None\n",
    "        # (karena sambungannya sudah dibuat di dalam loop, tinggal node nya)\n",
    "        new_digraph.node(\"node\" + str(counter), shape=\"none\", label=\"None\")\n",
    "\n",
    "        # Digraph sudah jadi\n",
    "        return new_digraph"
   ]
  },
  {
   "cell_type": "code",
   "execution_count": 4,
   "metadata": {
    "id": "19oWheo9PHJZ"
   },
   "outputs": [],
   "source": [
    "test = SLList()\n",
    "test.ins_front(5)\n",
    "test.ins_front(15)\n",
    "test.ins_front(25)\n",
    "test.ins_front(35)"
   ]
  },
  {
   "cell_type": "code",
   "execution_count": 5,
   "metadata": {
    "colab": {
     "base_uri": "https://localhost:8080/"
    },
    "id": "adHeMpAQPHJZ",
    "outputId": "6dc0d9b4-1614-4995-e212-a4ed77cb33de"
   },
   "outputs": [
    {
     "name": "stdout",
     "output_type": "stream",
     "text": [
      "head -> 35 -> 25 -> 15 -> 5 -> None\n"
     ]
    }
   ],
   "source": [
    "test.print_all()"
   ]
  },
  {
   "cell_type": "code",
   "execution_count": 6,
   "metadata": {
    "colab": {
     "base_uri": "https://localhost:8080/"
    },
    "id": "x2cCsO9APHJZ",
    "outputId": "c19e624d-f174-4e8e-dbd8-aa993a9f464b"
   },
   "outputs": [
    {
     "name": "stdout",
     "output_type": "stream",
     "text": [
      "2\n"
     ]
    }
   ],
   "source": [
    "print(test.get_pos(15))"
   ]
  },
  {
   "cell_type": "code",
   "execution_count": 7,
   "metadata": {
    "colab": {
     "base_uri": "https://localhost:8080/"
    },
    "id": "5sx9ijlLPHJZ",
    "outputId": "db07f7bf-af2f-440c-e615-5ee939476446"
   },
   "outputs": [
    {
     "name": "stdout",
     "output_type": "stream",
     "text": [
      "-1\n"
     ]
    }
   ],
   "source": [
    "print(test.get_pos(39))"
   ]
  },
  {
   "cell_type": "code",
   "execution_count": 8,
   "metadata": {
    "id": "SHt7nHdjPHJZ"
   },
   "outputs": [],
   "source": [
    "test.ins_end(100)"
   ]
  },
  {
   "cell_type": "code",
   "execution_count": 9,
   "metadata": {
    "colab": {
     "base_uri": "https://localhost:8080/"
    },
    "id": "2PMdp0o3PHJZ",
    "outputId": "6a265513-7e72-4d48-d86d-1d42bca73d73"
   },
   "outputs": [
    {
     "name": "stdout",
     "output_type": "stream",
     "text": [
      "head -> 35 -> 25 -> 15 -> 5 -> 100 -> None\n"
     ]
    }
   ],
   "source": [
    "test.print_all()"
   ]
  },
  {
   "cell_type": "code",
   "execution_count": 10,
   "metadata": {
    "id": "UphrF0NUPHJZ"
   },
   "outputs": [],
   "source": [
    "test.del_front()\n",
    "test.del_front()"
   ]
  },
  {
   "cell_type": "code",
   "execution_count": 11,
   "metadata": {
    "colab": {
     "base_uri": "https://localhost:8080/"
    },
    "id": "iH31sAziPHJZ",
    "outputId": "c410ce73-d51d-4534-eac4-c54306c84c7c"
   },
   "outputs": [
    {
     "name": "stdout",
     "output_type": "stream",
     "text": [
      "head -> 15 -> 5 -> 100 -> None\n"
     ]
    }
   ],
   "source": [
    "test.print_all()"
   ]
  },
  {
   "cell_type": "code",
   "execution_count": 12,
   "metadata": {
    "colab": {
     "base_uri": "https://localhost:8080/"
    },
    "id": "arQebOM4PHJZ",
    "outputId": "9c589c66-83c4-40bd-e557-493b90e17b44"
   },
   "outputs": [
    {
     "name": "stdout",
     "output_type": "stream",
     "text": [
      "Error: posisi melebihi panjang linked list\n"
     ]
    }
   ],
   "source": [
    "test.del_pos(3)"
   ]
  },
  {
   "cell_type": "code",
   "execution_count": 13,
   "metadata": {
    "id": "w8akqhF8PHJZ"
   },
   "outputs": [],
   "source": [
    "test.del_pos(2)"
   ]
  },
  {
   "cell_type": "code",
   "execution_count": 14,
   "metadata": {
    "colab": {
     "base_uri": "https://localhost:8080/"
    },
    "id": "8rcpMZ08PHJZ",
    "outputId": "629ab4cb-f128-444f-edd4-7bd99fb4d217"
   },
   "outputs": [
    {
     "name": "stdout",
     "output_type": "stream",
     "text": [
      "head -> 15 -> 5 -> None\n"
     ]
    }
   ],
   "source": [
    "test.print_all()"
   ]
  },
  {
   "cell_type": "code",
   "execution_count": 15,
   "metadata": {
    "colab": {
     "base_uri": "https://localhost:8080/"
    },
    "id": "sgTK9Y7KPHJZ",
    "outputId": "692c062f-fc76-4bd7-e427-1c5979ae3d11"
   },
   "outputs": [
    {
     "name": "stdout",
     "output_type": "stream",
     "text": [
      "Error: posisi melebihi panjang linked list\n"
     ]
    }
   ],
   "source": [
    "test.ins_pos(-42, 7)"
   ]
  },
  {
   "cell_type": "code",
   "execution_count": 16,
   "metadata": {
    "id": "BF9cOykDPHJZ"
   },
   "outputs": [],
   "source": [
    "test.ins_pos(76, 1)"
   ]
  },
  {
   "cell_type": "code",
   "execution_count": 17,
   "metadata": {
    "colab": {
     "base_uri": "https://localhost:8080/"
    },
    "id": "VXNZ2OMgPHJa",
    "outputId": "30c694ff-2861-4559-c0ab-b5c7784fcfca"
   },
   "outputs": [
    {
     "name": "stdout",
     "output_type": "stream",
     "text": [
      "head -> 15 -> 76 -> 5 -> None\n"
     ]
    }
   ],
   "source": [
    "test.print_all()"
   ]
  },
  {
   "cell_type": "code",
   "execution_count": 18,
   "metadata": {
    "id": "ZCwvdSpRPHJa"
   },
   "outputs": [],
   "source": [
    "gambar = test.get_digraph()"
   ]
  },
  {
   "cell_type": "code",
   "execution_count": 19,
   "metadata": {
    "colab": {
     "base_uri": "https://localhost:8080/",
     "height": 269
    },
    "id": "E-2PJMHIPHJa",
    "outputId": "50eeb009-0a4d-49b0-9a1e-cbcf0803da36"
   },
   "outputs": [
    {
     "data": {
      "image/svg+xml": [
       "<?xml version=\"1.0\" encoding=\"UTF-8\" standalone=\"no\"?>\n",
       "<!DOCTYPE svg PUBLIC \"-//W3C//DTD SVG 1.1//EN\"\n",
       " \"http://www.w3.org/Graphics/SVG/1.1/DTD/svg11.dtd\">\n",
       "<!-- Generated by graphviz version 9.0.0 (20230911.1827)\n",
       " -->\n",
       "<!-- Pages: 1 -->\n",
       "<svg width=\"704pt\" height=\"187pt\"\n",
       " viewBox=\"0.00 0.00 703.50 186.75\" xmlns=\"http://www.w3.org/2000/svg\" xmlns:xlink=\"http://www.w3.org/1999/xlink\">\n",
       "<g id=\"graph0\" class=\"graph\" transform=\"scale(1 1) rotate(0) translate(4 182.75)\">\n",
       "<polygon fill=\"white\" stroke=\"none\" points=\"-4,4 -4,-182.75 699.5,-182.75 699.5,4 -4,4\"/>\n",
       "<!-- head -->\n",
       "<g id=\"node1\" class=\"node\">\n",
       "<title>head</title>\n",
       "<polygon fill=\"none\" stroke=\"black\" points=\"8,-25.75 8,-47.5 102.5,-47.5 102.5,-25.75 8,-25.75\"/>\n",
       "<text text-anchor=\"start\" x=\"42.12\" y=\"-31.2\" font-family=\"Times New Roman,serif\" font-size=\"14.00\">head</text>\n",
       "<polygon fill=\"none\" stroke=\"black\" points=\"8,-4 8,-25.75 102.5,-25.75 102.5,-4 8,-4\"/>\n",
       "<text text-anchor=\"start\" x=\"11\" y=\"-9.45\" font-family=\"Times New Roman,serif\" font-size=\"14.00\">0x1d2476e11d0</text>\n",
       "</g>\n",
       "<!-- node0 -->\n",
       "<g id=\"node2\" class=\"node\">\n",
       "<title>node0</title>\n",
       "<polygon fill=\"none\" stroke=\"black\" points=\"154.5,-67.75 154.5,-88.75 183.5,-88.75 183.5,-67.75 154.5,-67.75\"/>\n",
       "<text text-anchor=\"start\" x=\"157.38\" y=\"-72.45\" font-family=\"Times New Roman,serif\" font-size=\"14.00\">data</text>\n",
       "<polygon fill=\"none\" stroke=\"black\" points=\"183.5,-67.75 183.5,-88.75 276.5,-88.75 276.5,-67.75 183.5,-67.75\"/>\n",
       "<text text-anchor=\"start\" x=\"218.38\" y=\"-72.45\" font-family=\"Times New Roman,serif\" font-size=\"14.00\">next</text>\n",
       "<polygon fill=\"none\" stroke=\"black\" points=\"154.5,-46.75 154.5,-67.75 183.5,-67.75 183.5,-46.75 154.5,-46.75\"/>\n",
       "<text text-anchor=\"start\" x=\"162.25\" y=\"-51.45\" font-family=\"Times New Roman,serif\" font-size=\"14.00\">15</text>\n",
       "<polygon fill=\"none\" stroke=\"black\" points=\"183.5,-46.75 183.5,-67.75 276.5,-67.75 276.5,-46.75 183.5,-46.75\"/>\n",
       "<text text-anchor=\"start\" x=\"186.5\" y=\"-51.45\" font-family=\"Times New Roman,serif\" font-size=\"14.00\">0x1d2474b20f0</text>\n",
       "<polygon fill=\"none\" stroke=\"black\" points=\"154.5,-25.75 154.5,-46.75 276.5,-46.75 276.5,-25.75 154.5,-25.75\"/>\n",
       "<text text-anchor=\"start\" x=\"182.12\" y=\"-30.45\" font-family=\"Times New Roman,serif\" font-size=\"14.00\">alamat node</text>\n",
       "<polygon fill=\"none\" stroke=\"black\" points=\"154.5,-4.75 154.5,-25.75 276.5,-25.75 276.5,-4.75 154.5,-4.75\"/>\n",
       "<text text-anchor=\"start\" x=\"171.25\" y=\"-9.45\" font-family=\"Times New Roman,serif\" font-size=\"14.00\">0x1d2476e11d0</text>\n",
       "</g>\n",
       "<!-- head&#45;&gt;node0 -->\n",
       "<g id=\"edge1\" class=\"edge\">\n",
       "<title>head:contents&#45;&gt;node0:id</title>\n",
       "<path fill=\"none\" stroke=\"black\" d=\"M103.25,-14.75C121.22,-14.75 128.35,-14.75 142.08,-14.75\"/>\n",
       "<polygon fill=\"black\" stroke=\"black\" points=\"141.99,-18.25 151.99,-14.75 141.99,-11.25 141.99,-18.25\"/>\n",
       "</g>\n",
       "<!-- node1 -->\n",
       "<g id=\"node3\" class=\"node\">\n",
       "<title>node1</title>\n",
       "<polygon fill=\"none\" stroke=\"black\" points=\"328.5,-110.75 328.5,-131.75 357.5,-131.75 357.5,-110.75 328.5,-110.75\"/>\n",
       "<text text-anchor=\"start\" x=\"331.38\" y=\"-115.45\" font-family=\"Times New Roman,serif\" font-size=\"14.00\">data</text>\n",
       "<polygon fill=\"none\" stroke=\"black\" points=\"357.5,-110.75 357.5,-131.75 451.5,-131.75 451.5,-110.75 357.5,-110.75\"/>\n",
       "<text text-anchor=\"start\" x=\"392.88\" y=\"-115.45\" font-family=\"Times New Roman,serif\" font-size=\"14.00\">next</text>\n",
       "<polygon fill=\"none\" stroke=\"black\" points=\"328.5,-89.75 328.5,-110.75 357.5,-110.75 357.5,-89.75 328.5,-89.75\"/>\n",
       "<text text-anchor=\"start\" x=\"336.25\" y=\"-94.45\" font-family=\"Times New Roman,serif\" font-size=\"14.00\">76</text>\n",
       "<polygon fill=\"none\" stroke=\"black\" points=\"357.5,-89.75 357.5,-110.75 451.5,-110.75 451.5,-89.75 357.5,-89.75\"/>\n",
       "<text text-anchor=\"start\" x=\"360.25\" y=\"-94.45\" font-family=\"Times New Roman,serif\" font-size=\"14.00\">0x1d24774c440</text>\n",
       "<polygon fill=\"none\" stroke=\"black\" points=\"328.5,-68.75 328.5,-89.75 451.5,-89.75 451.5,-68.75 328.5,-68.75\"/>\n",
       "<text text-anchor=\"start\" x=\"356.62\" y=\"-73.45\" font-family=\"Times New Roman,serif\" font-size=\"14.00\">alamat node</text>\n",
       "<polygon fill=\"none\" stroke=\"black\" points=\"328.5,-47.75 328.5,-68.75 451.5,-68.75 451.5,-47.75 328.5,-47.75\"/>\n",
       "<text text-anchor=\"start\" x=\"346.5\" y=\"-52.45\" font-family=\"Times New Roman,serif\" font-size=\"14.00\">0x1d2474b20f0</text>\n",
       "</g>\n",
       "<!-- node0&#45;&gt;node1 -->\n",
       "<g id=\"edge2\" class=\"edge\">\n",
       "<title>node0:next&#45;&gt;node1:id</title>\n",
       "<path fill=\"none\" stroke=\"black\" d=\"M277.5,-57.75C295.2,-57.75 302.22,-57.75 315.75,-57.75\"/>\n",
       "<polygon fill=\"black\" stroke=\"black\" points=\"315.49,-61.25 325.49,-57.75 315.49,-54.25 315.49,-61.25\"/>\n",
       "</g>\n",
       "<!-- node2 -->\n",
       "<g id=\"node4\" class=\"node\">\n",
       "<title>node2</title>\n",
       "<polygon fill=\"none\" stroke=\"black\" points=\"503.5,-153.75 503.5,-174.75 546.5,-174.75 546.5,-153.75 503.5,-153.75\"/>\n",
       "<text text-anchor=\"start\" x=\"513.38\" y=\"-158.45\" font-family=\"Times New Roman,serif\" font-size=\"14.00\">data</text>\n",
       "<polygon fill=\"none\" stroke=\"black\" points=\"546.5,-153.75 546.5,-174.75 597.5,-174.75 597.5,-153.75 546.5,-153.75\"/>\n",
       "<text text-anchor=\"start\" x=\"560.38\" y=\"-158.45\" font-family=\"Times New Roman,serif\" font-size=\"14.00\">next</text>\n",
       "<polygon fill=\"none\" stroke=\"black\" points=\"503.5,-132.75 503.5,-153.75 546.5,-153.75 546.5,-132.75 503.5,-132.75\"/>\n",
       "<text text-anchor=\"start\" x=\"521.62\" y=\"-137.45\" font-family=\"Times New Roman,serif\" font-size=\"14.00\">5</text>\n",
       "<polygon fill=\"none\" stroke=\"black\" points=\"546.5,-132.75 546.5,-153.75 597.5,-153.75 597.5,-132.75 546.5,-132.75\"/>\n",
       "<text text-anchor=\"start\" x=\"557\" y=\"-137.45\" font-family=\"Times New Roman,serif\" font-size=\"14.00\">None</text>\n",
       "<polygon fill=\"none\" stroke=\"black\" points=\"503.5,-111.75 503.5,-132.75 597.5,-132.75 597.5,-111.75 503.5,-111.75\"/>\n",
       "<text text-anchor=\"start\" x=\"517.12\" y=\"-116.45\" font-family=\"Times New Roman,serif\" font-size=\"14.00\">alamat node</text>\n",
       "<polygon fill=\"none\" stroke=\"black\" points=\"503.5,-90.75 503.5,-111.75 597.5,-111.75 597.5,-90.75 503.5,-90.75\"/>\n",
       "<text text-anchor=\"start\" x=\"506.25\" y=\"-95.45\" font-family=\"Times New Roman,serif\" font-size=\"14.00\">0x1d24774c440</text>\n",
       "</g>\n",
       "<!-- node1&#45;&gt;node2 -->\n",
       "<g id=\"edge3\" class=\"edge\">\n",
       "<title>node1:next&#45;&gt;node2:id</title>\n",
       "<path fill=\"none\" stroke=\"black\" d=\"M453,-100.75C470.7,-100.75 477.72,-100.75 491.25,-100.75\"/>\n",
       "<polygon fill=\"black\" stroke=\"black\" points=\"490.99,-104.25 500.99,-100.75 490.99,-97.25 490.99,-104.25\"/>\n",
       "</g>\n",
       "<!-- node3 -->\n",
       "<g id=\"node5\" class=\"node\">\n",
       "<title>node3</title>\n",
       "<text text-anchor=\"middle\" x=\"668.5\" y=\"-138.32\" font-family=\"Times New Roman,serif\" font-size=\"14.00\">None</text>\n",
       "</g>\n",
       "<!-- node2&#45;&gt;node3 -->\n",
       "<g id=\"edge4\" class=\"edge\">\n",
       "<title>node2:next&#45;&gt;node3</title>\n",
       "<path fill=\"none\" stroke=\"black\" d=\"M598.5,-143.75C608.86,-143.75 620.09,-143.75 630.42,-143.75\"/>\n",
       "<polygon fill=\"black\" stroke=\"black\" points=\"630.1,-147.25 640.1,-143.75 630.1,-140.25 630.1,-147.25\"/>\n",
       "</g>\n",
       "</g>\n",
       "</svg>\n"
      ],
      "text/plain": [
       "<graphviz.graphs.Digraph at 0x1d24774c590>"
      ]
     },
     "metadata": {},
     "output_type": "display_data"
    }
   ],
   "source": [
    "display(gambar)"
   ]
  },
  {
   "cell_type": "markdown",
   "metadata": {
    "id": "McD0kt0YPHJa"
   },
   "source": [
    "# *Doubly Linked List*"
   ]
  },
  {
   "cell_type": "markdown",
   "metadata": {},
   "source": [
    "Pada *singly linked list* setiap node hanya menyimpan satu pointer ke node lainnya, yaitu `next`. Pada *doubly linked list* setiap node menyimpan dua pointer ke node lainnya, yaitu `next` dan `prev`. Dengan penambahan pointer ini kita jadi lebih leluasa untuk mengakses node lain. Namun kekurangannya adalah kita memerlukan alokasi memori tambahan untuk menyimpan alamat `prev`."
   ]
  },
  {
   "cell_type": "code",
   "execution_count": 20,
   "metadata": {
    "id": "-pS20KRQPHJa"
   },
   "outputs": [],
   "source": [
    "class DLNode:\n",
    "    def __init__(self, data, next=None, prev=None):\n",
    "        self.data = data\n",
    "        self.next = next\n",
    "        self.prev = prev"
   ]
  },
  {
   "cell_type": "code",
   "execution_count": 21,
   "metadata": {
    "id": "LnMvJ1X2PHJa"
   },
   "outputs": [],
   "source": [
    "class DLList:\n",
    "    def __init__(self):\n",
    "        self.head = None\n",
    "        self.tail = None\n",
    "\n",
    "    # Masih sama persis dengan singly linked list\n",
    "    def is_empty(self):\n",
    "        if self.head == None:\n",
    "            return True\n",
    "        else:\n",
    "            return False\n",
    "\n",
    "    # Traversal, hanya untuk menghitung banyaknya node di linked list\n",
    "    # Masih sama persis dengan singly linked list\n",
    "    def get_size(self):\n",
    "        count = 0\n",
    "        current = self.head\n",
    "        while current != None:\n",
    "            count += 1\n",
    "            current = current.next\n",
    "        return count\n",
    "\n",
    "    # Traversal, print masing-masing data node dari awal sampai akhir\n",
    "    def print_all(self):\n",
    "        print(\"head -> \", end=\"\")\n",
    "        temp = self.head\n",
    "        while (temp != None) and (temp.next != None):\n",
    "            print(temp.data, end = \" <-> \")\n",
    "            temp = temp.next\n",
    "        # Khusus node terakhir:\n",
    "        if (temp != None) and (temp.next == None):\n",
    "            print(temp.data, end = \" <- \")\n",
    "        print(\"tail\")\n",
    "\n",
    "    def ins_front(self, newdata):\n",
    "        newnode = DLNode(newdata)\n",
    "        newnode.next = self.head\n",
    "        if self.head != None:\n",
    "            self.head.prev = newnode\n",
    "        self.head = newnode\n",
    "        if self.tail == None: # jika tadinya doubly linked list kosong,\n",
    "            # maka newnode menjadi node pertama, ditunjuk oleh head dan tail\n",
    "            self.tail = newnode\n",
    "\n",
    "    # Berbeda dengan singly linked list, tinggal insert di tail;\n",
    "    # tidak perlu traversal\n",
    "    def ins_end(self, newdata):\n",
    "        newnode = DLNode(newdata)\n",
    "        newnode.prev = self.tail\n",
    "        if self.tail != None:\n",
    "            self.tail.next = newnode\n",
    "        self.tail = newnode\n",
    "        if self.head == None: # jika tadinya doubly linked list kosong,\n",
    "            # maka newnode menjadi node pertama, ditunjuk oleh head dan tail\n",
    "            self.head = newnode\n",
    "\n",
    "    def ins_pos(self, newdata, pos):\n",
    "        if pos == 0:\n",
    "            self.ins_front(newdata)\n",
    "            return\n",
    "        n = self.get_size()\n",
    "        if pos == n:\n",
    "            self.ins_end(newdata)\n",
    "        elif pos > n:\n",
    "            print(\"Error: posisi melebihi panjang linked list\")\n",
    "        else:\n",
    "            current_pos = 0\n",
    "            current = self.head\n",
    "            while (current_pos != pos-1):\n",
    "                current = current.next\n",
    "                current_pos += 1\n",
    "            # Keluar loop berarti current_pos == pos-1\n",
    "            newnode = DLNode(newdata)\n",
    "            newnode.prev = current\n",
    "            newnode.next = current.next\n",
    "            current.next = newnode\n",
    "            # Sudah pasti newnode.next != None,\n",
    "            # karena kasus pos == n sudah ditangani\n",
    "            newnode.next.prev = newnode\n",
    "\n",
    "    def del_front(self):\n",
    "        if self.is_empty():\n",
    "            print(\"Error: linked list sudah kosong\")\n",
    "        else:\n",
    "            temp = self.head.next\n",
    "            del self.head\n",
    "            self.head = temp\n",
    "            if temp != None:\n",
    "                temp.prev = None\n",
    "            else: # jika temp == None, maka self.head == None,\n",
    "                # berarti sekarang doubly linkd list kosong,\n",
    "                # sehingga tail juga menunjuk ke None\n",
    "                self.tail = None\n",
    "\n",
    "    def del_end(self):\n",
    "        if self.is_empty():\n",
    "            print(\"Error: linked list sudah kosong\")\n",
    "        else:\n",
    "            temp = self.tail.prev\n",
    "            del self.tail\n",
    "            self.tail = temp\n",
    "            if temp != None:\n",
    "                temp.next = None\n",
    "            else: # jika temp == None, maka self.tail == None,\n",
    "                # berarti sekarang doubly linkd list kosong,\n",
    "                # sehingga head juga menunjuk ke None\n",
    "                self.head = None\n",
    "\n",
    "    def del_pos(self, pos):\n",
    "        if pos == 0:\n",
    "            self.del_front()\n",
    "            return\n",
    "        n = self.get_size()\n",
    "        if pos == n-1:\n",
    "            self.del_end()\n",
    "        elif pos > n-1:\n",
    "            print(\"Error: posisi melebihi panjang linked list\")\n",
    "        else:\n",
    "            current_pos = 0\n",
    "            current = self.head\n",
    "            while (current_pos != pos-1):\n",
    "                current = current.next\n",
    "                current_pos += 1\n",
    "            temp = current.next.next\n",
    "            del current.next\n",
    "            current.next = temp\n",
    "            # Sudah pasti temp != None,\n",
    "            # karena kasus pos == (n-1) sudah ditangani\n",
    "            temp.prev = current\n",
    "\n",
    "    # Method untuk memperoleh digraph yang menggambarkan linked list nya :D\n",
    "    def get_digraph(self):\n",
    "        # Buat digraph baru yang sifatnya dari kiri ke kanan\n",
    "        new_digraph = gv.Digraph(graph_attr={\"rankdir\": \"LR\"})\n",
    "\n",
    "        # Pointer untuk menunjuk ke tiap node, mulai dari node pertama\n",
    "        # (akan dilakukan traversal)\n",
    "        current = self.head\n",
    "\n",
    "        # Untuk menghitung node ke-sekian untuk nama node di Graphviz,\n",
    "        # sehingga head menunjuk ke node0, lalu node0 menunjuk ke node1, dst\n",
    "        counter = 0\n",
    "\n",
    "        # Memperoleh alamat yang sedang disimpan di head\n",
    "        # - asumsi awal: tidak ada alamat (None)\n",
    "        next_id = None\n",
    "        next_name = \"node0\" # ini nanti untuk nama node berikutnya di Graphviz\n",
    "        # - kalau ternyata ada alamat...\n",
    "        if current != None:\n",
    "            # maka simpan alamat tersebut\n",
    "            next_id = hex(id(current))\n",
    "            # kita buat lebih spesifik untuk node berikutnya, tunjuk ke port id\n",
    "            next_name = \"node0:id\"\n",
    "\n",
    "        # Label (tabel) untuk pointer head\n",
    "        # - pembuka tabel\n",
    "        str_label = \"<\"\n",
    "        str_label += \"<TABLE BORDER=\\\"0\\\" CELLBORDER=\\\"1\\\" CELLSPACING=\\\"0\\\">\"\n",
    "        # - baris head\n",
    "        str_label += \"<TR><TD>head</TD></TR>\"\n",
    "        # - baris alamat (sekalian membuat port namanya \"contents\")\n",
    "        str_label += \"<TR><TD PORT=\\\"contents\\\">\" + str(next_id) + \"</TD></TR>\"\n",
    "        # - penutup tabel\n",
    "        str_label += \"</TABLE>\"\n",
    "        str_label += \">\"\n",
    "\n",
    "        # Membuat node head, membuat edge dari head ke node berikutnya\n",
    "        new_digraph.node(\"head\", shape=\"none\", label=str_label)\n",
    "        new_digraph.edge(\"head:contents\", next_name)\n",
    "        # dari port \"contents\" ke node berikutnya, yang namanya next_name\n",
    "\n",
    "        # Selama node yang ditunjuk bukan None, buatlah node nya di Graphviz,\n",
    "        # lalu lanjut ke node selanjutnya (ini traversal)\n",
    "        while current != None:\n",
    "            # Alamat yang tersimpan pada current.next\n",
    "            # - asumsi awal: tidak ada alamat; current adalah node terakhir\n",
    "            next_id = None\n",
    "            # - kalau ternyata ada alamat...\n",
    "            if current.next != None:\n",
    "                # maka simpan alamat tersebut\n",
    "                next_id = hex(id(current.next))\n",
    "\n",
    "            # serupa untuk prev\n",
    "            prev_id = None\n",
    "            if current.prev != None:\n",
    "                prev_id = hex(id(current.prev))\n",
    "\n",
    "            # Persiapan label (tabel) untuk node\n",
    "            # - pembuka tabel\n",
    "            str_label = \"<\"\n",
    "            str_label += \"<TABLE BORDER=\\\"0\\\" CELLBORDER=\\\"1\\\" CELLSPACING=\\\"0\\\">\"\n",
    "            # - baris tulisan \"prev\", \"data\", \"next\"\n",
    "            str_label += \"<TR><TD>prev</TD><TD>data</TD><TD>next</TD></TR>\"\n",
    "            # - baris untuk isi prev, isi data, dan isi next\n",
    "            str_label += \"<TR>\"\n",
    "            str_label += \"<TD PORT=\\\"prev\\\">\" + str(prev_id) + \"</TD>\"\n",
    "            str_label += \"<TD>\" + str(current.data) + \"</TD>\"\n",
    "            str_label += \"<TD PORT=\\\"next\\\">\" + str(next_id) + \"</TD>\"\n",
    "            str_label += \"</TR>\"\n",
    "            # - baris tulisan \"alamat node\", merentang dua kolom\n",
    "            str_label += \"<TR><TD COLSPAN=\\\"3\\\">alamat node</TD></TR>\"\n",
    "            # - baris untuk isi alamat node, merentang dua kolom\n",
    "            str_label += \"<TR>\"\n",
    "            str_label += \"<TD PORT=\\\"id\\\" COLSPAN=\\\"3\\\">\"\n",
    "            str_label += str(hex(id(current)))\n",
    "            str_label += \"</TD>\"\n",
    "            str_label += \"</TR>\"\n",
    "            # - penutup tabel\n",
    "            str_label += \"</TABLE>\"\n",
    "            str_label += \">\"\n",
    "\n",
    "            # Membuat node baru di Graphviz dengan label (tabel) tersebut\n",
    "            new_digraph.node(\"node\" + str(counter), shape=\"none\", label = str_label)\n",
    "\n",
    "            # Menentukan nama dua port yang bakal disambung dengan edge,\n",
    "            # yaitu (node saat ini):next disambung ke node(berikutnya):id\n",
    "            # yaitu bagian \"next\" disambung ke bagian alamat di node berikutnya\n",
    "            nama_node_next = \"node\" + str(counter) + \":next\"\n",
    "\n",
    "            # tambahan untuk doubly linked list\n",
    "            nama_node_prev = \"node\" + str(counter) + \":prev\"\n",
    "\n",
    "            if current.next != None:\n",
    "                nama_alamat_node_berikutnya = \"node\" + str(counter+1) + \":id\"\n",
    "            # atau ke node(berikutnya) saja tanpa id kalau itu ternyata None,\n",
    "            # karena None tidak akan memiliki port id\n",
    "            else:\n",
    "                nama_alamat_node_berikutnya = \"node\" + str(counter+1)\n",
    "\n",
    "            # Menyambung keduanya\n",
    "            new_digraph.edge(nama_node_next, nama_alamat_node_berikutnya)\n",
    "\n",
    "            # tambahan untuk doubly linked list\n",
    "            if current.prev != None:\n",
    "                nama_alamat_node_sebelumnya = \"node\" + str(counter-1) + \":id\"\n",
    "            else:\n",
    "                nama_alamat_node_sebelumnya = \"node\" + str(counter-1)\n",
    "            if current == self.head:\n",
    "                new_digraph.node(\"node-1\", shape=\"none\", label=\"None\")\n",
    "            new_digraph.edge(nama_node_prev, nama_alamat_node_sebelumnya)\n",
    "\n",
    "            # Lanjut ke node selanjutnya\n",
    "            current = current.next\n",
    "            counter += 1\n",
    "        # Kalau sudah keluar loop, artinya current menunjuk ke None\n",
    "        # Berarti tinggal membuat \"node\" terakhir berisi tulisan None\n",
    "        # (karena sambungannya sudah dibuat di dalam loop, tinggal node nya)\n",
    "        new_digraph.node(\"node\" + str(counter), shape=\"none\", label=\"None\")\n",
    "\n",
    "        # Tambah pointer tail\n",
    "        # - asumsi awal: tidak ada alamat (None)\n",
    "        tail_id = None\n",
    "        tail_name = \"node\" + str(counter-1) # ini nanti untuk nama node tail\n",
    "        # - kalau ternyata ada alamat...\n",
    "        if self.tail != None:\n",
    "            # maka simpan alamat tersebut\n",
    "            tail_id = hex(id(self.tail))\n",
    "            # kita buat lebih spesifik untuk node berikutnya, tunjuk ke port id\n",
    "            tail_name += \":id\"\n",
    "\n",
    "        # Label (tabel) untuk pointer tail\n",
    "        # - pembuka tabel\n",
    "        str_label = \"<\"\n",
    "        str_label += \"<TABLE BORDER=\\\"0\\\" CELLBORDER=\\\"1\\\" CELLSPACING=\\\"0\\\">\"\n",
    "        # - baris head\n",
    "        str_label += \"<TR><TD>tail</TD></TR>\"\n",
    "        # - baris alamat (sekalian membuat port namanya \"contents\")\n",
    "        str_label += \"<TR><TD PORT=\\\"contents\\\">\" + str(tail_id) + \"</TD></TR>\"\n",
    "        # - penutup tabel\n",
    "        str_label += \"</TABLE>\"\n",
    "        str_label += \">\"\n",
    "\n",
    "        # Membuat node tail, membuat edge dari tail ke node nya\n",
    "        new_digraph.node(\"tail\", shape=\"none\", label=str_label)\n",
    "        new_digraph.edge(\"tail:contents\", tail_name)\n",
    "        # dari port \"contents\" ke node yang ditunjuk tail, namanya tail_name\n",
    "\n",
    "        # Digraph sudah jadi\n",
    "        return new_digraph"
   ]
  },
  {
   "cell_type": "code",
   "execution_count": 22,
   "metadata": {
    "id": "bSxt1bpePHJa"
   },
   "outputs": [],
   "source": [
    "testDL = DLList()\n",
    "testDL.ins_front(5)\n",
    "testDL.ins_front(15)\n",
    "testDL.ins_front(25)\n",
    "testDL.ins_front(35)"
   ]
  },
  {
   "cell_type": "code",
   "execution_count": 23,
   "metadata": {
    "colab": {
     "base_uri": "https://localhost:8080/"
    },
    "id": "AujC_6M5PHJa",
    "outputId": "ea3cc204-e0e0-4bfb-e228-cab1559cb002"
   },
   "outputs": [
    {
     "name": "stdout",
     "output_type": "stream",
     "text": [
      "head -> 35 <-> 25 <-> 15 <-> 5 <- tail\n"
     ]
    }
   ],
   "source": [
    "testDL.print_all()"
   ]
  },
  {
   "cell_type": "code",
   "execution_count": 24,
   "metadata": {
    "id": "joYZ7aU3PHJa"
   },
   "outputs": [],
   "source": [
    "gambarDL = testDL.get_digraph()"
   ]
  },
  {
   "cell_type": "code",
   "execution_count": 25,
   "metadata": {
    "colab": {
     "base_uri": "https://localhost:8080/",
     "height": 381
    },
    "id": "zICjptHZPHJb",
    "outputId": "c4416a1c-9383-4645-c79b-28b8f2aec995"
   },
   "outputs": [
    {
     "data": {
      "image/svg+xml": [
       "<?xml version=\"1.0\" encoding=\"UTF-8\" standalone=\"no\"?>\n",
       "<!DOCTYPE svg PUBLIC \"-//W3C//DTD SVG 1.1//EN\"\n",
       " \"http://www.w3.org/Graphics/SVG/1.1/DTD/svg11.dtd\">\n",
       "<!-- Generated by graphviz version 9.0.0 (20230911.1827)\n",
       " -->\n",
       "<!-- Pages: 1 -->\n",
       "<svg width=\"1169pt\" height=\"255pt\"\n",
       " viewBox=\"0.00 0.00 1168.50 255.11\" xmlns=\"http://www.w3.org/2000/svg\" xmlns:xlink=\"http://www.w3.org/1999/xlink\">\n",
       "<g id=\"graph0\" class=\"graph\" transform=\"scale(1 1) rotate(0) translate(4 251.11)\">\n",
       "<polygon fill=\"white\" stroke=\"none\" points=\"-4,4 -4,-251.11 1164.5,-251.11 1164.5,4 -4,4\"/>\n",
       "<!-- head -->\n",
       "<g id=\"node1\" class=\"node\">\n",
       "<title>head</title>\n",
       "<polygon fill=\"none\" stroke=\"black\" points=\"8,-137.75 8,-159.5 102.5,-159.5 102.5,-137.75 8,-137.75\"/>\n",
       "<text text-anchor=\"start\" x=\"42.12\" y=\"-143.2\" font-family=\"Times New Roman,serif\" font-size=\"14.00\">head</text>\n",
       "<polygon fill=\"none\" stroke=\"black\" points=\"8,-116 8,-137.75 102.5,-137.75 102.5,-116 8,-116\"/>\n",
       "<text text-anchor=\"start\" x=\"11\" y=\"-121.45\" font-family=\"Times New Roman,serif\" font-size=\"14.00\">0x1d2476ecb00</text>\n",
       "</g>\n",
       "<!-- node0 -->\n",
       "<g id=\"node2\" class=\"node\">\n",
       "<title>node0</title>\n",
       "<polygon fill=\"none\" stroke=\"black\" points=\"154.5,-179.75 154.5,-200.75 190.5,-200.75 190.5,-179.75 154.5,-179.75\"/>\n",
       "<text text-anchor=\"start\" x=\"160.12\" y=\"-184.45\" font-family=\"Times New Roman,serif\" font-size=\"14.00\">prev</text>\n",
       "<polygon fill=\"none\" stroke=\"black\" points=\"190.5,-179.75 190.5,-200.75 219.5,-200.75 219.5,-179.75 190.5,-179.75\"/>\n",
       "<text text-anchor=\"start\" x=\"193.38\" y=\"-184.45\" font-family=\"Times New Roman,serif\" font-size=\"14.00\">data</text>\n",
       "<polygon fill=\"none\" stroke=\"black\" points=\"219.5,-179.75 219.5,-200.75 312.5,-200.75 312.5,-179.75 219.5,-179.75\"/>\n",
       "<text text-anchor=\"start\" x=\"254.38\" y=\"-184.45\" font-family=\"Times New Roman,serif\" font-size=\"14.00\">next</text>\n",
       "<polygon fill=\"none\" stroke=\"black\" points=\"154.5,-158.75 154.5,-179.75 190.5,-179.75 190.5,-158.75 154.5,-158.75\"/>\n",
       "<text text-anchor=\"start\" x=\"157.5\" y=\"-163.45\" font-family=\"Times New Roman,serif\" font-size=\"14.00\">None</text>\n",
       "<polygon fill=\"none\" stroke=\"black\" points=\"190.5,-158.75 190.5,-179.75 219.5,-179.75 219.5,-158.75 190.5,-158.75\"/>\n",
       "<text text-anchor=\"start\" x=\"198.25\" y=\"-163.45\" font-family=\"Times New Roman,serif\" font-size=\"14.00\">35</text>\n",
       "<polygon fill=\"none\" stroke=\"black\" points=\"219.5,-158.75 219.5,-179.75 312.5,-179.75 312.5,-158.75 219.5,-158.75\"/>\n",
       "<text text-anchor=\"start\" x=\"222.5\" y=\"-163.45\" font-family=\"Times New Roman,serif\" font-size=\"14.00\">0x1d2476e1e50</text>\n",
       "<polygon fill=\"none\" stroke=\"black\" points=\"154.5,-137.75 154.5,-158.75 312.5,-158.75 312.5,-137.75 154.5,-137.75\"/>\n",
       "<text text-anchor=\"start\" x=\"200.12\" y=\"-142.45\" font-family=\"Times New Roman,serif\" font-size=\"14.00\">alamat node</text>\n",
       "<polygon fill=\"none\" stroke=\"black\" points=\"154.5,-116.75 154.5,-137.75 312.5,-137.75 312.5,-116.75 154.5,-116.75\"/>\n",
       "<text text-anchor=\"start\" x=\"189.25\" y=\"-121.45\" font-family=\"Times New Roman,serif\" font-size=\"14.00\">0x1d2476ecb00</text>\n",
       "</g>\n",
       "<!-- head&#45;&gt;node0 -->\n",
       "<g id=\"edge1\" class=\"edge\">\n",
       "<title>head:contents&#45;&gt;node0:id</title>\n",
       "<path fill=\"none\" stroke=\"black\" d=\"M103.25,-126.75C121.22,-126.75 128.35,-126.75 142.08,-126.75\"/>\n",
       "<polygon fill=\"black\" stroke=\"black\" points=\"141.99,-130.25 151.99,-126.75 141.99,-123.25 141.99,-130.25\"/>\n",
       "</g>\n",
       "<!-- node1 -->\n",
       "<g id=\"node3\" class=\"node\">\n",
       "<title>node1</title>\n",
       "<polygon fill=\"none\" stroke=\"black\" points=\"364.5,-136.75 364.5,-157.75 458.5,-157.75 458.5,-136.75 364.5,-136.75\"/>\n",
       "<text text-anchor=\"start\" x=\"399.12\" y=\"-141.45\" font-family=\"Times New Roman,serif\" font-size=\"14.00\">prev</text>\n",
       "<polygon fill=\"none\" stroke=\"black\" points=\"458.5,-136.75 458.5,-157.75 487.5,-157.75 487.5,-136.75 458.5,-136.75\"/>\n",
       "<text text-anchor=\"start\" x=\"461.38\" y=\"-141.45\" font-family=\"Times New Roman,serif\" font-size=\"14.00\">data</text>\n",
       "<polygon fill=\"none\" stroke=\"black\" points=\"487.5,-136.75 487.5,-157.75 582.5,-157.75 582.5,-136.75 487.5,-136.75\"/>\n",
       "<text text-anchor=\"start\" x=\"523.38\" y=\"-141.45\" font-family=\"Times New Roman,serif\" font-size=\"14.00\">next</text>\n",
       "<polygon fill=\"none\" stroke=\"black\" points=\"364.5,-115.75 364.5,-136.75 458.5,-136.75 458.5,-115.75 364.5,-115.75\"/>\n",
       "<text text-anchor=\"start\" x=\"367.25\" y=\"-120.45\" font-family=\"Times New Roman,serif\" font-size=\"14.00\">0x1d2476ecb00</text>\n",
       "<polygon fill=\"none\" stroke=\"black\" points=\"458.5,-115.75 458.5,-136.75 487.5,-136.75 487.5,-115.75 458.5,-115.75\"/>\n",
       "<text text-anchor=\"start\" x=\"466.25\" y=\"-120.45\" font-family=\"Times New Roman,serif\" font-size=\"14.00\">25</text>\n",
       "<polygon fill=\"none\" stroke=\"black\" points=\"487.5,-115.75 487.5,-136.75 582.5,-136.75 582.5,-115.75 487.5,-115.75\"/>\n",
       "<text text-anchor=\"start\" x=\"490.38\" y=\"-120.45\" font-family=\"Times New Roman,serif\" font-size=\"14.00\">0x1d2476e1bd0</text>\n",
       "<polygon fill=\"none\" stroke=\"black\" points=\"364.5,-94.75 364.5,-115.75 582.5,-115.75 582.5,-94.75 364.5,-94.75\"/>\n",
       "<text text-anchor=\"start\" x=\"440.12\" y=\"-99.45\" font-family=\"Times New Roman,serif\" font-size=\"14.00\">alamat node</text>\n",
       "<polygon fill=\"none\" stroke=\"black\" points=\"364.5,-73.75 364.5,-94.75 582.5,-94.75 582.5,-73.75 364.5,-73.75\"/>\n",
       "<text text-anchor=\"start\" x=\"430\" y=\"-78.45\" font-family=\"Times New Roman,serif\" font-size=\"14.00\">0x1d2476e1e50</text>\n",
       "</g>\n",
       "<!-- node0&#45;&gt;node1 -->\n",
       "<g id=\"edge2\" class=\"edge\">\n",
       "<title>node0:next&#45;&gt;node1:id</title>\n",
       "<path fill=\"none\" stroke=\"black\" d=\"M313.5,-169.75C353.22,-169.75 326.24,-100.33 352.41,-86.23\"/>\n",
       "<polygon fill=\"black\" stroke=\"black\" points=\"353.03,-89.68 362.02,-84.08 351.5,-82.85 353.03,-89.68\"/>\n",
       "</g>\n",
       "<!-- node&#45;1 -->\n",
       "<g id=\"node4\" class=\"node\">\n",
       "<title>node&#45;1</title>\n",
       "<text text-anchor=\"middle\" x=\"473.5\" y=\"-192.32\" font-family=\"Times New Roman,serif\" font-size=\"14.00\">None</text>\n",
       "</g>\n",
       "<!-- node0&#45;&gt;node&#45;1 -->\n",
       "<g id=\"edge3\" class=\"edge\">\n",
       "<title>node0:prev&#45;&gt;node&#45;1</title>\n",
       "<path fill=\"none\" stroke=\"black\" d=\"M153.5,-169.75C137.94,-169.75 143.34,-193.9 154.5,-204.75 230.12,-278.24 369.86,-238.2 435.99,-213.11\"/>\n",
       "<polygon fill=\"black\" stroke=\"black\" points=\"437.25,-216.38 445.29,-209.48 434.7,-209.86 437.25,-216.38\"/>\n",
       "</g>\n",
       "<!-- node1&#45;&gt;node0 -->\n",
       "<g id=\"edge5\" class=\"edge\">\n",
       "<title>node1:prev&#45;&gt;node0:id</title>\n",
       "<path fill=\"none\" stroke=\"black\" d=\"M363.5,-126.75C345.62,-126.75 338.53,-126.75 324.86,-126.75\"/>\n",
       "<polygon fill=\"black\" stroke=\"black\" points=\"325.01,-123.25 315.01,-126.75 325.01,-130.25 325.01,-123.25\"/>\n",
       "</g>\n",
       "<!-- node2 -->\n",
       "<g id=\"node5\" class=\"node\">\n",
       "<title>node2</title>\n",
       "<polygon fill=\"none\" stroke=\"black\" points=\"634.5,-136.75 634.5,-157.75 727.5,-157.75 727.5,-136.75 634.5,-136.75\"/>\n",
       "<text text-anchor=\"start\" x=\"668.62\" y=\"-141.45\" font-family=\"Times New Roman,serif\" font-size=\"14.00\">prev</text>\n",
       "<polygon fill=\"none\" stroke=\"black\" points=\"727.5,-136.75 727.5,-157.75 756.5,-157.75 756.5,-136.75 727.5,-136.75\"/>\n",
       "<text text-anchor=\"start\" x=\"730.38\" y=\"-141.45\" font-family=\"Times New Roman,serif\" font-size=\"14.00\">data</text>\n",
       "<polygon fill=\"none\" stroke=\"black\" points=\"756.5,-136.75 756.5,-157.75 850.5,-157.75 850.5,-136.75 756.5,-136.75\"/>\n",
       "<text text-anchor=\"start\" x=\"791.88\" y=\"-141.45\" font-family=\"Times New Roman,serif\" font-size=\"14.00\">next</text>\n",
       "<polygon fill=\"none\" stroke=\"black\" points=\"634.5,-115.75 634.5,-136.75 727.5,-136.75 727.5,-115.75 634.5,-115.75\"/>\n",
       "<text text-anchor=\"start\" x=\"637.5\" y=\"-120.45\" font-family=\"Times New Roman,serif\" font-size=\"14.00\">0x1d2476e1e50</text>\n",
       "<polygon fill=\"none\" stroke=\"black\" points=\"727.5,-115.75 727.5,-136.75 756.5,-136.75 756.5,-115.75 727.5,-115.75\"/>\n",
       "<text text-anchor=\"start\" x=\"735.25\" y=\"-120.45\" font-family=\"Times New Roman,serif\" font-size=\"14.00\">15</text>\n",
       "<polygon fill=\"none\" stroke=\"black\" points=\"756.5,-115.75 756.5,-136.75 850.5,-136.75 850.5,-115.75 756.5,-115.75\"/>\n",
       "<text text-anchor=\"start\" x=\"759.25\" y=\"-120.45\" font-family=\"Times New Roman,serif\" font-size=\"14.00\">0x1d24774da90</text>\n",
       "<polygon fill=\"none\" stroke=\"black\" points=\"634.5,-94.75 634.5,-115.75 850.5,-115.75 850.5,-94.75 634.5,-94.75\"/>\n",
       "<text text-anchor=\"start\" x=\"709.12\" y=\"-99.45\" font-family=\"Times New Roman,serif\" font-size=\"14.00\">alamat node</text>\n",
       "<polygon fill=\"none\" stroke=\"black\" points=\"634.5,-73.75 634.5,-94.75 850.5,-94.75 850.5,-73.75 634.5,-73.75\"/>\n",
       "<text text-anchor=\"start\" x=\"697.88\" y=\"-78.45\" font-family=\"Times New Roman,serif\" font-size=\"14.00\">0x1d2476e1bd0</text>\n",
       "</g>\n",
       "<!-- node1&#45;&gt;node2 -->\n",
       "<g id=\"edge4\" class=\"edge\">\n",
       "<title>node1:next&#45;&gt;node2:id</title>\n",
       "<path fill=\"none\" stroke=\"black\" d=\"M583.5,-126.75C608.46,-126.75 605.91,-95.57 622.71,-86.31\"/>\n",
       "<polygon fill=\"black\" stroke=\"black\" points=\"623.11,-89.81 632.03,-84.1 621.49,-83 623.11,-89.81\"/>\n",
       "</g>\n",
       "<!-- node2&#45;&gt;node1 -->\n",
       "<g id=\"edge7\" class=\"edge\">\n",
       "<title>node2:prev&#45;&gt;node1:id</title>\n",
       "<path fill=\"none\" stroke=\"black\" d=\"M633.5,-126.75C608.54,-126.75 611.09,-95.57 594.29,-86.31\"/>\n",
       "<polygon fill=\"black\" stroke=\"black\" points=\"595.51,-83 584.97,-84.1 593.89,-89.81 595.51,-83\"/>\n",
       "</g>\n",
       "<!-- node3 -->\n",
       "<g id=\"node6\" class=\"node\">\n",
       "<title>node3</title>\n",
       "<polygon fill=\"none\" stroke=\"black\" points=\"902.5,-93.75 902.5,-114.75 997.5,-114.75 997.5,-93.75 902.5,-93.75\"/>\n",
       "<text text-anchor=\"start\" x=\"937.62\" y=\"-98.45\" font-family=\"Times New Roman,serif\" font-size=\"14.00\">prev</text>\n",
       "<polygon fill=\"none\" stroke=\"black\" points=\"997.5,-93.75 997.5,-114.75 1026.5,-114.75 1026.5,-93.75 997.5,-93.75\"/>\n",
       "<text text-anchor=\"start\" x=\"1000.38\" y=\"-98.45\" font-family=\"Times New Roman,serif\" font-size=\"14.00\">data</text>\n",
       "<polygon fill=\"none\" stroke=\"black\" points=\"1026.5,-93.75 1026.5,-114.75 1062.5,-114.75 1062.5,-93.75 1026.5,-93.75\"/>\n",
       "<text text-anchor=\"start\" x=\"1032.88\" y=\"-98.45\" font-family=\"Times New Roman,serif\" font-size=\"14.00\">next</text>\n",
       "<polygon fill=\"none\" stroke=\"black\" points=\"902.5,-72.75 902.5,-93.75 997.5,-93.75 997.5,-72.75 902.5,-72.75\"/>\n",
       "<text text-anchor=\"start\" x=\"905.38\" y=\"-77.45\" font-family=\"Times New Roman,serif\" font-size=\"14.00\">0x1d2476e1bd0</text>\n",
       "<polygon fill=\"none\" stroke=\"black\" points=\"997.5,-72.75 997.5,-93.75 1026.5,-93.75 1026.5,-72.75 997.5,-72.75\"/>\n",
       "<text text-anchor=\"start\" x=\"1008.62\" y=\"-77.45\" font-family=\"Times New Roman,serif\" font-size=\"14.00\">5</text>\n",
       "<polygon fill=\"none\" stroke=\"black\" points=\"1026.5,-72.75 1026.5,-93.75 1062.5,-93.75 1062.5,-72.75 1026.5,-72.75\"/>\n",
       "<text text-anchor=\"start\" x=\"1029.5\" y=\"-77.45\" font-family=\"Times New Roman,serif\" font-size=\"14.00\">None</text>\n",
       "<polygon fill=\"none\" stroke=\"black\" points=\"902.5,-51.75 902.5,-72.75 1062.5,-72.75 1062.5,-51.75 902.5,-51.75\"/>\n",
       "<text text-anchor=\"start\" x=\"949.12\" y=\"-56.45\" font-family=\"Times New Roman,serif\" font-size=\"14.00\">alamat node</text>\n",
       "<polygon fill=\"none\" stroke=\"black\" points=\"902.5,-30.75 902.5,-51.75 1062.5,-51.75 1062.5,-30.75 902.5,-30.75\"/>\n",
       "<text text-anchor=\"start\" x=\"938.25\" y=\"-35.45\" font-family=\"Times New Roman,serif\" font-size=\"14.00\">0x1d24774da90</text>\n",
       "</g>\n",
       "<!-- node2&#45;&gt;node3 -->\n",
       "<g id=\"edge6\" class=\"edge\">\n",
       "<title>node2:next&#45;&gt;node3:id</title>\n",
       "<path fill=\"none\" stroke=\"black\" d=\"M851.5,-126.75C891.22,-126.75 864.24,-57.33 890.41,-43.23\"/>\n",
       "<polygon fill=\"black\" stroke=\"black\" points=\"891.03,-46.68 900.02,-41.08 889.5,-39.85 891.03,-46.68\"/>\n",
       "</g>\n",
       "<!-- node3&#45;&gt;node2 -->\n",
       "<g id=\"edge9\" class=\"edge\">\n",
       "<title>node3:prev&#45;&gt;node2:id</title>\n",
       "<path fill=\"none\" stroke=\"black\" d=\"M901.5,-83.75C883.62,-83.75 876.53,-83.75 862.86,-83.75\"/>\n",
       "<polygon fill=\"black\" stroke=\"black\" points=\"863.01,-80.25 853.01,-83.75 863.01,-87.25 863.01,-80.25\"/>\n",
       "</g>\n",
       "<!-- node4 -->\n",
       "<g id=\"node7\" class=\"node\">\n",
       "<title>node4</title>\n",
       "<text text-anchor=\"middle\" x=\"1133.5\" y=\"-78.33\" font-family=\"Times New Roman,serif\" font-size=\"14.00\">None</text>\n",
       "</g>\n",
       "<!-- node3&#45;&gt;node4 -->\n",
       "<g id=\"edge8\" class=\"edge\">\n",
       "<title>node3:next&#45;&gt;node4</title>\n",
       "<path fill=\"none\" stroke=\"black\" d=\"M1063.5,-83.75C1073.86,-83.75 1085.09,-83.75 1095.42,-83.75\"/>\n",
       "<polygon fill=\"black\" stroke=\"black\" points=\"1095.1,-87.25 1105.1,-83.75 1095.1,-80.25 1095.1,-87.25\"/>\n",
       "</g>\n",
       "<!-- tail -->\n",
       "<g id=\"node8\" class=\"node\">\n",
       "<title>tail</title>\n",
       "<polygon fill=\"none\" stroke=\"black\" points=\"695.25,-25.75 695.25,-47.5 789.75,-47.5 789.75,-25.75 695.25,-25.75\"/>\n",
       "<text text-anchor=\"start\" x=\"734.62\" y=\"-31.2\" font-family=\"Times New Roman,serif\" font-size=\"14.00\">tail</text>\n",
       "<polygon fill=\"none\" stroke=\"black\" points=\"695.25,-4 695.25,-25.75 789.75,-25.75 789.75,-4 695.25,-4\"/>\n",
       "<text text-anchor=\"start\" x=\"698.25\" y=\"-9.45\" font-family=\"Times New Roman,serif\" font-size=\"14.00\">0x1d24774da90</text>\n",
       "</g>\n",
       "<!-- tail&#45;&gt;node3 -->\n",
       "<g id=\"edge10\" class=\"edge\">\n",
       "<title>tail:contents&#45;&gt;node3:id</title>\n",
       "<path fill=\"none\" stroke=\"black\" d=\"M790.5,-14.75C837.11,-14.75 849.02,-36.75 890.07,-40.28\"/>\n",
       "<polygon fill=\"black\" stroke=\"black\" points=\"889.85,-43.77 899.99,-40.69 890.14,-36.78 889.85,-43.77\"/>\n",
       "</g>\n",
       "</g>\n",
       "</svg>\n"
      ],
      "text/plain": [
       "<graphviz.graphs.Digraph at 0x1d2476e1d10>"
      ]
     },
     "metadata": {},
     "output_type": "display_data"
    }
   ],
   "source": [
    "display(gambarDL)"
   ]
  },
  {
   "cell_type": "markdown",
   "metadata": {},
   "source": [
    "# (Singly) Circular Linked List"
   ]
  },
  {
   "cell_type": "markdown",
   "metadata": {},
   "source": [
    "Selanjutnya kita akan bahas mengenai variasi lain dari *linked list*, yaitu *circular linked list*. Jika sebelumnya node paling belakang pada suatu *linked list* tidak menyimpan referensi ke node manapun (`None`), pada *circular linked list* node paling belakang akan menyimpan referensi ke node paling depan sehingga membentuk lingkaran rantai yang tidak terputus. \n",
    "\n",
    "Pada *linked list* biasa, kita menggunakan `head`, yang menunjuk ke node pertama, sebagai referensi utama. Namun pada *circular linked list*, karena sifatnya yang melingkar, jika kita buat pointer utama kita ke node manapun akan sama saja. Untuk memudahkan, kita akan buat pointer utama kita menunjuk ke elemen terakhir dalam *linked list*."
   ]
  },
  {
   "cell_type": "code",
   "execution_count": 29,
   "metadata": {},
   "outputs": [],
   "source": [
    "class CSLNode:\n",
    "    def __init__(self, data, next=None):\n",
    "        self.data = data\n",
    "        self.next = next"
   ]
  },
  {
   "cell_type": "code",
   "execution_count": 137,
   "metadata": {},
   "outputs": [],
   "source": [
    "class CSLList:\n",
    "    def __init__(self):\n",
    "        self.tail = None\n",
    "\n",
    "    # Memeriksa apakah linked list kosong\n",
    "    def is_empty(self):\n",
    "        if self.tail == None:\n",
    "            return True\n",
    "        else:\n",
    "            return False\n",
    "\n",
    "    # Jika sebelumnya kita traversal hingga menemukan None, sekarang traversal hingga menemukan head\n",
    "    def get_size(self):\n",
    "        count = 0\n",
    "        if self.tail.next == self.tail:\n",
    "            count = 1\n",
    "            return count\n",
    "        current = self.tail.next\n",
    "        while current != self.tail.next:\n",
    "            count += 1\n",
    "            current = current.next\n",
    "        return count\n",
    "\n",
    "    # Traversal, print masing-masing data node dari awal sampai akhir\n",
    "    def print_all(self):\n",
    "        if self.is_empty():\n",
    "            print(\"None <- Tail\")\n",
    "        else:\n",
    "            print(\"Tail.next -> \", end=\"\")\n",
    "            temp = self.tail.next\n",
    "            while temp != self.tail:\n",
    "                print(temp.data, end = \" -> \")\n",
    "                temp = temp.next\n",
    "            print(self.tail.data, \"<- Tail\")\n",
    "\n",
    "    # Traversal, semacam linear search, cari letak node dengan data tertentu\n",
    "    def get_pos(self, x):\n",
    "        pos = -1\n",
    "        current = self.tail.next\n",
    "        while current != self.tail.next:\n",
    "            pos += 1\n",
    "            if current.data == x:\n",
    "                return pos\n",
    "            current = current.next\n",
    "        return -1\n",
    "\n",
    "    # Insert node baru didepan atau belakang sama saja, bedanya adalah apakah pointer utama kita berubah atau tidak\n",
    "    # namun kita juga perlu menyambungkan node di belakang ke node baru\n",
    "    def ins_front(self, newdata):\n",
    "        newnode = CSLNode(newdata)\n",
    "        if self.is_empty():\n",
    "            self.tail = newnode\n",
    "            newnode.next = self.tail\n",
    "        else:\n",
    "            newnode.next = self.tail.next\n",
    "            self.tail.next = newnode\n",
    "\n",
    "    def ins_end(self, newdata):\n",
    "        newnode = CSLNode(newdata)\n",
    "        if self.is_empty():\n",
    "            self.tail = newnode\n",
    "            newnode.next = self.tail\n",
    "        else:\n",
    "            newnode.next = self.tail.next\n",
    "            self.tail.next = newnode\n",
    "            self.tail = newnode\n",
    "\n",
    "    # Insert node baru di tengah\n",
    "    def ins_pos(self, newdata, pos):\n",
    "        if pos == 0:\n",
    "            self.ins_front(newdata) \n",
    "        elif pos == self.get_size():\n",
    "            self.ins_end(newdata)\n",
    "        else:\n",
    "            current_pos = 0\n",
    "            current = self.tail.next\n",
    "            while (current != self.tail.next) and (current_pos != pos-1):\n",
    "                current = current.next\n",
    "                current_pos += 1\n",
    "            # Keluar loop, bisa karena current == None atau current_pos == pos-1\n",
    "            # Kalau karena current_pos == pos-1, bisa insert\n",
    "            if (current_pos == pos-1):\n",
    "                newnode = SLNode(newdata)\n",
    "                temp = current.next\n",
    "                current.next = newnode\n",
    "                newnode.next = temp\n",
    "            # Tapi kalau karena current == None,\n",
    "            # berarti posisi yang diminta melampaui panjang linked list\n",
    "            else:\n",
    "                print(\"Error: posisi melebihi panjang linked list\")\n",
    "\n",
    "    # Delete node di depan\n",
    "    def del_front(self):\n",
    "        if self.is_empty():\n",
    "            print(\"Error: linked list sudah kosong\")\n",
    "        elif self.get_size() == 1:\n",
    "            temp = self.tail\n",
    "            del temp\n",
    "            self.tail = None\n",
    "        else:\n",
    "            # sama saja dengan temp = head.next\n",
    "            temp = self.tail.next.next\n",
    "            del self.tail.next\n",
    "            self.tail.next = temp\n",
    "\n",
    "    # Delete node di belakang\n",
    "    def del_end(self):\n",
    "        if self.is_empty():\n",
    "            print(\"Error: linked list sudah kosong\")\n",
    "        elif self.get_size() == 1:\n",
    "            temp = self.tail\n",
    "            del temp\n",
    "            self.tail = None\n",
    "        else:\n",
    "            temp = self.tail.next\n",
    "            while temp.next != self.tail:\n",
    "                temp = temp.next\n",
    "\n",
    "            # sekarang temp ada di node sebelum terakhir\n",
    "            temp.next = self.tail.next\n",
    "            del self.tail\n",
    "            self.tail = temp\n",
    "\n",
    "    # Delete node di tengah. Mirip ins_pos, hanya berbeda di bagian current_pos == pos-1\n",
    "    def del_pos(self, pos):\n",
    "        if pos == 0:\n",
    "            self.del_front()\n",
    "        elif pos == self.get_size():\n",
    "            self.del_end()\n",
    "        else:\n",
    "            current_pos = 0\n",
    "            current = self.tail.next\n",
    "            while (current != None) and (current_pos != pos-1):\n",
    "                current = current.next\n",
    "                current_pos += 1\n",
    "            # Keluar loop, bisa karena current == None atau current_pos == pos-1\n",
    "            # Kalau karena current_pos == pos-1, maka bisa dihapus selama\n",
    "            # current.next yang mau dihapus itu memang ada\n",
    "            if (current_pos == pos-1) and (current.next != None):\n",
    "                temp = current.next.next\n",
    "                del current.next\n",
    "                current.next = temp\n",
    "            # Tapi kalau karena current == None, atau current.next tidak ada,\n",
    "            # berarti posisi yang diminta melampaui panjang linked list\n",
    "            else:\n",
    "                print(\"Error: posisi melebihi panjang linked list\")\n",
    "\n",
    "    # Menghapus semua node di linked list\n",
    "    def del_all(self):\n",
    "        while (not self.is_empty()):\n",
    "            self.del_front()\n",
    "\n",
    "    # Method untuk memperoleh digraph yang menggambarkan linked list nya :D\n",
    "    def get_digraph(self):\n",
    "        # Buat digraph baru yang sifatnya dari kiri ke kanan\n",
    "        new_digraph = gv.Digraph(graph_attr={\"rankdir\": \"LR\"})\n",
    "\n",
    "        if self.is_empty():\n",
    "            return new_digraph\n",
    "        # Pointer untuk menunjuk ke tiap node, mulai dari node pertama\n",
    "        # (akan dilakukan traversal)\n",
    "        current = self.tail.next\n",
    "\n",
    "        # Untuk menghitung node ke-sekian untuk nama node di Graphviz,\n",
    "        # sehingga head menunjuk ke node0, lalu node0 menunjuk ke node1, dst\n",
    "        counter = 0\n",
    "\n",
    "        # Selama node yang ditunjuk bukan None, buatlah node nya di Graphviz,\n",
    "        # lalu lanjut ke node selanjutnya (ini traversal)\n",
    "        while current != self.tail:\n",
    "            # Alamat yang tersimpan pada current.next\n",
    "            # - asumsi awal: tidak ada alamat; current adalah node terakhir\n",
    "            next_id = None\n",
    "            # - kalau ternyata ada alamat...\n",
    "            if current.next != self.tail:\n",
    "                # maka simpan alamat tersebut\n",
    "                next_id = hex(id(current.next))\n",
    "\n",
    "            # Persiapan label (tabel) untuk node\n",
    "            # - pembuka tabel\n",
    "            str_label = \"<\"\n",
    "            str_label += \"<TABLE BORDER=\\\"0\\\" CELLBORDER=\\\"1\\\" CELLSPACING=\\\"0\\\">\"\n",
    "            # - baris tulisan \"data\", \"next\"\n",
    "            str_label += \"<TR><TD>data</TD><TD>next</TD></TR>\"\n",
    "            # - baris untuk isi data dan isi next\n",
    "            str_label += \"<TR>\"\n",
    "            str_label += \"<TD>\" + str(current.data) + \"</TD>\"\n",
    "            str_label += \"<TD PORT=\\\"next\\\">\" + str(next_id) + \"</TD>\"\n",
    "            str_label += \"</TR>\"\n",
    "            # - baris tulisan \"alamat node\", merentang dua kolom\n",
    "            str_label += \"<TR><TD COLSPAN=\\\"2\\\">alamat node</TD></TR>\"\n",
    "            # - baris untuk isi alamat node, merentang dua kolom\n",
    "            str_label += \"<TR>\"\n",
    "            str_label += \"<TD PORT=\\\"id\\\" COLSPAN=\\\"2\\\">\"\n",
    "            str_label += str(hex(id(current)))\n",
    "            str_label += \"</TD>\"\n",
    "            str_label += \"</TR>\"\n",
    "            # - penutup tabel\n",
    "            str_label += \"</TABLE>\"\n",
    "            str_label += \">\"\n",
    "\n",
    "            # Membuat node baru di Graphviz dengan label (tabel) tersebut\n",
    "            new_digraph.node(\"node\" + str(counter), shape=\"none\", label = str_label)\n",
    "\n",
    "            # Menentukan nama dua port yang bakal disambung dengan edge,\n",
    "            # yaitu (node saat ini):next disambung ke node(berikutnya):id\n",
    "            # yaitu bagian \"next\" disambung ke bagian alamat di node berikutnya\n",
    "            nama_node_next = \"node\" + str(counter) + \":next\"\n",
    "            if current.next != self.tail:\n",
    "                nama_alamat_node_berikutnya = \"node\" + str(counter+1) + \":id\"\n",
    "            # atau ke node(berikutnya) saja tanpa id kalau itu ternyata None,\n",
    "            # karena None tidak akan memiliki port id\n",
    "            else:\n",
    "                nama_alamat_node_berikutnya = \"node\" + str(counter+1)\n",
    "\n",
    "            # Menyambung keduanya\n",
    "            new_digraph.edge(nama_node_next, nama_alamat_node_berikutnya)\n",
    "\n",
    "            # Lanjut ke node selanjutnya\n",
    "            current = current.next\n",
    "            counter += 1\n",
    "        # Kalau sudah keluar loop, artinya current menunjuk ke tail\n",
    "        # Berarti tinggal menambahkan edge ke node \n",
    "        # (karena sambungannya sudah dibuat di dalam loop, tinggal node nya)\n",
    "        # Memperoleh alamat yang sedang disimpan di head\n",
    "        # - asumsi awal: tidak ada alamat (None)\n",
    "        next_id = None\n",
    "        next_name = \"node\" + str(counter) # ini nanti untuk nama node berikutnya di Graphviz\n",
    "        # - kalau ternyata ada alamat...\n",
    "        if current == self.tail:\n",
    "            # maka simpan alamat tersebut\n",
    "            next_id = hex(id(current.next))\n",
    "            # kita buat lebih spesifik untuk node berikutnya, tunjuk ke port id\n",
    "            next_name = \"node{counter}:id\"\n",
    "\n",
    "        str_label = \"<\"\n",
    "        str_label += \"<TABLE BORDER=\\\"0\\\" CELLBORDER=\\\"1\\\" CELLSPACING=\\\"0\\\">\"\n",
    "        # - baris tulisan \"data\", \"next\"\n",
    "        str_label += \"<TR><TD>data</TD><TD>next</TD></TR>\"\n",
    "        # - baris untuk isi data dan isi next\n",
    "        str_label += \"<TR>\"\n",
    "        str_label += \"<TD>\" + str(current.data) + \"</TD>\"\n",
    "        str_label += \"<TD PORT=\\\"next\\\">\" + str(next_id) + \"</TD>\"\n",
    "        str_label += \"</TR>\"\n",
    "        # - baris tulisan \"alamat node\", merentang dua kolom\n",
    "        str_label += \"<TR><TD COLSPAN=\\\"2\\\">alamat node</TD></TR>\"\n",
    "        # - baris untuk isi alamat node, merentang dua kolom\n",
    "        str_label += \"<TR>\"\n",
    "        str_label += \"<TD PORT=\\\"id\\\" COLSPAN=\\\"2\\\">\"\n",
    "        str_label += str(hex(id(current)))\n",
    "        str_label += \"</TD>\"\n",
    "        str_label += \"</TR>\"\n",
    "        # - penutup tabel\n",
    "        str_label += \"</TABLE>\"\n",
    "        str_label += \">\"\n",
    "        # Membuat node baru di Graphviz dengan label (tabel) tersebut\n",
    "        new_digraph.node(\"node\" + str(counter), shape=\"none\", label = str_label)\n",
    "        \n",
    "        # Label (tabel) untuk pointer tail\n",
    "        # - pembuka tabel\n",
    "        str_label = \"<\"\n",
    "        str_label += \"<TABLE BORDER=\\\"0\\\" CELLBORDER=\\\"1\\\" CELLSPACING=\\\"0\\\">\"\n",
    "        # - baris tail\n",
    "        str_label += \"<TR><TD>tail</TD></TR>\"\n",
    "        # - baris alamat (sekalian membuat port namanya \"contents\")\n",
    "        str_label += \"<TR><TD PORT=\\\"contents\\\">\" + str(next_id) + \"</TD></TR>\"\n",
    "        # - penutup tabel\n",
    "        str_label += \"</TABLE>\"\n",
    "        str_label += \">\"\n",
    "\n",
    "        # Membuat node tail, membuat edge dari tail ke node berikutnya\n",
    "        new_digraph.node(\"tail\", shape=\"none\", label=str_label)\n",
    "        new_digraph.edge(\"tail:contents\", \"node\" + str(counter)+\":id\")\n",
    "        new_digraph.edge(\"node\" + str(counter)+\":id\", \"node0:id\")\n",
    "\n",
    "        # Digraph sudah jadi\n",
    "        return new_digraph"
   ]
  },
  {
   "cell_type": "code",
   "execution_count": 138,
   "metadata": {},
   "outputs": [],
   "source": [
    "testCLL = CSLList()\n",
    "testCLL.ins_front(1)\n",
    "testCLL.ins_front(5)\n",
    "testCLL.ins_front(10)\n",
    "testCLL.ins_front(15)"
   ]
  },
  {
   "cell_type": "code",
   "execution_count": 139,
   "metadata": {},
   "outputs": [
    {
     "name": "stdout",
     "output_type": "stream",
     "text": [
      "Tail.next -> 15 -> 10 -> 5 -> 1 <- Tail\n"
     ]
    }
   ],
   "source": [
    "testCLL.print_all()"
   ]
  },
  {
   "cell_type": "code",
   "execution_count": 140,
   "metadata": {},
   "outputs": [],
   "source": [
    "gambarCLL = testCLL.get_digraph()"
   ]
  },
  {
   "cell_type": "code",
   "execution_count": 141,
   "metadata": {},
   "outputs": [
    {
     "data": {
      "image/svg+xml": [
       "<?xml version=\"1.0\" encoding=\"UTF-8\" standalone=\"no\"?>\n",
       "<!DOCTYPE svg PUBLIC \"-//W3C//DTD SVG 1.1//EN\"\n",
       " \"http://www.w3.org/Graphics/SVG/1.1/DTD/svg11.dtd\">\n",
       "<!-- Generated by graphviz version 9.0.0 (20230911.1827)\n",
       " -->\n",
       "<!-- Pages: 1 -->\n",
       "<svg width=\"642pt\" height=\"230pt\"\n",
       " viewBox=\"0.00 0.00 642.25 229.75\" xmlns=\"http://www.w3.org/2000/svg\" xmlns:xlink=\"http://www.w3.org/1999/xlink\">\n",
       "<g id=\"graph0\" class=\"graph\" transform=\"scale(1 1) rotate(0) translate(4 225.75)\">\n",
       "<polygon fill=\"white\" stroke=\"none\" points=\"-4,4 -4,-225.75 638.25,-225.75 638.25,4 -4,4\"/>\n",
       "<!-- node0 -->\n",
       "<g id=\"node1\" class=\"node\">\n",
       "<title>node0</title>\n",
       "<polygon fill=\"none\" stroke=\"black\" points=\"8,-132.75 8,-153.75 37,-153.75 37,-132.75 8,-132.75\"/>\n",
       "<text text-anchor=\"start\" x=\"10.88\" y=\"-137.45\" font-family=\"Times New Roman,serif\" font-size=\"14.00\">data</text>\n",
       "<polygon fill=\"none\" stroke=\"black\" points=\"37,-132.75 37,-153.75 130,-153.75 130,-132.75 37,-132.75\"/>\n",
       "<text text-anchor=\"start\" x=\"71.88\" y=\"-137.45\" font-family=\"Times New Roman,serif\" font-size=\"14.00\">next</text>\n",
       "<polygon fill=\"none\" stroke=\"black\" points=\"8,-111.75 8,-132.75 37,-132.75 37,-111.75 8,-111.75\"/>\n",
       "<text text-anchor=\"start\" x=\"15.75\" y=\"-116.45\" font-family=\"Times New Roman,serif\" font-size=\"14.00\">15</text>\n",
       "<polygon fill=\"none\" stroke=\"black\" points=\"37,-111.75 37,-132.75 130,-132.75 130,-111.75 37,-111.75\"/>\n",
       "<text text-anchor=\"start\" x=\"39.62\" y=\"-116.45\" font-family=\"Times New Roman,serif\" font-size=\"14.00\">0x1d249030a70</text>\n",
       "<polygon fill=\"none\" stroke=\"black\" points=\"8,-90.75 8,-111.75 130,-111.75 130,-90.75 8,-90.75\"/>\n",
       "<text text-anchor=\"start\" x=\"35.62\" y=\"-95.45\" font-family=\"Times New Roman,serif\" font-size=\"14.00\">alamat node</text>\n",
       "<polygon fill=\"none\" stroke=\"black\" points=\"8,-69.75 8,-90.75 130,-90.75 130,-69.75 8,-69.75\"/>\n",
       "<text text-anchor=\"start\" x=\"24.38\" y=\"-74.45\" font-family=\"Times New Roman,serif\" font-size=\"14.00\">0x1d2490867b0</text>\n",
       "</g>\n",
       "<!-- node1 -->\n",
       "<g id=\"node2\" class=\"node\">\n",
       "<title>node1</title>\n",
       "<polygon fill=\"none\" stroke=\"black\" points=\"182,-174.75 182,-195.75 211,-195.75 211,-174.75 182,-174.75\"/>\n",
       "<text text-anchor=\"start\" x=\"184.88\" y=\"-179.45\" font-family=\"Times New Roman,serif\" font-size=\"14.00\">data</text>\n",
       "<polygon fill=\"none\" stroke=\"black\" points=\"211,-174.75 211,-195.75 303,-195.75 303,-174.75 211,-174.75\"/>\n",
       "<text text-anchor=\"start\" x=\"245.38\" y=\"-179.45\" font-family=\"Times New Roman,serif\" font-size=\"14.00\">next</text>\n",
       "<polygon fill=\"none\" stroke=\"black\" points=\"182,-153.75 182,-174.75 211,-174.75 211,-153.75 182,-153.75\"/>\n",
       "<text text-anchor=\"start\" x=\"189.75\" y=\"-158.45\" font-family=\"Times New Roman,serif\" font-size=\"14.00\">10</text>\n",
       "<polygon fill=\"none\" stroke=\"black\" points=\"211,-153.75 211,-174.75 303,-174.75 303,-153.75 211,-153.75\"/>\n",
       "<text text-anchor=\"start\" x=\"213.88\" y=\"-158.45\" font-family=\"Times New Roman,serif\" font-size=\"14.00\">0x1d249030f50</text>\n",
       "<polygon fill=\"none\" stroke=\"black\" points=\"182,-132.75 182,-153.75 303,-153.75 303,-132.75 182,-132.75\"/>\n",
       "<text text-anchor=\"start\" x=\"209.12\" y=\"-137.45\" font-family=\"Times New Roman,serif\" font-size=\"14.00\">alamat node</text>\n",
       "<polygon fill=\"none\" stroke=\"black\" points=\"182,-111.75 182,-132.75 303,-132.75 303,-111.75 182,-111.75\"/>\n",
       "<text text-anchor=\"start\" x=\"198.62\" y=\"-116.45\" font-family=\"Times New Roman,serif\" font-size=\"14.00\">0x1d249030a70</text>\n",
       "</g>\n",
       "<!-- node0&#45;&gt;node1 -->\n",
       "<g id=\"edge1\" class=\"edge\">\n",
       "<title>node0:next&#45;&gt;node1:id</title>\n",
       "<path fill=\"none\" stroke=\"black\" d=\"M131,-122.75C148.71,-122.75 155.72,-122.1 169.25,-121.85\"/>\n",
       "<polygon fill=\"black\" stroke=\"black\" points=\"169.02,-125.35 178.99,-121.76 168.96,-118.35 169.02,-125.35\"/>\n",
       "</g>\n",
       "<!-- node2 -->\n",
       "<g id=\"node3\" class=\"node\">\n",
       "<title>node2</title>\n",
       "<polygon fill=\"none\" stroke=\"black\" points=\"356.62,-196.75 356.62,-217.75 398.62,-217.75 398.62,-196.75 356.62,-196.75\"/>\n",
       "<text text-anchor=\"start\" x=\"366\" y=\"-201.45\" font-family=\"Times New Roman,serif\" font-size=\"14.00\">data</text>\n",
       "<polygon fill=\"none\" stroke=\"black\" points=\"398.62,-196.75 398.62,-217.75 448.62,-217.75 448.62,-196.75 398.62,-196.75\"/>\n",
       "<text text-anchor=\"start\" x=\"412\" y=\"-201.45\" font-family=\"Times New Roman,serif\" font-size=\"14.00\">next</text>\n",
       "<polygon fill=\"none\" stroke=\"black\" points=\"356.62,-175.75 356.62,-196.75 398.62,-196.75 398.62,-175.75 356.62,-175.75\"/>\n",
       "<text text-anchor=\"start\" x=\"374.25\" y=\"-180.45\" font-family=\"Times New Roman,serif\" font-size=\"14.00\">5</text>\n",
       "<polygon fill=\"none\" stroke=\"black\" points=\"398.62,-175.75 398.62,-196.75 448.62,-196.75 448.62,-175.75 398.62,-175.75\"/>\n",
       "<text text-anchor=\"start\" x=\"408.62\" y=\"-180.45\" font-family=\"Times New Roman,serif\" font-size=\"14.00\">None</text>\n",
       "<polygon fill=\"none\" stroke=\"black\" points=\"356.62,-154.75 356.62,-175.75 448.62,-175.75 448.62,-154.75 356.62,-154.75\"/>\n",
       "<text text-anchor=\"start\" x=\"369.25\" y=\"-159.45\" font-family=\"Times New Roman,serif\" font-size=\"14.00\">alamat node</text>\n",
       "<polygon fill=\"none\" stroke=\"black\" points=\"356.62,-133.75 356.62,-154.75 448.62,-154.75 448.62,-133.75 356.62,-133.75\"/>\n",
       "<text text-anchor=\"start\" x=\"359.5\" y=\"-138.45\" font-family=\"Times New Roman,serif\" font-size=\"14.00\">0x1d249030f50</text>\n",
       "</g>\n",
       "<!-- node1&#45;&gt;node2 -->\n",
       "<g id=\"edge2\" class=\"edge\">\n",
       "<title>node1:next&#45;&gt;node2:id</title>\n",
       "<path fill=\"none\" stroke=\"black\" d=\"M304.5,-164.75C324.65,-164.75 329.61,-150.62 344.31,-145.54\"/>\n",
       "<polygon fill=\"black\" stroke=\"black\" points=\"344.8,-149.01 354.13,-143.99 343.71,-142.09 344.8,-149.01\"/>\n",
       "</g>\n",
       "<!-- node3 -->\n",
       "<g id=\"node4\" class=\"node\">\n",
       "<title>node3</title>\n",
       "<polygon fill=\"none\" stroke=\"black\" points=\"502.25,-132.75 502.25,-153.75 531.25,-153.75 531.25,-132.75 502.25,-132.75\"/>\n",
       "<text text-anchor=\"start\" x=\"505.12\" y=\"-137.45\" font-family=\"Times New Roman,serif\" font-size=\"14.00\">data</text>\n",
       "<polygon fill=\"none\" stroke=\"black\" points=\"531.25,-132.75 531.25,-153.75 626.25,-153.75 626.25,-132.75 531.25,-132.75\"/>\n",
       "<text text-anchor=\"start\" x=\"567.12\" y=\"-137.45\" font-family=\"Times New Roman,serif\" font-size=\"14.00\">next</text>\n",
       "<polygon fill=\"none\" stroke=\"black\" points=\"502.25,-111.75 502.25,-132.75 531.25,-132.75 531.25,-111.75 502.25,-111.75\"/>\n",
       "<text text-anchor=\"start\" x=\"513.38\" y=\"-116.45\" font-family=\"Times New Roman,serif\" font-size=\"14.00\">1</text>\n",
       "<polygon fill=\"none\" stroke=\"black\" points=\"531.25,-111.75 531.25,-132.75 626.25,-132.75 626.25,-111.75 531.25,-111.75\"/>\n",
       "<text text-anchor=\"start\" x=\"534.12\" y=\"-116.45\" font-family=\"Times New Roman,serif\" font-size=\"14.00\">0x1d2490867b0</text>\n",
       "<polygon fill=\"none\" stroke=\"black\" points=\"502.25,-90.75 502.25,-111.75 626.25,-111.75 626.25,-90.75 502.25,-90.75\"/>\n",
       "<text text-anchor=\"start\" x=\"530.88\" y=\"-95.45\" font-family=\"Times New Roman,serif\" font-size=\"14.00\">alamat node</text>\n",
       "<polygon fill=\"none\" stroke=\"black\" points=\"502.25,-69.75 502.25,-90.75 626.25,-90.75 626.25,-69.75 502.25,-69.75\"/>\n",
       "<text text-anchor=\"start\" x=\"521.12\" y=\"-74.45\" font-family=\"Times New Roman,serif\" font-size=\"14.00\">0x1d2490be0f0</text>\n",
       "</g>\n",
       "<!-- node2&#45;&gt;node3 -->\n",
       "<g id=\"edge3\" class=\"edge\">\n",
       "<title>node2:next&#45;&gt;node3</title>\n",
       "<path fill=\"none\" stroke=\"black\" d=\"M449.62,-186.75C471.56,-186.75 492.53,-176.89 510.35,-164.32\"/>\n",
       "<polygon fill=\"black\" stroke=\"black\" points=\"512.27,-167.26 518.16,-158.45 508.06,-161.66 512.27,-167.26\"/>\n",
       "</g>\n",
       "<!-- node3&#45;&gt;node0 -->\n",
       "<g id=\"edge5\" class=\"edge\">\n",
       "<title>node3:id&#45;&gt;node0:id</title>\n",
       "<path fill=\"none\" stroke=\"black\" d=\"M501.25,-79.75C340.55,-79.75 297.55,-79.75 142.37,-79.75\"/>\n",
       "<polygon fill=\"black\" stroke=\"black\" points=\"142.51,-76.25 132.51,-79.75 142.51,-83.25 142.51,-76.25\"/>\n",
       "</g>\n",
       "<!-- tail -->\n",
       "<g id=\"node5\" class=\"node\">\n",
       "<title>tail</title>\n",
       "<polygon fill=\"none\" stroke=\"black\" points=\"355,-25.75 355,-47.5 450.25,-47.5 450.25,-25.75 355,-25.75\"/>\n",
       "<text text-anchor=\"start\" x=\"394.75\" y=\"-31.2\" font-family=\"Times New Roman,serif\" font-size=\"14.00\">tail</text>\n",
       "<polygon fill=\"none\" stroke=\"black\" points=\"355,-4 355,-25.75 450.25,-25.75 450.25,-4 355,-4\"/>\n",
       "<text text-anchor=\"start\" x=\"358\" y=\"-9.45\" font-family=\"Times New Roman,serif\" font-size=\"14.00\">0x1d2490867b0</text>\n",
       "</g>\n",
       "<!-- tail&#45;&gt;node3 -->\n",
       "<g id=\"edge4\" class=\"edge\">\n",
       "<title>tail:contents&#45;&gt;node3:id</title>\n",
       "<path fill=\"none\" stroke=\"black\" d=\"M451.62,-14.75C483.43,-14.75 469.74,-64.52 490.17,-76.96\"/>\n",
       "<polygon fill=\"black\" stroke=\"black\" points=\"489.23,-80.33 499.78,-79.38 490.94,-73.54 489.23,-80.33\"/>\n",
       "</g>\n",
       "</g>\n",
       "</svg>\n"
      ],
      "text/plain": [
       "<graphviz.graphs.Digraph at 0x1d2492f79d0>"
      ]
     },
     "metadata": {},
     "output_type": "display_data"
    }
   ],
   "source": [
    "display(gambarCLL)"
   ]
  },
  {
   "cell_type": "code",
   "execution_count": 142,
   "metadata": {},
   "outputs": [
    {
     "name": "stdout",
     "output_type": "stream",
     "text": [
      "Tail.next -> 15 -> 10 -> 5 <- Tail\n"
     ]
    }
   ],
   "source": [
    "testCLL.del_end()\n",
    "testCLL.print_all()"
   ]
  },
  {
   "cell_type": "code",
   "execution_count": 143,
   "metadata": {},
   "outputs": [
    {
     "name": "stdout",
     "output_type": "stream",
     "text": [
      "Tail.next -> 10 -> 5 <- Tail\n"
     ]
    }
   ],
   "source": [
    "testCLL.del_front()\n",
    "testCLL.print_all()"
   ]
  },
  {
   "cell_type": "code",
   "execution_count": 144,
   "metadata": {},
   "outputs": [
    {
     "name": "stdout",
     "output_type": "stream",
     "text": [
      "None <- Tail\n"
     ]
    }
   ],
   "source": [
    "testCLL.del_all()\n",
    "testCLL.print_all()"
   ]
  },
  {
   "cell_type": "markdown",
   "metadata": {},
   "source": [
    "Kita juga bisa membuat *doubly circular linked list*. Idenya sama seperti sebelumnya, yaitu suatu linked list dimana pointer `next` pada node terakhir menunjuk ke node pertama. Namun ingat pada *doubly linked list* kita juga memiliki pointer `prev`, sehingga pada *doubly circular linked list*, pointer `prev` pada node pertama juga harus menunjuk ke node terakhir. Silahkan kalian coba konstruksi `class` dari *doubly circular linked list* beserta *method*-nya."
   ]
  },
  {
   "cell_type": "markdown",
   "metadata": {},
   "source": [
    "# Graphviz (Pengayaan)"
   ]
  },
  {
   "cell_type": "markdown",
   "metadata": {},
   "source": [
    "Sebelumnya kita telah menggunakan Graphviz untuk membuat visualisasi dari *linked list* yang kita buat. Sekarang mari kita pelajari lebih lanjut mengenai Graphviz ;)"
   ]
  },
  {
   "cell_type": "markdown",
   "metadata": {},
   "source": [
    "Graphviz adalah semacam *software* yang bisa membuat visualisasi \"graf\" yang bagus. Mungkin di antara kalian belum semuanya kenal dengan graf, itu tidak masalah. Kurang lebih, suatu graf adalah kumpulan bulet-bulet (disebut simpul, *node*, atau *vertex*) yang disambung oleh \"busur\" (juga disebut *arc* atau *edge*), di mana tiap *edge* bisa berupa garis biasa atau berupa panah."
   ]
  },
  {
   "cell_type": "markdown",
   "metadata": {},
   "source": [
    "Berikut contoh graf yang digambar dengan Graphviz:"
   ]
  },
  {
   "cell_type": "markdown",
   "metadata": {},
   "source": [
    "```{dot}\n",
    "digraph \"graf G\" {\n",
    "    A -> B;\n",
    "    B -> A;\n",
    "    A -> C;\n",
    "    D -> C [dir=none];\n",
    "    D -> D;\n",
    "    D -> E [label=\"  tes\"];\n",
    "    E -> F;\n",
    "    B -> F [dir=none];\n",
    "    GHI -> F [label=\"qwerty\"];\n",
    "    C -> E [dir=both];\n",
    "}\n",
    "```"
   ]
  },
  {
   "cell_type": "markdown",
   "metadata": {},
   "source": [
    "Lho, di mata kuliah Struktur Data kan ga ada graf. Untuk apa kita pelajari Graphviz?\n",
    "\n",
    "Dengan Graphviz, kita bisa membuat visualisasi untuk berbagai struktur data nantinya, termasuk *linked list* hari ini. Kita bisa meminta Graphviz untuk membuat bentuk *node* yang tidak sederhana, termasuk bentuk *node* yang kita kenal di *linked list*, kemudian membuat *edge* yang berupa panah, sehingga kita benar-benar bisa menggambarkan suatu *linked list* :)"
   ]
  },
  {
   "cell_type": "markdown",
   "metadata": {},
   "source": [
    "## Instalasi Graphviz"
   ]
  },
  {
   "cell_type": "markdown",
   "metadata": {},
   "source": [
    "Sebelum bisa menggunakan Graphviz, perlu di-*install* terlebih dahulu."
   ]
  },
  {
   "cell_type": "markdown",
   "metadata": {},
   "source": [
    "Di Google Colaboratory, kalian tinggal mengetik:\n",
    "\n",
    "`pip install graphviz`"
   ]
  },
  {
   "cell_type": "markdown",
   "metadata": {},
   "source": [
    "Sedangkan, apabila menggunakan Jupyter Notebook melalui Anaconda, buka Anaconda Prompt lalu ketik:\n",
    "\n",
    "`conda install graphviz`\n",
    "\n",
    "Tunggu instalasi selesai, barulah buka Jupyter Notebook dan ketik\n",
    "\n",
    "`pip install graphviz`"
   ]
  },
  {
   "cell_type": "markdown",
   "metadata": {},
   "source": [
    "Note:\n",
    "\n",
    "* Apabila Anda menggunakan Jupyter Notebook tetapi tidak melalui Anaconda, langkah `conda install graphviz` bisa digantikan dengan menginstal Graphviz dari [https://graphviz.gitlab.io/download/](https://graphviz.gitlab.io/download/)\n",
    "\n",
    "* Untuk penulisan `pip`, ada kemungkinan kalian perlu mengetik `!pip` dengan tanda seru di awal. Biasanya tidak perlu, tapi kalau menjadi *error*, boleh dicoba dengan tanda seru."
   ]
  },
  {
   "cell_type": "markdown",
   "metadata": {},
   "source": [
    "## Mengenal Graphviz: *node* dan *edge*"
   ]
  },
  {
   "cell_type": "markdown",
   "metadata": {},
   "source": [
    "Setelah instalasi selesai, kita bisa import:"
   ]
  },
  {
   "cell_type": "code",
   "execution_count": null,
   "metadata": {},
   "outputs": [],
   "source": [
    "import graphviz as gv"
   ]
  },
  {
   "cell_type": "markdown",
   "metadata": {},
   "source": [
    "Dengan Graphviz, ada dua jenis gambar graf yang bisa kita buat:\n",
    "\n",
    "* `Digraph` (graf berarah, yaitu tiap *edge* bisa berupa panah maupun garis biasa)\n",
    "* `Graph` (graf sederhana, yaitu tiap *edge* hanya bisa berupa garis biasa, bukan panah)"
   ]
  },
  {
   "cell_type": "markdown",
   "metadata": {},
   "source": [
    "Karena `Digraph` lebih banyak fiturnya, kita akan membuat `Digraph` saja."
   ]
  },
  {
   "cell_type": "markdown",
   "metadata": {},
   "source": [
    "Sebagai contoh sederhana, kita bisa membuat `Digraph` yang terdiri dari dua *node* yaitu A dan B, dengan *edge* berupa panah yang menghubungkan A ke B. Kita buat objek `Digraph` terlebih dahulu:"
   ]
  },
  {
   "cell_type": "code",
   "execution_count": null,
   "metadata": {},
   "outputs": [],
   "source": [
    "graf1 = gv.Digraph()"
   ]
  },
  {
   "cell_type": "markdown",
   "metadata": {},
   "source": [
    "Kemudian, kita bisa menambahkan *node* A dan B sebagai berikut:"
   ]
  },
  {
   "cell_type": "code",
   "execution_count": null,
   "metadata": {},
   "outputs": [],
   "source": [
    "graf1.node(\"A\")\n",
    "graf1.node(\"B\")"
   ]
  },
  {
   "cell_type": "markdown",
   "metadata": {},
   "source": [
    "Selanjutnya, kita bisa membuat/menambahkan suatu *edge* dari A ke B, seperti berikut:"
   ]
  },
  {
   "cell_type": "code",
   "execution_count": null,
   "metadata": {},
   "outputs": [],
   "source": [
    "graf1.edge(\"A\", \"B\")"
   ]
  },
  {
   "cell_type": "markdown",
   "metadata": {},
   "source": [
    "Sekarang kita bisa lihat grafnya:"
   ]
  },
  {
   "cell_type": "code",
   "execution_count": null,
   "metadata": {},
   "outputs": [
    {
     "data": {
      "image/svg+xml": [
       "<?xml version=\"1.0\" encoding=\"UTF-8\" standalone=\"no\"?>\n",
       "<!DOCTYPE svg PUBLIC \"-//W3C//DTD SVG 1.1//EN\"\n",
       " \"http://www.w3.org/Graphics/SVG/1.1/DTD/svg11.dtd\">\n",
       "<!-- Generated by graphviz version 2.43.0 (0)\n",
       " -->\n",
       "<!-- Title: %3 Pages: 1 -->\n",
       "<svg width=\"62pt\" height=\"116pt\"\n",
       " viewBox=\"0.00 0.00 62.00 116.00\" xmlns=\"http://www.w3.org/2000/svg\" xmlns:xlink=\"http://www.w3.org/1999/xlink\">\n",
       "<g id=\"graph0\" class=\"graph\" transform=\"scale(1 1) rotate(0) translate(4 112)\">\n",
       "<title>%3</title>\n",
       "<polygon fill=\"white\" stroke=\"transparent\" points=\"-4,4 -4,-112 58,-112 58,4 -4,4\"/>\n",
       "<!-- A -->\n",
       "<g id=\"node1\" class=\"node\">\n",
       "<title>A</title>\n",
       "<ellipse fill=\"none\" stroke=\"black\" cx=\"27\" cy=\"-90\" rx=\"27\" ry=\"18\"/>\n",
       "<text text-anchor=\"middle\" x=\"27\" y=\"-86.3\" font-family=\"Times,serif\" font-size=\"14.00\">A</text>\n",
       "</g>\n",
       "<!-- B -->\n",
       "<g id=\"node2\" class=\"node\">\n",
       "<title>B</title>\n",
       "<ellipse fill=\"none\" stroke=\"black\" cx=\"27\" cy=\"-18\" rx=\"27\" ry=\"18\"/>\n",
       "<text text-anchor=\"middle\" x=\"27\" y=\"-14.3\" font-family=\"Times,serif\" font-size=\"14.00\">B</text>\n",
       "</g>\n",
       "<!-- A&#45;&gt;B -->\n",
       "<g id=\"edge1\" class=\"edge\">\n",
       "<title>A&#45;&gt;B</title>\n",
       "<path fill=\"none\" stroke=\"black\" d=\"M27,-71.7C27,-63.98 27,-54.71 27,-46.11\"/>\n",
       "<polygon fill=\"black\" stroke=\"black\" points=\"30.5,-46.1 27,-36.1 23.5,-46.1 30.5,-46.1\"/>\n",
       "</g>\n",
       "</g>\n",
       "</svg>\n"
      ],
      "text/plain": [
       "<graphviz.graphs.Digraph at 0x7dd768fb3490>"
      ]
     },
     "metadata": {},
     "output_type": "display_data"
    }
   ],
   "source": [
    "display(graf1)"
   ]
  },
  {
   "cell_type": "markdown",
   "metadata": {},
   "source": [
    "Note: apabila fungsi `display` tidak dikenal, silakan import:\n",
    "\n",
    "`from IPython.display import display`"
   ]
  },
  {
   "cell_type": "markdown",
   "metadata": {},
   "source": [
    "Sebenarnya, kita bisa saja menambahkan *edge* baru tanpa membuat *node* terlebih dahulu. Contohnya, menambahkan *edge* dari A ke C (suatu *node* baru):"
   ]
  },
  {
   "cell_type": "code",
   "execution_count": null,
   "metadata": {},
   "outputs": [],
   "source": [
    "graf1.edge(\"A\", \"C\")"
   ]
  },
  {
   "cell_type": "markdown",
   "metadata": {},
   "source": [
    "Kita bisa lihat lagi:"
   ]
  },
  {
   "cell_type": "code",
   "execution_count": null,
   "metadata": {},
   "outputs": [
    {
     "data": {
      "image/svg+xml": [
       "<?xml version=\"1.0\" encoding=\"UTF-8\" standalone=\"no\"?>\n",
       "<!DOCTYPE svg PUBLIC \"-//W3C//DTD SVG 1.1//EN\"\n",
       " \"http://www.w3.org/Graphics/SVG/1.1/DTD/svg11.dtd\">\n",
       "<!-- Generated by graphviz version 2.43.0 (0)\n",
       " -->\n",
       "<!-- Title: %3 Pages: 1 -->\n",
       "<svg width=\"134pt\" height=\"116pt\"\n",
       " viewBox=\"0.00 0.00 134.00 116.00\" xmlns=\"http://www.w3.org/2000/svg\" xmlns:xlink=\"http://www.w3.org/1999/xlink\">\n",
       "<g id=\"graph0\" class=\"graph\" transform=\"scale(1 1) rotate(0) translate(4 112)\">\n",
       "<title>%3</title>\n",
       "<polygon fill=\"white\" stroke=\"transparent\" points=\"-4,4 -4,-112 130,-112 130,4 -4,4\"/>\n",
       "<!-- A -->\n",
       "<g id=\"node1\" class=\"node\">\n",
       "<title>A</title>\n",
       "<ellipse fill=\"none\" stroke=\"black\" cx=\"63\" cy=\"-90\" rx=\"27\" ry=\"18\"/>\n",
       "<text text-anchor=\"middle\" x=\"63\" y=\"-86.3\" font-family=\"Times,serif\" font-size=\"14.00\">A</text>\n",
       "</g>\n",
       "<!-- B -->\n",
       "<g id=\"node2\" class=\"node\">\n",
       "<title>B</title>\n",
       "<ellipse fill=\"none\" stroke=\"black\" cx=\"27\" cy=\"-18\" rx=\"27\" ry=\"18\"/>\n",
       "<text text-anchor=\"middle\" x=\"27\" y=\"-14.3\" font-family=\"Times,serif\" font-size=\"14.00\">B</text>\n",
       "</g>\n",
       "<!-- A&#45;&gt;B -->\n",
       "<g id=\"edge1\" class=\"edge\">\n",
       "<title>A&#45;&gt;B</title>\n",
       "<path fill=\"none\" stroke=\"black\" d=\"M54.65,-72.76C50.29,-64.28 44.85,-53.71 39.96,-44.2\"/>\n",
       "<polygon fill=\"black\" stroke=\"black\" points=\"42.99,-42.44 35.3,-35.15 36.77,-45.64 42.99,-42.44\"/>\n",
       "</g>\n",
       "<!-- C -->\n",
       "<g id=\"node3\" class=\"node\">\n",
       "<title>C</title>\n",
       "<ellipse fill=\"none\" stroke=\"black\" cx=\"99\" cy=\"-18\" rx=\"27\" ry=\"18\"/>\n",
       "<text text-anchor=\"middle\" x=\"99\" y=\"-14.3\" font-family=\"Times,serif\" font-size=\"14.00\">C</text>\n",
       "</g>\n",
       "<!-- A&#45;&gt;C -->\n",
       "<g id=\"edge2\" class=\"edge\">\n",
       "<title>A&#45;&gt;C</title>\n",
       "<path fill=\"none\" stroke=\"black\" d=\"M71.35,-72.76C75.71,-64.28 81.15,-53.71 86.04,-44.2\"/>\n",
       "<polygon fill=\"black\" stroke=\"black\" points=\"89.23,-45.64 90.7,-35.15 83.01,-42.44 89.23,-45.64\"/>\n",
       "</g>\n",
       "</g>\n",
       "</svg>\n"
      ],
      "text/plain": [
       "<graphviz.graphs.Digraph at 0x7dd768fb3490>"
      ]
     },
     "metadata": {},
     "output_type": "display_data"
    }
   ],
   "source": [
    "display(graf1)"
   ]
  },
  {
   "cell_type": "markdown",
   "metadata": {},
   "source": [
    "Bahkan, kita bisa membuat ulang graf di atas dengan cara seperti berikut:"
   ]
  },
  {
   "cell_type": "code",
   "execution_count": null,
   "metadata": {},
   "outputs": [],
   "source": [
    "graf2 = gv.Digraph()\n",
    "graf2.edge(\"A\", \"B\")\n",
    "graf2.edge(\"A\", \"C\")"
   ]
  },
  {
   "cell_type": "code",
   "execution_count": null,
   "metadata": {},
   "outputs": [
    {
     "data": {
      "image/svg+xml": [
       "<?xml version=\"1.0\" encoding=\"UTF-8\" standalone=\"no\"?>\n",
       "<!DOCTYPE svg PUBLIC \"-//W3C//DTD SVG 1.1//EN\"\n",
       " \"http://www.w3.org/Graphics/SVG/1.1/DTD/svg11.dtd\">\n",
       "<!-- Generated by graphviz version 2.43.0 (0)\n",
       " -->\n",
       "<!-- Title: %3 Pages: 1 -->\n",
       "<svg width=\"134pt\" height=\"116pt\"\n",
       " viewBox=\"0.00 0.00 134.00 116.00\" xmlns=\"http://www.w3.org/2000/svg\" xmlns:xlink=\"http://www.w3.org/1999/xlink\">\n",
       "<g id=\"graph0\" class=\"graph\" transform=\"scale(1 1) rotate(0) translate(4 112)\">\n",
       "<title>%3</title>\n",
       "<polygon fill=\"white\" stroke=\"transparent\" points=\"-4,4 -4,-112 130,-112 130,4 -4,4\"/>\n",
       "<!-- A -->\n",
       "<g id=\"node1\" class=\"node\">\n",
       "<title>A</title>\n",
       "<ellipse fill=\"none\" stroke=\"black\" cx=\"63\" cy=\"-90\" rx=\"27\" ry=\"18\"/>\n",
       "<text text-anchor=\"middle\" x=\"63\" y=\"-86.3\" font-family=\"Times,serif\" font-size=\"14.00\">A</text>\n",
       "</g>\n",
       "<!-- B -->\n",
       "<g id=\"node2\" class=\"node\">\n",
       "<title>B</title>\n",
       "<ellipse fill=\"none\" stroke=\"black\" cx=\"27\" cy=\"-18\" rx=\"27\" ry=\"18\"/>\n",
       "<text text-anchor=\"middle\" x=\"27\" y=\"-14.3\" font-family=\"Times,serif\" font-size=\"14.00\">B</text>\n",
       "</g>\n",
       "<!-- A&#45;&gt;B -->\n",
       "<g id=\"edge1\" class=\"edge\">\n",
       "<title>A&#45;&gt;B</title>\n",
       "<path fill=\"none\" stroke=\"black\" d=\"M54.65,-72.76C50.29,-64.28 44.85,-53.71 39.96,-44.2\"/>\n",
       "<polygon fill=\"black\" stroke=\"black\" points=\"42.99,-42.44 35.3,-35.15 36.77,-45.64 42.99,-42.44\"/>\n",
       "</g>\n",
       "<!-- C -->\n",
       "<g id=\"node3\" class=\"node\">\n",
       "<title>C</title>\n",
       "<ellipse fill=\"none\" stroke=\"black\" cx=\"99\" cy=\"-18\" rx=\"27\" ry=\"18\"/>\n",
       "<text text-anchor=\"middle\" x=\"99\" y=\"-14.3\" font-family=\"Times,serif\" font-size=\"14.00\">C</text>\n",
       "</g>\n",
       "<!-- A&#45;&gt;C -->\n",
       "<g id=\"edge2\" class=\"edge\">\n",
       "<title>A&#45;&gt;C</title>\n",
       "<path fill=\"none\" stroke=\"black\" d=\"M71.35,-72.76C75.71,-64.28 81.15,-53.71 86.04,-44.2\"/>\n",
       "<polygon fill=\"black\" stroke=\"black\" points=\"89.23,-45.64 90.7,-35.15 83.01,-42.44 89.23,-45.64\"/>\n",
       "</g>\n",
       "</g>\n",
       "</svg>\n"
      ],
      "text/plain": [
       "<graphviz.graphs.Digraph at 0x7dd768fb3700>"
      ]
     },
     "metadata": {},
     "output_type": "display_data"
    }
   ],
   "source": [
    "display(graf2)"
   ]
  },
  {
   "cell_type": "markdown",
   "metadata": {},
   "source": [
    "Menariknya, kita bisa saja membuat panah yang menunjuk ke dirinya sendiri."
   ]
  },
  {
   "cell_type": "code",
   "execution_count": null,
   "metadata": {},
   "outputs": [],
   "source": [
    "graf3 = gv.Digraph()\n",
    "graf3.edge(\"A\", \"B\")\n",
    "graf3.edge(\"B\", \"B\")"
   ]
  },
  {
   "cell_type": "code",
   "execution_count": null,
   "metadata": {},
   "outputs": [
    {
     "data": {
      "image/svg+xml": [
       "<?xml version=\"1.0\" encoding=\"UTF-8\" standalone=\"no\"?>\n",
       "<!DOCTYPE svg PUBLIC \"-//W3C//DTD SVG 1.1//EN\"\n",
       " \"http://www.w3.org/Graphics/SVG/1.1/DTD/svg11.dtd\">\n",
       "<!-- Generated by graphviz version 2.43.0 (0)\n",
       " -->\n",
       "<!-- Title: %3 Pages: 1 -->\n",
       "<svg width=\"80pt\" height=\"116pt\"\n",
       " viewBox=\"0.00 0.00 80.00 116.00\" xmlns=\"http://www.w3.org/2000/svg\" xmlns:xlink=\"http://www.w3.org/1999/xlink\">\n",
       "<g id=\"graph0\" class=\"graph\" transform=\"scale(1 1) rotate(0) translate(4 112)\">\n",
       "<title>%3</title>\n",
       "<polygon fill=\"white\" stroke=\"transparent\" points=\"-4,4 -4,-112 76,-112 76,4 -4,4\"/>\n",
       "<!-- A -->\n",
       "<g id=\"node1\" class=\"node\">\n",
       "<title>A</title>\n",
       "<ellipse fill=\"none\" stroke=\"black\" cx=\"27\" cy=\"-90\" rx=\"27\" ry=\"18\"/>\n",
       "<text text-anchor=\"middle\" x=\"27\" y=\"-86.3\" font-family=\"Times,serif\" font-size=\"14.00\">A</text>\n",
       "</g>\n",
       "<!-- B -->\n",
       "<g id=\"node2\" class=\"node\">\n",
       "<title>B</title>\n",
       "<ellipse fill=\"none\" stroke=\"black\" cx=\"27\" cy=\"-18\" rx=\"27\" ry=\"18\"/>\n",
       "<text text-anchor=\"middle\" x=\"27\" y=\"-14.3\" font-family=\"Times,serif\" font-size=\"14.00\">B</text>\n",
       "</g>\n",
       "<!-- A&#45;&gt;B -->\n",
       "<g id=\"edge1\" class=\"edge\">\n",
       "<title>A&#45;&gt;B</title>\n",
       "<path fill=\"none\" stroke=\"black\" d=\"M27,-71.7C27,-63.98 27,-54.71 27,-46.11\"/>\n",
       "<polygon fill=\"black\" stroke=\"black\" points=\"30.5,-46.1 27,-36.1 23.5,-46.1 30.5,-46.1\"/>\n",
       "</g>\n",
       "<!-- B&#45;&gt;B -->\n",
       "<g id=\"edge2\" class=\"edge\">\n",
       "<title>B&#45;&gt;B</title>\n",
       "<path fill=\"none\" stroke=\"black\" d=\"M46.9,-30.43C59.69,-33.68 72,-29.53 72,-18 72,-9.62 65.5,-5.14 57.04,-4.56\"/>\n",
       "<polygon fill=\"black\" stroke=\"black\" points=\"56.5,-1.1 46.9,-5.57 57.19,-8.07 56.5,-1.1\"/>\n",
       "</g>\n",
       "</g>\n",
       "</svg>\n"
      ],
      "text/plain": [
       "<graphviz.graphs.Digraph at 0x7dd768fb3820>"
      ]
     },
     "metadata": {},
     "output_type": "display_data"
    }
   ],
   "source": [
    "display(graf3)"
   ]
  },
  {
   "cell_type": "markdown",
   "metadata": {},
   "source": [
    "Kita juga bisa membuat dua panah berlawanan arah di antara dua *node* seperti berikut:"
   ]
  },
  {
   "cell_type": "code",
   "execution_count": null,
   "metadata": {},
   "outputs": [],
   "source": [
    "graf4 = gv.Digraph()\n",
    "graf4.edge(\"A\", \"B\")\n",
    "graf4.edge(\"B\", \"A\")"
   ]
  },
  {
   "cell_type": "code",
   "execution_count": null,
   "metadata": {},
   "outputs": [
    {
     "data": {
      "image/svg+xml": [
       "<?xml version=\"1.0\" encoding=\"UTF-8\" standalone=\"no\"?>\n",
       "<!DOCTYPE svg PUBLIC \"-//W3C//DTD SVG 1.1//EN\"\n",
       " \"http://www.w3.org/Graphics/SVG/1.1/DTD/svg11.dtd\">\n",
       "<!-- Generated by graphviz version 2.43.0 (0)\n",
       " -->\n",
       "<!-- Title: %3 Pages: 1 -->\n",
       "<svg width=\"62pt\" height=\"116pt\"\n",
       " viewBox=\"0.00 0.00 62.00 116.00\" xmlns=\"http://www.w3.org/2000/svg\" xmlns:xlink=\"http://www.w3.org/1999/xlink\">\n",
       "<g id=\"graph0\" class=\"graph\" transform=\"scale(1 1) rotate(0) translate(4 112)\">\n",
       "<title>%3</title>\n",
       "<polygon fill=\"white\" stroke=\"transparent\" points=\"-4,4 -4,-112 58,-112 58,4 -4,4\"/>\n",
       "<!-- A -->\n",
       "<g id=\"node1\" class=\"node\">\n",
       "<title>A</title>\n",
       "<ellipse fill=\"none\" stroke=\"black\" cx=\"27\" cy=\"-90\" rx=\"27\" ry=\"18\"/>\n",
       "<text text-anchor=\"middle\" x=\"27\" y=\"-86.3\" font-family=\"Times,serif\" font-size=\"14.00\">A</text>\n",
       "</g>\n",
       "<!-- B -->\n",
       "<g id=\"node2\" class=\"node\">\n",
       "<title>B</title>\n",
       "<ellipse fill=\"none\" stroke=\"black\" cx=\"27\" cy=\"-18\" rx=\"27\" ry=\"18\"/>\n",
       "<text text-anchor=\"middle\" x=\"27\" y=\"-14.3\" font-family=\"Times,serif\" font-size=\"14.00\">B</text>\n",
       "</g>\n",
       "<!-- A&#45;&gt;B -->\n",
       "<g id=\"edge1\" class=\"edge\">\n",
       "<title>A&#45;&gt;B</title>\n",
       "<path fill=\"none\" stroke=\"black\" d=\"M21.16,-72.41C20.3,-64.51 20.05,-54.85 20.41,-45.94\"/>\n",
       "<polygon fill=\"black\" stroke=\"black\" points=\"23.9,-46.18 21.12,-35.96 16.92,-45.68 23.9,-46.18\"/>\n",
       "</g>\n",
       "<!-- B&#45;&gt;A -->\n",
       "<g id=\"edge2\" class=\"edge\">\n",
       "<title>B&#45;&gt;A</title>\n",
       "<path fill=\"none\" stroke=\"black\" d=\"M32.88,-35.96C33.71,-43.83 33.95,-53.37 33.58,-62.19\"/>\n",
       "<polygon fill=\"black\" stroke=\"black\" points=\"30.07,-62.18 32.84,-72.41 37.06,-62.69 30.07,-62.18\"/>\n",
       "</g>\n",
       "</g>\n",
       "</svg>\n"
      ],
      "text/plain": [
       "<graphviz.graphs.Digraph at 0x7dd768fb34f0>"
      ]
     },
     "metadata": {},
     "output_type": "display_data"
    }
   ],
   "source": [
    "display(graf4)"
   ]
  },
  {
   "cell_type": "markdown",
   "metadata": {},
   "source": [
    "Membuat satu panah yang dua arah juga bisa, dengan menentukan `dir` atau *direction* dari *edge* tersebut menjadi `\"both\"` seperti berikut:"
   ]
  },
  {
   "cell_type": "code",
   "execution_count": null,
   "metadata": {},
   "outputs": [],
   "source": [
    "graf5 = gv.Digraph()\n",
    "graf5.edge(\"A\", \"B\", dir=\"both\")"
   ]
  },
  {
   "cell_type": "code",
   "execution_count": null,
   "metadata": {},
   "outputs": [
    {
     "data": {
      "image/svg+xml": [
       "<?xml version=\"1.0\" encoding=\"UTF-8\" standalone=\"no\"?>\n",
       "<!DOCTYPE svg PUBLIC \"-//W3C//DTD SVG 1.1//EN\"\n",
       " \"http://www.w3.org/Graphics/SVG/1.1/DTD/svg11.dtd\">\n",
       "<!-- Generated by graphviz version 2.43.0 (0)\n",
       " -->\n",
       "<!-- Title: %3 Pages: 1 -->\n",
       "<svg width=\"62pt\" height=\"116pt\"\n",
       " viewBox=\"0.00 0.00 62.00 116.00\" xmlns=\"http://www.w3.org/2000/svg\" xmlns:xlink=\"http://www.w3.org/1999/xlink\">\n",
       "<g id=\"graph0\" class=\"graph\" transform=\"scale(1 1) rotate(0) translate(4 112)\">\n",
       "<title>%3</title>\n",
       "<polygon fill=\"white\" stroke=\"transparent\" points=\"-4,4 -4,-112 58,-112 58,4 -4,4\"/>\n",
       "<!-- A -->\n",
       "<g id=\"node1\" class=\"node\">\n",
       "<title>A</title>\n",
       "<ellipse fill=\"none\" stroke=\"black\" cx=\"27\" cy=\"-90\" rx=\"27\" ry=\"18\"/>\n",
       "<text text-anchor=\"middle\" x=\"27\" y=\"-86.3\" font-family=\"Times,serif\" font-size=\"14.00\">A</text>\n",
       "</g>\n",
       "<!-- B -->\n",
       "<g id=\"node2\" class=\"node\">\n",
       "<title>B</title>\n",
       "<ellipse fill=\"none\" stroke=\"black\" cx=\"27\" cy=\"-18\" rx=\"27\" ry=\"18\"/>\n",
       "<text text-anchor=\"middle\" x=\"27\" y=\"-14.3\" font-family=\"Times,serif\" font-size=\"14.00\">B</text>\n",
       "</g>\n",
       "<!-- A&#45;&gt;B -->\n",
       "<g id=\"edge1\" class=\"edge\">\n",
       "<title>A&#45;&gt;B</title>\n",
       "<path fill=\"none\" stroke=\"black\" d=\"M27,-61.67C27,-56.69 27,-51.49 27,-46.51\"/>\n",
       "<polygon fill=\"black\" stroke=\"black\" points=\"23.5,-61.7 27,-71.7 30.5,-61.7 23.5,-61.7\"/>\n",
       "<polygon fill=\"black\" stroke=\"black\" points=\"30.5,-46.1 27,-36.1 23.5,-46.1 30.5,-46.1\"/>\n",
       "</g>\n",
       "</g>\n",
       "</svg>\n"
      ],
      "text/plain": [
       "<graphviz.graphs.Digraph at 0x7dd768ffc340>"
      ]
     },
     "metadata": {},
     "output_type": "display_data"
    }
   ],
   "source": [
    "display(graf5)"
   ]
  },
  {
   "cell_type": "markdown",
   "metadata": {},
   "source": [
    "Daripada panah, kita juga bisa membuat *edge* berupa garis biasa, dengan `dir=\"none\"` (bukan `None` ya!)"
   ]
  },
  {
   "cell_type": "code",
   "execution_count": null,
   "metadata": {},
   "outputs": [],
   "source": [
    "graf6 = gv.Digraph()\n",
    "graf6.edge(\"A\", \"B\", dir=\"none\")"
   ]
  },
  {
   "cell_type": "code",
   "execution_count": null,
   "metadata": {},
   "outputs": [
    {
     "data": {
      "image/svg+xml": [
       "<?xml version=\"1.0\" encoding=\"UTF-8\" standalone=\"no\"?>\n",
       "<!DOCTYPE svg PUBLIC \"-//W3C//DTD SVG 1.1//EN\"\n",
       " \"http://www.w3.org/Graphics/SVG/1.1/DTD/svg11.dtd\">\n",
       "<!-- Generated by graphviz version 2.43.0 (0)\n",
       " -->\n",
       "<!-- Title: %3 Pages: 1 -->\n",
       "<svg width=\"62pt\" height=\"116pt\"\n",
       " viewBox=\"0.00 0.00 62.00 116.00\" xmlns=\"http://www.w3.org/2000/svg\" xmlns:xlink=\"http://www.w3.org/1999/xlink\">\n",
       "<g id=\"graph0\" class=\"graph\" transform=\"scale(1 1) rotate(0) translate(4 112)\">\n",
       "<title>%3</title>\n",
       "<polygon fill=\"white\" stroke=\"transparent\" points=\"-4,4 -4,-112 58,-112 58,4 -4,4\"/>\n",
       "<!-- A -->\n",
       "<g id=\"node1\" class=\"node\">\n",
       "<title>A</title>\n",
       "<ellipse fill=\"none\" stroke=\"black\" cx=\"27\" cy=\"-90\" rx=\"27\" ry=\"18\"/>\n",
       "<text text-anchor=\"middle\" x=\"27\" y=\"-86.3\" font-family=\"Times,serif\" font-size=\"14.00\">A</text>\n",
       "</g>\n",
       "<!-- B -->\n",
       "<g id=\"node2\" class=\"node\">\n",
       "<title>B</title>\n",
       "<ellipse fill=\"none\" stroke=\"black\" cx=\"27\" cy=\"-18\" rx=\"27\" ry=\"18\"/>\n",
       "<text text-anchor=\"middle\" x=\"27\" y=\"-14.3\" font-family=\"Times,serif\" font-size=\"14.00\">B</text>\n",
       "</g>\n",
       "<!-- A&#45;&gt;B -->\n",
       "<g id=\"edge1\" class=\"edge\">\n",
       "<title>A&#45;&gt;B</title>\n",
       "<path fill=\"none\" stroke=\"black\" d=\"M27,-71.7C27,-60.85 27,-46.92 27,-36.1\"/>\n",
       "</g>\n",
       "</g>\n",
       "</svg>\n"
      ],
      "text/plain": [
       "<graphviz.graphs.Digraph at 0x7dd768ffcb80>"
      ]
     },
     "metadata": {},
     "output_type": "display_data"
    }
   ],
   "source": [
    "display(graf6)"
   ]
  },
  {
   "cell_type": "markdown",
   "metadata": {},
   "source": [
    "Sejauh ini, grafnya selalu cenderung \"dari atas ke bawah\". Daripada seperti itu, kita bisa mengubahnya menjadi kiri ke kanan untuk keseluruhan graf. Caranya, kita memasang `graph_attr` atau atribut graf, berbentuk `dict`, dan di dalamnya kita buat `\"rankdir\": \"LR\"` (*left-right*) seperti di bawah ini.\n",
    "\n",
    "Setelah objek `Digraph` dibuat, barulah tiap *edge* yang kita tambahkan akan dari kiri ke kanan."
   ]
  },
  {
   "cell_type": "code",
   "execution_count": null,
   "metadata": {},
   "outputs": [],
   "source": [
    "graf7 = gv.Digraph(graph_attr={\"rankdir\": \"LR\"})\n",
    "graf7.edge(\"A\", \"B\")"
   ]
  },
  {
   "cell_type": "code",
   "execution_count": null,
   "metadata": {},
   "outputs": [
    {
     "data": {
      "image/svg+xml": [
       "<?xml version=\"1.0\" encoding=\"UTF-8\" standalone=\"no\"?>\n",
       "<!DOCTYPE svg PUBLIC \"-//W3C//DTD SVG 1.1//EN\"\n",
       " \"http://www.w3.org/Graphics/SVG/1.1/DTD/svg11.dtd\">\n",
       "<!-- Generated by graphviz version 2.43.0 (0)\n",
       " -->\n",
       "<!-- Title: %3 Pages: 1 -->\n",
       "<svg width=\"152pt\" height=\"44pt\"\n",
       " viewBox=\"0.00 0.00 152.00 44.00\" xmlns=\"http://www.w3.org/2000/svg\" xmlns:xlink=\"http://www.w3.org/1999/xlink\">\n",
       "<g id=\"graph0\" class=\"graph\" transform=\"scale(1 1) rotate(0) translate(4 40)\">\n",
       "<title>%3</title>\n",
       "<polygon fill=\"white\" stroke=\"transparent\" points=\"-4,4 -4,-40 148,-40 148,4 -4,4\"/>\n",
       "<!-- A -->\n",
       "<g id=\"node1\" class=\"node\">\n",
       "<title>A</title>\n",
       "<ellipse fill=\"none\" stroke=\"black\" cx=\"27\" cy=\"-18\" rx=\"27\" ry=\"18\"/>\n",
       "<text text-anchor=\"middle\" x=\"27\" y=\"-14.3\" font-family=\"Times,serif\" font-size=\"14.00\">A</text>\n",
       "</g>\n",
       "<!-- B -->\n",
       "<g id=\"node2\" class=\"node\">\n",
       "<title>B</title>\n",
       "<ellipse fill=\"none\" stroke=\"black\" cx=\"117\" cy=\"-18\" rx=\"27\" ry=\"18\"/>\n",
       "<text text-anchor=\"middle\" x=\"117\" y=\"-14.3\" font-family=\"Times,serif\" font-size=\"14.00\">B</text>\n",
       "</g>\n",
       "<!-- A&#45;&gt;B -->\n",
       "<g id=\"edge1\" class=\"edge\">\n",
       "<title>A&#45;&gt;B</title>\n",
       "<path fill=\"none\" stroke=\"black\" d=\"M54.4,-18C62.39,-18 71.31,-18 79.82,-18\"/>\n",
       "<polygon fill=\"black\" stroke=\"black\" points=\"79.92,-21.5 89.92,-18 79.92,-14.5 79.92,-21.5\"/>\n",
       "</g>\n",
       "</g>\n",
       "</svg>\n"
      ],
      "text/plain": [
       "<graphviz.graphs.Digraph at 0x7dd768ffd060>"
      ]
     },
     "metadata": {},
     "output_type": "display_data"
    }
   ],
   "source": [
    "display(graf7)"
   ]
  },
  {
   "cell_type": "markdown",
   "metadata": {},
   "source": [
    "Selain *node* diberi nama, *edge* juga bisa diberi keterangan, lho! Caranya, pasang nilai `label` ketika membuat *edge* baru:"
   ]
  },
  {
   "cell_type": "code",
   "execution_count": null,
   "metadata": {},
   "outputs": [],
   "source": [
    "graf8 = gv.Digraph(graph_attr={\"rankdir\": \"LR\"})\n",
    "graf8.edge(\"A\", \"B\", label=\"test\")"
   ]
  },
  {
   "cell_type": "code",
   "execution_count": null,
   "metadata": {},
   "outputs": [
    {
     "data": {
      "image/svg+xml": [
       "<?xml version=\"1.0\" encoding=\"UTF-8\" standalone=\"no\"?>\n",
       "<!DOCTYPE svg PUBLIC \"-//W3C//DTD SVG 1.1//EN\"\n",
       " \"http://www.w3.org/Graphics/SVG/1.1/DTD/svg11.dtd\">\n",
       "<!-- Generated by graphviz version 2.43.0 (0)\n",
       " -->\n",
       "<!-- Title: %3 Pages: 1 -->\n",
       "<svg width=\"171pt\" height=\"44pt\"\n",
       " viewBox=\"0.00 0.00 171.00 44.00\" xmlns=\"http://www.w3.org/2000/svg\" xmlns:xlink=\"http://www.w3.org/1999/xlink\">\n",
       "<g id=\"graph0\" class=\"graph\" transform=\"scale(1 1) rotate(0) translate(4 40)\">\n",
       "<title>%3</title>\n",
       "<polygon fill=\"white\" stroke=\"transparent\" points=\"-4,4 -4,-40 167,-40 167,4 -4,4\"/>\n",
       "<!-- A -->\n",
       "<g id=\"node1\" class=\"node\">\n",
       "<title>A</title>\n",
       "<ellipse fill=\"none\" stroke=\"black\" cx=\"27\" cy=\"-18\" rx=\"27\" ry=\"18\"/>\n",
       "<text text-anchor=\"middle\" x=\"27\" y=\"-14.3\" font-family=\"Times,serif\" font-size=\"14.00\">A</text>\n",
       "</g>\n",
       "<!-- B -->\n",
       "<g id=\"node2\" class=\"node\">\n",
       "<title>B</title>\n",
       "<ellipse fill=\"none\" stroke=\"black\" cx=\"136\" cy=\"-18\" rx=\"27\" ry=\"18\"/>\n",
       "<text text-anchor=\"middle\" x=\"136\" y=\"-14.3\" font-family=\"Times,serif\" font-size=\"14.00\">B</text>\n",
       "</g>\n",
       "<!-- A&#45;&gt;B -->\n",
       "<g id=\"edge1\" class=\"edge\">\n",
       "<title>A&#45;&gt;B</title>\n",
       "<path fill=\"none\" stroke=\"black\" d=\"M54.18,-18C67.52,-18 83.96,-18 98.52,-18\"/>\n",
       "<polygon fill=\"black\" stroke=\"black\" points=\"98.72,-21.5 108.72,-18 98.72,-14.5 98.72,-21.5\"/>\n",
       "<text text-anchor=\"middle\" x=\"81.5\" y=\"-21.8\" font-family=\"Times,serif\" font-size=\"14.00\">test</text>\n",
       "</g>\n",
       "</g>\n",
       "</svg>\n"
      ],
      "text/plain": [
       "<graphviz.graphs.Digraph at 0x7dd768ffd120>"
      ]
     },
     "metadata": {},
     "output_type": "display_data"
    }
   ],
   "source": [
    "display(graf8)"
   ]
  },
  {
   "cell_type": "markdown",
   "metadata": {},
   "source": [
    "Sebenarnya, di dalam suatu *node*, ada yang namanya `name` (atau ID) dan ada juga yang disebut `label`.\n",
    "\n",
    "* `label` adalah tulisan yang tampil di gambar pada *node* tersebut\n",
    "* `name` atau ID adalah sebutan yang dikenal oleh Graphviz ketika misalnya ingin membuat *edge*\n",
    "\n",
    "Selama ini, yang kita tentukan adalah `name`. Kebetulan, khusus *node*, apabila `label` tidak ditentukan, maka otomatis akan diambil dari `name`."
   ]
  },
  {
   "cell_type": "markdown",
   "metadata": {},
   "source": [
    "Berikut ini, kita bisa coba menentukan `name` dan `label` sekaligus ketika membuat *node*:"
   ]
  },
  {
   "cell_type": "code",
   "execution_count": null,
   "metadata": {},
   "outputs": [],
   "source": [
    "graf9 = gv.Digraph()\n",
    "graf9.node(\"matkul1\", label=\"Alprog\")\n",
    "graf9.node(\"matkul2\", label=\"Strukdat\")\n",
    "graf9.edge(\"matkul1\", \"matkul2\")"
   ]
  },
  {
   "cell_type": "code",
   "execution_count": null,
   "metadata": {},
   "outputs": [
    {
     "data": {
      "image/svg+xml": [
       "<?xml version=\"1.0\" encoding=\"UTF-8\" standalone=\"no\"?>\n",
       "<!DOCTYPE svg PUBLIC \"-//W3C//DTD SVG 1.1//EN\"\n",
       " \"http://www.w3.org/Graphics/SVG/1.1/DTD/svg11.dtd\">\n",
       "<!-- Generated by graphviz version 2.43.0 (0)\n",
       " -->\n",
       "<!-- Title: %3 Pages: 1 -->\n",
       "<svg width=\"89pt\" height=\"116pt\"\n",
       " viewBox=\"0.00 0.00 88.59 116.00\" xmlns=\"http://www.w3.org/2000/svg\" xmlns:xlink=\"http://www.w3.org/1999/xlink\">\n",
       "<g id=\"graph0\" class=\"graph\" transform=\"scale(1 1) rotate(0) translate(4 112)\">\n",
       "<title>%3</title>\n",
       "<polygon fill=\"white\" stroke=\"transparent\" points=\"-4,4 -4,-112 84.59,-112 84.59,4 -4,4\"/>\n",
       "<!-- matkul1 -->\n",
       "<g id=\"node1\" class=\"node\">\n",
       "<title>matkul1</title>\n",
       "<ellipse fill=\"none\" stroke=\"black\" cx=\"40.3\" cy=\"-90\" rx=\"36\" ry=\"18\"/>\n",
       "<text text-anchor=\"middle\" x=\"40.3\" y=\"-86.3\" font-family=\"Times,serif\" font-size=\"14.00\">Alprog</text>\n",
       "</g>\n",
       "<!-- matkul2 -->\n",
       "<g id=\"node2\" class=\"node\">\n",
       "<title>matkul2</title>\n",
       "<ellipse fill=\"none\" stroke=\"black\" cx=\"40.3\" cy=\"-18\" rx=\"40.09\" ry=\"18\"/>\n",
       "<text text-anchor=\"middle\" x=\"40.3\" y=\"-14.3\" font-family=\"Times,serif\" font-size=\"14.00\">Strukdat</text>\n",
       "</g>\n",
       "<!-- matkul1&#45;&gt;matkul2 -->\n",
       "<g id=\"edge1\" class=\"edge\">\n",
       "<title>matkul1&#45;&gt;matkul2</title>\n",
       "<path fill=\"none\" stroke=\"black\" d=\"M40.3,-71.7C40.3,-63.98 40.3,-54.71 40.3,-46.11\"/>\n",
       "<polygon fill=\"black\" stroke=\"black\" points=\"43.8,-46.1 40.3,-36.1 36.8,-46.1 43.8,-46.1\"/>\n",
       "</g>\n",
       "</g>\n",
       "</svg>\n"
      ],
      "text/plain": [
       "<graphviz.graphs.Digraph at 0x7dd768ffc2e0>"
      ]
     },
     "metadata": {},
     "output_type": "display_data"
    }
   ],
   "source": [
    "display(graf9)"
   ]
  },
  {
   "cell_type": "markdown",
   "metadata": {},
   "source": [
    "Perlu dicatat, apabila kita menambahkan *edge* sekaligus membuat *node* baru, kita tidak bisa memasang `label` untuk *node* baru tersebut.\n",
    "\n",
    "Sehingga, apabila kalian ingin membuat *node* dengan `label` tertentu, yang nantinya akan disambung ke *node* lain dengan *edge*, maka sebaiknya *node* baru tersebut dibuat dengan `.node()` terlebih dahulu, barulah `name` nya digunakan ketika membuat `.edge()`"
   ]
  },
  {
   "cell_type": "markdown",
   "metadata": {},
   "source": [
    "Selain itu, bahkan graf itu sendiri juga bisa memiliki nama, yang ditentukan ketika membuat objek grafnya."
   ]
  },
  {
   "cell_type": "code",
   "execution_count": null,
   "metadata": {},
   "outputs": [],
   "source": [
    "graf10 = gv.Digraph(\"Nama graf\")\n",
    "graf10.edge(\"A\", \"B\")\n",
    "graf10.edge(\"B\", \"C\")"
   ]
  },
  {
   "cell_type": "code",
   "execution_count": null,
   "metadata": {},
   "outputs": [
    {
     "data": {
      "image/svg+xml": [
       "<?xml version=\"1.0\" encoding=\"UTF-8\" standalone=\"no\"?>\n",
       "<!DOCTYPE svg PUBLIC \"-//W3C//DTD SVG 1.1//EN\"\n",
       " \"http://www.w3.org/Graphics/SVG/1.1/DTD/svg11.dtd\">\n",
       "<!-- Generated by graphviz version 2.43.0 (0)\n",
       " -->\n",
       "<!-- Title: Nama graf Pages: 1 -->\n",
       "<svg width=\"62pt\" height=\"188pt\"\n",
       " viewBox=\"0.00 0.00 62.00 188.00\" xmlns=\"http://www.w3.org/2000/svg\" xmlns:xlink=\"http://www.w3.org/1999/xlink\">\n",
       "<g id=\"graph0\" class=\"graph\" transform=\"scale(1 1) rotate(0) translate(4 184)\">\n",
       "<title>Nama graf</title>\n",
       "<polygon fill=\"white\" stroke=\"transparent\" points=\"-4,4 -4,-184 58,-184 58,4 -4,4\"/>\n",
       "<!-- A -->\n",
       "<g id=\"node1\" class=\"node\">\n",
       "<title>A</title>\n",
       "<ellipse fill=\"none\" stroke=\"black\" cx=\"27\" cy=\"-162\" rx=\"27\" ry=\"18\"/>\n",
       "<text text-anchor=\"middle\" x=\"27\" y=\"-158.3\" font-family=\"Times,serif\" font-size=\"14.00\">A</text>\n",
       "</g>\n",
       "<!-- B -->\n",
       "<g id=\"node2\" class=\"node\">\n",
       "<title>B</title>\n",
       "<ellipse fill=\"none\" stroke=\"black\" cx=\"27\" cy=\"-90\" rx=\"27\" ry=\"18\"/>\n",
       "<text text-anchor=\"middle\" x=\"27\" y=\"-86.3\" font-family=\"Times,serif\" font-size=\"14.00\">B</text>\n",
       "</g>\n",
       "<!-- A&#45;&gt;B -->\n",
       "<g id=\"edge1\" class=\"edge\">\n",
       "<title>A&#45;&gt;B</title>\n",
       "<path fill=\"none\" stroke=\"black\" d=\"M27,-143.7C27,-135.98 27,-126.71 27,-118.11\"/>\n",
       "<polygon fill=\"black\" stroke=\"black\" points=\"30.5,-118.1 27,-108.1 23.5,-118.1 30.5,-118.1\"/>\n",
       "</g>\n",
       "<!-- C -->\n",
       "<g id=\"node3\" class=\"node\">\n",
       "<title>C</title>\n",
       "<ellipse fill=\"none\" stroke=\"black\" cx=\"27\" cy=\"-18\" rx=\"27\" ry=\"18\"/>\n",
       "<text text-anchor=\"middle\" x=\"27\" y=\"-14.3\" font-family=\"Times,serif\" font-size=\"14.00\">C</text>\n",
       "</g>\n",
       "<!-- B&#45;&gt;C -->\n",
       "<g id=\"edge2\" class=\"edge\">\n",
       "<title>B&#45;&gt;C</title>\n",
       "<path fill=\"none\" stroke=\"black\" d=\"M27,-71.7C27,-63.98 27,-54.71 27,-46.11\"/>\n",
       "<polygon fill=\"black\" stroke=\"black\" points=\"30.5,-46.1 27,-36.1 23.5,-46.1 30.5,-46.1\"/>\n",
       "</g>\n",
       "</g>\n",
       "</svg>\n"
      ],
      "text/plain": [
       "<graphviz.graphs.Digraph at 0x7dd768ffdea0>"
      ]
     },
     "metadata": {},
     "output_type": "display_data"
    }
   ],
   "source": [
    "display(graf10)"
   ]
  },
  {
   "cell_type": "markdown",
   "metadata": {},
   "source": [
    "Coba letakkan *mouse* kalian pada gambarnya selama beberapa detik. Akan muncul tulisan \"Nama graf\". (Kalau tidak muncul, coba klik kanan dulu, pencet \"Open image in New Tab\" atau semacamnya.)"
   ]
  },
  {
   "cell_type": "markdown",
   "metadata": {},
   "source": [
    "Apabila kalian ingin menentukan misalnya `rankdir`, tuliskan setelah nama grafnya."
   ]
  },
  {
   "cell_type": "code",
   "execution_count": null,
   "metadata": {},
   "outputs": [],
   "source": [
    "graf11 = gv.Digraph(\"Graf ke kanan\", graph_attr={\"rankdir\": \"LR\"})\n",
    "graf11.edge(\"A\", \"B\")\n",
    "graf11.edge(\"B\", \"C\")"
   ]
  },
  {
   "cell_type": "code",
   "execution_count": null,
   "metadata": {},
   "outputs": [
    {
     "data": {
      "image/svg+xml": [
       "<?xml version=\"1.0\" encoding=\"UTF-8\" standalone=\"no\"?>\n",
       "<!DOCTYPE svg PUBLIC \"-//W3C//DTD SVG 1.1//EN\"\n",
       " \"http://www.w3.org/Graphics/SVG/1.1/DTD/svg11.dtd\">\n",
       "<!-- Generated by graphviz version 2.43.0 (0)\n",
       " -->\n",
       "<!-- Title: Graf ke kanan Pages: 1 -->\n",
       "<svg width=\"242pt\" height=\"44pt\"\n",
       " viewBox=\"0.00 0.00 242.00 44.00\" xmlns=\"http://www.w3.org/2000/svg\" xmlns:xlink=\"http://www.w3.org/1999/xlink\">\n",
       "<g id=\"graph0\" class=\"graph\" transform=\"scale(1 1) rotate(0) translate(4 40)\">\n",
       "<title>Graf ke kanan</title>\n",
       "<polygon fill=\"white\" stroke=\"transparent\" points=\"-4,4 -4,-40 238,-40 238,4 -4,4\"/>\n",
       "<!-- A -->\n",
       "<g id=\"node1\" class=\"node\">\n",
       "<title>A</title>\n",
       "<ellipse fill=\"none\" stroke=\"black\" cx=\"27\" cy=\"-18\" rx=\"27\" ry=\"18\"/>\n",
       "<text text-anchor=\"middle\" x=\"27\" y=\"-14.3\" font-family=\"Times,serif\" font-size=\"14.00\">A</text>\n",
       "</g>\n",
       "<!-- B -->\n",
       "<g id=\"node2\" class=\"node\">\n",
       "<title>B</title>\n",
       "<ellipse fill=\"none\" stroke=\"black\" cx=\"117\" cy=\"-18\" rx=\"27\" ry=\"18\"/>\n",
       "<text text-anchor=\"middle\" x=\"117\" y=\"-14.3\" font-family=\"Times,serif\" font-size=\"14.00\">B</text>\n",
       "</g>\n",
       "<!-- A&#45;&gt;B -->\n",
       "<g id=\"edge1\" class=\"edge\">\n",
       "<title>A&#45;&gt;B</title>\n",
       "<path fill=\"none\" stroke=\"black\" d=\"M54.4,-18C62.39,-18 71.31,-18 79.82,-18\"/>\n",
       "<polygon fill=\"black\" stroke=\"black\" points=\"79.92,-21.5 89.92,-18 79.92,-14.5 79.92,-21.5\"/>\n",
       "</g>\n",
       "<!-- C -->\n",
       "<g id=\"node3\" class=\"node\">\n",
       "<title>C</title>\n",
       "<ellipse fill=\"none\" stroke=\"black\" cx=\"207\" cy=\"-18\" rx=\"27\" ry=\"18\"/>\n",
       "<text text-anchor=\"middle\" x=\"207\" y=\"-14.3\" font-family=\"Times,serif\" font-size=\"14.00\">C</text>\n",
       "</g>\n",
       "<!-- B&#45;&gt;C -->\n",
       "<g id=\"edge2\" class=\"edge\">\n",
       "<title>B&#45;&gt;C</title>\n",
       "<path fill=\"none\" stroke=\"black\" d=\"M144.4,-18C152.39,-18 161.31,-18 169.82,-18\"/>\n",
       "<polygon fill=\"black\" stroke=\"black\" points=\"169.92,-21.5 179.92,-18 169.92,-14.5 169.92,-21.5\"/>\n",
       "</g>\n",
       "</g>\n",
       "</svg>\n"
      ],
      "text/plain": [
       "<graphviz.graphs.Digraph at 0x7dd768ffcd90>"
      ]
     },
     "metadata": {},
     "output_type": "display_data"
    }
   ],
   "source": [
    "display(graf11)"
   ]
  },
  {
   "cell_type": "markdown",
   "metadata": {},
   "source": [
    "## Import/export, bahasa DOT, file `.gv`"
   ]
  },
  {
   "cell_type": "markdown",
   "metadata": {},
   "source": [
    "Sebenarnya, Graphviz melibatkan yang namanya bahasa DOT (dibaca \"dot\"), yaitu semacam \"bahasa komputer\" untuk mendeskripsikan graf, yang kemudian diolah oleh Graphviz menjadi gambar.\n",
    "\n",
    "(Sebenarnya, bahasa DOT mudah dipahami dan bisa kalian pelajari sendiri kalo iseng :D)"
   ]
  },
  {
   "cell_type": "markdown",
   "metadata": {},
   "source": [
    "Tiap kali kita membuat graf baru dengan Graphviz melalui Python ini, Graphviz selalu menyusun bahasa DOT terlebih dahulu, baru mengolah bahasa DOT tersebut menjadi gambar."
   ]
  },
  {
   "cell_type": "markdown",
   "metadata": {},
   "source": [
    "Kita bisa melihat bahasa DOT untuk tiap graf melalui atribut `.source` seperti berikut:"
   ]
  },
  {
   "cell_type": "code",
   "execution_count": null,
   "metadata": {},
   "outputs": [
    {
     "name": "stdout",
     "output_type": "stream",
     "text": [
      "digraph \"Graf ke kanan\" {\n",
      "\tgraph [rankdir=LR]\n",
      "\tA -> B\n",
      "\tB -> C\n",
      "}\n",
      "\n"
     ]
    }
   ],
   "source": [
    "print(graf11.source)"
   ]
  },
  {
   "cell_type": "markdown",
   "metadata": {},
   "source": [
    "Kemudian, kita bisa memasukkan bahasa DOT tersebut ke dalam semacam *software* yang bisa mengolah bahasa DOT menjadi gambar. Contohnya adalah *link* berikut:\n",
    "\n",
    "[https://dreampuf.github.io/GraphvizOnline/](https://dreampuf.github.io/GraphvizOnline/)"
   ]
  },
  {
   "cell_type": "markdown",
   "metadata": {},
   "source": [
    "Sebaliknya, dari bahasa DOT, Graphviz juga bisa membuat objek `Digraph` misalnya, menggunakan `graphviz.Source()` seperti berikut:"
   ]
  },
  {
   "cell_type": "code",
   "execution_count": null,
   "metadata": {},
   "outputs": [],
   "source": [
    "graf12 = gv.Source(\"\"\"\n",
    "digraph \"Graf ke kanan\" {\n",
    "\tgraph [rankdir=LR]\n",
    "\tA -> B\n",
    "\tB -> C\n",
    "}\n",
    "\"\"\")"
   ]
  },
  {
   "cell_type": "code",
   "execution_count": null,
   "metadata": {},
   "outputs": [
    {
     "data": {
      "image/svg+xml": [
       "<?xml version=\"1.0\" encoding=\"UTF-8\" standalone=\"no\"?>\n",
       "<!DOCTYPE svg PUBLIC \"-//W3C//DTD SVG 1.1//EN\"\n",
       " \"http://www.w3.org/Graphics/SVG/1.1/DTD/svg11.dtd\">\n",
       "<!-- Generated by graphviz version 2.43.0 (0)\n",
       " -->\n",
       "<!-- Title: Graf ke kanan Pages: 1 -->\n",
       "<svg width=\"242pt\" height=\"44pt\"\n",
       " viewBox=\"0.00 0.00 242.00 44.00\" xmlns=\"http://www.w3.org/2000/svg\" xmlns:xlink=\"http://www.w3.org/1999/xlink\">\n",
       "<g id=\"graph0\" class=\"graph\" transform=\"scale(1 1) rotate(0) translate(4 40)\">\n",
       "<title>Graf ke kanan</title>\n",
       "<polygon fill=\"white\" stroke=\"transparent\" points=\"-4,4 -4,-40 238,-40 238,4 -4,4\"/>\n",
       "<!-- A -->\n",
       "<g id=\"node1\" class=\"node\">\n",
       "<title>A</title>\n",
       "<ellipse fill=\"none\" stroke=\"black\" cx=\"27\" cy=\"-18\" rx=\"27\" ry=\"18\"/>\n",
       "<text text-anchor=\"middle\" x=\"27\" y=\"-14.3\" font-family=\"Times,serif\" font-size=\"14.00\">A</text>\n",
       "</g>\n",
       "<!-- B -->\n",
       "<g id=\"node2\" class=\"node\">\n",
       "<title>B</title>\n",
       "<ellipse fill=\"none\" stroke=\"black\" cx=\"117\" cy=\"-18\" rx=\"27\" ry=\"18\"/>\n",
       "<text text-anchor=\"middle\" x=\"117\" y=\"-14.3\" font-family=\"Times,serif\" font-size=\"14.00\">B</text>\n",
       "</g>\n",
       "<!-- A&#45;&gt;B -->\n",
       "<g id=\"edge1\" class=\"edge\">\n",
       "<title>A&#45;&gt;B</title>\n",
       "<path fill=\"none\" stroke=\"black\" d=\"M54.4,-18C62.39,-18 71.31,-18 79.82,-18\"/>\n",
       "<polygon fill=\"black\" stroke=\"black\" points=\"79.92,-21.5 89.92,-18 79.92,-14.5 79.92,-21.5\"/>\n",
       "</g>\n",
       "<!-- C -->\n",
       "<g id=\"node3\" class=\"node\">\n",
       "<title>C</title>\n",
       "<ellipse fill=\"none\" stroke=\"black\" cx=\"207\" cy=\"-18\" rx=\"27\" ry=\"18\"/>\n",
       "<text text-anchor=\"middle\" x=\"207\" y=\"-14.3\" font-family=\"Times,serif\" font-size=\"14.00\">C</text>\n",
       "</g>\n",
       "<!-- B&#45;&gt;C -->\n",
       "<g id=\"edge2\" class=\"edge\">\n",
       "<title>B&#45;&gt;C</title>\n",
       "<path fill=\"none\" stroke=\"black\" d=\"M144.4,-18C152.39,-18 161.31,-18 169.82,-18\"/>\n",
       "<polygon fill=\"black\" stroke=\"black\" points=\"169.92,-21.5 179.92,-18 169.92,-14.5 169.92,-21.5\"/>\n",
       "</g>\n",
       "</g>\n",
       "</svg>\n"
      ],
      "text/plain": [
       "<graphviz.sources.Source at 0x7dd768ffd3c0>"
      ]
     },
     "metadata": {},
     "output_type": "display_data"
    }
   ],
   "source": [
    "display(graf12)"
   ]
  },
  {
   "cell_type": "markdown",
   "metadata": {},
   "source": [
    "Selain import seperti itu, baik bahasa DOT maupun gambar yang dibuat oleh Graphviz bisa di-*export* dengan menetapkan `.format` terlebih dahulu (misalnya \"svg\" atau \"png\"), lalu menggunakan `.render()` sebagai berikut:"
   ]
  },
  {
   "cell_type": "code",
   "execution_count": null,
   "metadata": {},
   "outputs": [
    {
     "data": {
      "application/vnd.google.colaboratory.intrinsic+json": {
       "type": "string"
      },
      "text/plain": [
       "'Graf ke kanan.gv.svg'"
      ]
     },
     "metadata": {},
     "output_type": "display_data"
    }
   ],
   "source": [
    "graf11.format = \"svg\"\n",
    "graf11.render()"
   ]
  },
  {
   "cell_type": "markdown",
   "metadata": {},
   "source": [
    "Maka ada *file* baru yang muncul.\n",
    "\n",
    "* Apabila menggunakan Google Colaboratory, silakan tekan tombol folder di sebelah kiri.\n",
    "* Apabila menggunakan Jupyter Notebook, silakan periksa folder yang di dalamnya ada *file* `.ipynb` yang sedang kalian gunakan.\n",
    "\n",
    "Akan muncul dua *file* baru, yaitu:\n",
    "\n",
    "1. `Graf ke kanan.gv`\n",
    "2. `Graf ke kanan.gv.svg`\n",
    "\n",
    "*File* pertama adalah *file* `.gv` (Graphviz) yang mengandung bahasa DOT yang disusun sebelum diolah menjadi gambar. *File* kedua adalah *file* gambar yang diolah, dalam format sesuai dengan yang kita tentukan."
   ]
  },
  {
   "cell_type": "markdown",
   "metadata": {},
   "source": [
    "Kita bisa membaca isi `Graf ke kanan.gv` sebagaimana kita membaca isi *text file*:"
   ]
  },
  {
   "cell_type": "code",
   "execution_count": null,
   "metadata": {},
   "outputs": [
    {
     "name": "stdout",
     "output_type": "stream",
     "text": [
      "digraph \"Graf ke kanan\" {\n",
      "\tgraph [rankdir=LR]\n",
      "\tA -> B\n",
      "\tB -> C\n",
      "}\n",
      "\n"
     ]
    }
   ],
   "source": [
    "with open(\"Graf ke kanan.gv\", \"r\") as isi:\n",
    "    print(isi.read())"
   ]
  },
  {
   "cell_type": "markdown",
   "metadata": {},
   "source": [
    "Selain itu, perhatikan bahwa nama *file* nya sesuai dengan nama graf yang kita tentukan ketika membuat objek `graf11` tadi. Kalau lupa, kita bisa memeriksa nama graf melalui atribut `.nama`"
   ]
  },
  {
   "cell_type": "code",
   "execution_count": null,
   "metadata": {},
   "outputs": [
    {
     "name": "stdout",
     "output_type": "stream",
     "text": [
      "Graf ke kanan\n"
     ]
    }
   ],
   "source": [
    "print(graf11.name)"
   ]
  },
  {
   "cell_type": "markdown",
   "metadata": {},
   "source": [
    "Dengan atribut itu pula, kita bisa mengubah nama grafnya:"
   ]
  },
  {
   "cell_type": "code",
   "execution_count": null,
   "metadata": {},
   "outputs": [],
   "source": [
    "graf11.name = \"Nama baru\""
   ]
  },
  {
   "cell_type": "markdown",
   "metadata": {},
   "source": [
    "Sehingga, ketika misalnya Graphviz menyusun bahasa DOT, akan digunakan nama yang baru:"
   ]
  },
  {
   "cell_type": "code",
   "execution_count": null,
   "metadata": {},
   "outputs": [
    {
     "name": "stdout",
     "output_type": "stream",
     "text": [
      "digraph \"Nama baru\" {\n",
      "\tgraph [rankdir=LR]\n",
      "\tA -> B\n",
      "\tB -> C\n",
      "}\n",
      "\n"
     ]
    }
   ],
   "source": [
    "print(graf11.source)"
   ]
  },
  {
   "cell_type": "markdown",
   "metadata": {},
   "source": [
    "## Variasi *node* dengan *HTML-like labels*"
   ]
  },
  {
   "cell_type": "markdown",
   "metadata": {},
   "source": [
    "Ingat atribut `label` yang bisa dipasang ketika membuat suatu *node*? Sebenarnya, kita bisa memanfaatkan atribut tersebut untuk membuat bentuk *node* sesuka hati kita, lho! Terutama, kita bisa membuat *node* dengan bentuk seperti tabel."
   ]
  },
  {
   "cell_type": "markdown",
   "metadata": {},
   "source": [
    "Penulisan `label` seperti tabel ini mirip seperti struktur bahasa HTML, sehingga disebut ***HTML-like labels***."
   ]
  },
  {
   "cell_type": "markdown",
   "metadata": {},
   "source": [
    "Perhatikan *syntax* (penulisan) berikut."
   ]
  },
  {
   "cell_type": "code",
   "execution_count": null,
   "metadata": {},
   "outputs": [],
   "source": [
    "graf13 = gv.Digraph()\n",
    "graf13.node(\"A\", shape=\"none\", label=\"\"\"<\n",
    "<TABLE>\n",
    "    <TR>\n",
    "        <TD>P</TD>\n",
    "        <TD>Q</TD>\n",
    "    </TR>\n",
    "    <TR>\n",
    "        <TD>R</TD>\n",
    "        <TD>S</TD>\n",
    "    </TR>\n",
    "</TABLE>\n",
    ">\"\"\")\n",
    "\n",
    "graf13.node(\"B\") # node biasa\n",
    "graf13.edge(\"A\", \"B\")"
   ]
  },
  {
   "cell_type": "code",
   "execution_count": null,
   "metadata": {},
   "outputs": [
    {
     "data": {
      "image/svg+xml": [
       "<?xml version=\"1.0\" encoding=\"UTF-8\" standalone=\"no\"?>\n",
       "<!DOCTYPE svg PUBLIC \"-//W3C//DTD SVG 1.1//EN\"\n",
       " \"http://www.w3.org/Graphics/SVG/1.1/DTD/svg11.dtd\">\n",
       "<!-- Generated by graphviz version 2.43.0 (0)\n",
       " -->\n",
       "<!-- Title: %3 Pages: 1 -->\n",
       "<svg width=\"64pt\" height=\"138pt\"\n",
       " viewBox=\"0.00 0.00 64.00 138.00\" xmlns=\"http://www.w3.org/2000/svg\" xmlns:xlink=\"http://www.w3.org/1999/xlink\">\n",
       "<g id=\"graph0\" class=\"graph\" transform=\"scale(1 1) rotate(0) translate(4 134)\">\n",
       "<title>%3</title>\n",
       "<polygon fill=\"white\" stroke=\"transparent\" points=\"-4,4 -4,-134 60,-134 60,4 -4,4\"/>\n",
       "<!-- A -->\n",
       "<g id=\"node1\" class=\"node\">\n",
       "<title>A</title>\n",
       "<polygon fill=\"none\" stroke=\"black\" points=\"11,-102 11,-123 27,-123 27,-102 11,-102\"/>\n",
       "<text text-anchor=\"start\" x=\"15\" y=\"-108.8\" font-family=\"Times,serif\" font-size=\"14.00\">P</text>\n",
       "<polygon fill=\"none\" stroke=\"black\" points=\"29,-102 29,-123 45,-123 45,-102 29,-102\"/>\n",
       "<text text-anchor=\"start\" x=\"32\" y=\"-108.8\" font-family=\"Times,serif\" font-size=\"14.00\">Q</text>\n",
       "<polygon fill=\"none\" stroke=\"black\" points=\"11,-79 11,-100 27,-100 27,-79 11,-79\"/>\n",
       "<text text-anchor=\"start\" x=\"14\" y=\"-85.8\" font-family=\"Times,serif\" font-size=\"14.00\">R</text>\n",
       "<polygon fill=\"none\" stroke=\"black\" points=\"29,-79 29,-100 45,-100 45,-79 29,-79\"/>\n",
       "<text text-anchor=\"start\" x=\"33\" y=\"-85.8\" font-family=\"Times,serif\" font-size=\"14.00\">S</text>\n",
       "<polygon fill=\"none\" stroke=\"black\" points=\"8,-76 8,-126 48,-126 48,-76 8,-76\"/>\n",
       "</g>\n",
       "<!-- B -->\n",
       "<g id=\"node2\" class=\"node\">\n",
       "<title>B</title>\n",
       "<ellipse fill=\"none\" stroke=\"black\" cx=\"28\" cy=\"-18\" rx=\"27\" ry=\"18\"/>\n",
       "<text text-anchor=\"middle\" x=\"28\" y=\"-14.3\" font-family=\"Times,serif\" font-size=\"14.00\">B</text>\n",
       "</g>\n",
       "<!-- A&#45;&gt;B -->\n",
       "<g id=\"edge1\" class=\"edge\">\n",
       "<title>A&#45;&gt;B</title>\n",
       "<path fill=\"none\" stroke=\"black\" d=\"M28,-71.67C28,-63.42 28,-54.43 28,-46.25\"/>\n",
       "<polygon fill=\"black\" stroke=\"black\" points=\"31.5,-46.1 28,-36.1 24.5,-46.1 31.5,-46.1\"/>\n",
       "</g>\n",
       "</g>\n",
       "</svg>\n"
      ],
      "text/plain": [
       "<graphviz.graphs.Digraph at 0x7dd768fff5b0>"
      ]
     },
     "metadata": {},
     "output_type": "display_data"
    }
   ],
   "source": [
    "display(graf13)"
   ]
  },
  {
   "cell_type": "markdown",
   "metadata": {},
   "source": [
    "Perhatikan,\n",
    "\n",
    "1. Ketika membuat *node* yang ingin berbentuk tabel, ditambahkan atribut `shape=\"none\"` (bukan `None`) di samping menulis `label` nya.\n",
    "2. `label` berupa *long string*, sehingga diawali dan diakhiri dengan tiga tanda kutip.\n",
    "3. Karakter pertama dari *long string* tersebut haruslah `<` dan karakter terakhir haruslah `>`\n",
    "4. Kemudian, penulisan tabel diawali dengan penulisan `<TABLE>`, kemudian `<TR>` (*table row*) untuk tiap baris, lalu `<TD>` (*table data*) untuk tiap sel. Masing-masing selalu ditutup dengan `</TD>`, `</TR>`, dan `</TABLE>`, bagaikan keberadaan `endif`, `endfor`, `endwhile` dan sebagainya di *pseudocode*."
   ]
  },
  {
   "cell_type": "markdown",
   "metadata": {},
   "source": [
    "Agar lebih bagus, di bagian `<TABLE>` kita bisa menambahkan:\n",
    "\n",
    "`BORDER=\"0\" CELLBORDER=\"1\" CELLSPACING=\"0\"`\n",
    "\n",
    "Seperti berikut:"
   ]
  },
  {
   "cell_type": "code",
   "execution_count": null,
   "metadata": {},
   "outputs": [],
   "source": [
    "graf14 = gv.Digraph()\n",
    "graf14.node(\"A\", shape=\"none\", label=\"\"\"<\n",
    "<TABLE BORDER=\"0\" CELLBORDER=\"1\" CELLSPACING=\"0\">\n",
    "    <TR>\n",
    "        <TD>P</TD>\n",
    "        <TD>Q</TD>\n",
    "    </TR>\n",
    "    <TR>\n",
    "        <TD>R</TD>\n",
    "        <TD>S</TD>\n",
    "    </TR>\n",
    "</TABLE>\n",
    ">\"\"\")\n",
    "\n",
    "graf14.node(\"B\")\n",
    "graf14.edge(\"A\", \"B\")"
   ]
  },
  {
   "cell_type": "code",
   "execution_count": null,
   "metadata": {},
   "outputs": [
    {
     "data": {
      "image/svg+xml": [
       "<?xml version=\"1.0\" encoding=\"UTF-8\" standalone=\"no\"?>\n",
       "<!DOCTYPE svg PUBLIC \"-//W3C//DTD SVG 1.1//EN\"\n",
       " \"http://www.w3.org/Graphics/SVG/1.1/DTD/svg11.dtd\">\n",
       "<!-- Generated by graphviz version 2.43.0 (0)\n",
       " -->\n",
       "<!-- Title: %3 Pages: 1 -->\n",
       "<svg width=\"62pt\" height=\"130pt\"\n",
       " viewBox=\"0.00 0.00 62.00 130.00\" xmlns=\"http://www.w3.org/2000/svg\" xmlns:xlink=\"http://www.w3.org/1999/xlink\">\n",
       "<g id=\"graph0\" class=\"graph\" transform=\"scale(1 1) rotate(0) translate(4 126)\">\n",
       "<title>%3</title>\n",
       "<polygon fill=\"white\" stroke=\"transparent\" points=\"-4,4 -4,-126 58,-126 58,4 -4,4\"/>\n",
       "<!-- A -->\n",
       "<g id=\"node1\" class=\"node\">\n",
       "<title>A</title>\n",
       "<polygon fill=\"none\" stroke=\"black\" points=\"11,-97 11,-118 27,-118 27,-97 11,-97\"/>\n",
       "<text text-anchor=\"start\" x=\"15\" y=\"-103.8\" font-family=\"Times,serif\" font-size=\"14.00\">P</text>\n",
       "<polygon fill=\"none\" stroke=\"black\" points=\"27,-97 27,-118 43,-118 43,-97 27,-97\"/>\n",
       "<text text-anchor=\"start\" x=\"30\" y=\"-103.8\" font-family=\"Times,serif\" font-size=\"14.00\">Q</text>\n",
       "<polygon fill=\"none\" stroke=\"black\" points=\"11,-76 11,-97 27,-97 27,-76 11,-76\"/>\n",
       "<text text-anchor=\"start\" x=\"14\" y=\"-82.8\" font-family=\"Times,serif\" font-size=\"14.00\">R</text>\n",
       "<polygon fill=\"none\" stroke=\"black\" points=\"27,-76 27,-97 43,-97 43,-76 27,-76\"/>\n",
       "<text text-anchor=\"start\" x=\"31\" y=\"-82.8\" font-family=\"Times,serif\" font-size=\"14.00\">S</text>\n",
       "</g>\n",
       "<!-- B -->\n",
       "<g id=\"node2\" class=\"node\">\n",
       "<title>B</title>\n",
       "<ellipse fill=\"none\" stroke=\"black\" cx=\"27\" cy=\"-18\" rx=\"27\" ry=\"18\"/>\n",
       "<text text-anchor=\"middle\" x=\"27\" y=\"-14.3\" font-family=\"Times,serif\" font-size=\"14.00\">B</text>\n",
       "</g>\n",
       "<!-- A&#45;&gt;B -->\n",
       "<g id=\"edge1\" class=\"edge\">\n",
       "<title>A&#45;&gt;B</title>\n",
       "<path fill=\"none\" stroke=\"black\" d=\"M27,-71.64C27,-63.67 27,-54.77 27,-46.58\"/>\n",
       "<polygon fill=\"black\" stroke=\"black\" points=\"30.5,-46.38 27,-36.38 23.5,-46.38 30.5,-46.38\"/>\n",
       "</g>\n",
       "</g>\n",
       "</svg>\n"
      ],
      "text/plain": [
       "<graphviz.graphs.Digraph at 0x7dd768fff0d0>"
      ]
     },
     "metadata": {},
     "output_type": "display_data"
    }
   ],
   "source": [
    "display(graf14)"
   ]
  },
  {
   "cell_type": "markdown",
   "metadata": {},
   "source": [
    "Bagaimana kalau misalnya kita ingin panahnya seperti \"berasal\" dari sel tertentu? Caranya, kita bisa membuat yang namanya `port`, misalnya di sel R, kemudian *edge* yang dibuat akan kita sambung dari port tersebut, seperti berikut:"
   ]
  },
  {
   "cell_type": "code",
   "execution_count": null,
   "metadata": {},
   "outputs": [],
   "source": [
    "graf15 = gv.Digraph()\n",
    "graf15.node(\"A\", shape=\"none\", label=\"\"\"<\n",
    "<TABLE BORDER=\"0\" CELLBORDER=\"1\" CELLSPACING=\"0\">\n",
    "    <TR>\n",
    "        <TD>P</TD>\n",
    "        <TD>Q</TD>\n",
    "    </TR>\n",
    "    <TR>\n",
    "        <TD PORT=\"port1\">R</TD>\n",
    "        <TD>S</TD>\n",
    "    </TR>\n",
    "</TABLE>\n",
    ">\"\"\")\n",
    "\n",
    "graf15.node(\"B\")\n",
    "graf15.edge(\"A:port1\", \"B\")"
   ]
  },
  {
   "cell_type": "code",
   "execution_count": null,
   "metadata": {},
   "outputs": [
    {
     "data": {
      "image/svg+xml": [
       "<?xml version=\"1.0\" encoding=\"UTF-8\" standalone=\"no\"?>\n",
       "<!DOCTYPE svg PUBLIC \"-//W3C//DTD SVG 1.1//EN\"\n",
       " \"http://www.w3.org/Graphics/SVG/1.1/DTD/svg11.dtd\">\n",
       "<!-- Generated by graphviz version 2.43.0 (0)\n",
       " -->\n",
       "<!-- Title: %3 Pages: 1 -->\n",
       "<svg width=\"70pt\" height=\"130pt\"\n",
       " viewBox=\"0.00 0.00 70.00 130.00\" xmlns=\"http://www.w3.org/2000/svg\" xmlns:xlink=\"http://www.w3.org/1999/xlink\">\n",
       "<g id=\"graph0\" class=\"graph\" transform=\"scale(1 1) rotate(0) translate(4 126)\">\n",
       "<title>%3</title>\n",
       "<polygon fill=\"white\" stroke=\"transparent\" points=\"-4,4 -4,-126 66,-126 66,4 -4,4\"/>\n",
       "<!-- A -->\n",
       "<g id=\"node1\" class=\"node\">\n",
       "<title>A</title>\n",
       "<polygon fill=\"none\" stroke=\"black\" points=\"19,-97 19,-118 35,-118 35,-97 19,-97\"/>\n",
       "<text text-anchor=\"start\" x=\"23\" y=\"-103.8\" font-family=\"Times,serif\" font-size=\"14.00\">P</text>\n",
       "<polygon fill=\"none\" stroke=\"black\" points=\"35,-97 35,-118 51,-118 51,-97 35,-97\"/>\n",
       "<text text-anchor=\"start\" x=\"38\" y=\"-103.8\" font-family=\"Times,serif\" font-size=\"14.00\">Q</text>\n",
       "<polygon fill=\"none\" stroke=\"black\" points=\"19,-76 19,-97 35,-97 35,-76 19,-76\"/>\n",
       "<text text-anchor=\"start\" x=\"22\" y=\"-82.8\" font-family=\"Times,serif\" font-size=\"14.00\">R</text>\n",
       "<polygon fill=\"none\" stroke=\"black\" points=\"35,-76 35,-97 51,-97 51,-76 35,-76\"/>\n",
       "<text text-anchor=\"start\" x=\"39\" y=\"-82.8\" font-family=\"Times,serif\" font-size=\"14.00\">S</text>\n",
       "</g>\n",
       "<!-- B -->\n",
       "<g id=\"node2\" class=\"node\">\n",
       "<title>B</title>\n",
       "<ellipse fill=\"none\" stroke=\"black\" cx=\"27\" cy=\"-18\" rx=\"27\" ry=\"18\"/>\n",
       "<text text-anchor=\"middle\" x=\"27\" y=\"-14.3\" font-family=\"Times,serif\" font-size=\"14.00\">B</text>\n",
       "</g>\n",
       "<!-- A&#45;&gt;B -->\n",
       "<g id=\"edge1\" class=\"edge\">\n",
       "<title>A:port1&#45;&gt;B</title>\n",
       "<path fill=\"none\" stroke=\"black\" d=\"M27,-75C27,-65.64 27,-55.39 27,-46.25\"/>\n",
       "<polygon fill=\"black\" stroke=\"black\" points=\"30.5,-46.16 27,-36.16 23.5,-46.16 30.5,-46.16\"/>\n",
       "</g>\n",
       "</g>\n",
       "</svg>\n"
      ],
      "text/plain": [
       "<graphviz.graphs.Digraph at 0x7dd769038100>"
      ]
     },
     "metadata": {},
     "output_type": "display_data"
    }
   ],
   "source": [
    "display(graf15)"
   ]
  },
  {
   "cell_type": "markdown",
   "metadata": {},
   "source": [
    "Kalau di Microsoft Excel atau Google Sheets, kita bisa melakukan *merge* beberapa sel, entah secara horizontal atau vertikal atau bahkan dua-duanya. Ketika menyusun *HTML-like labels*, kita bisa menggunakan `COLSPAN` (merentang beberapa kolom) dan `ROWSPAN` (merentang beberapa baris) untuk membuat efek seperti di-*merge*."
   ]
  },
  {
   "cell_type": "code",
   "execution_count": null,
   "metadata": {},
   "outputs": [],
   "source": [
    "graf16 = gv.Digraph()\n",
    "graf16.node(\"A\", shape=\"none\", label=\"\"\"<\n",
    "<TABLE BORDER=\"0\" CELLBORDER=\"1\" CELLSPACING=\"0\">\n",
    "    <TR>\n",
    "        <TD ROWSPAN=\"2\">P</TD>\n",
    "        <TD COLSPAN=\"2\">Q</TD>\n",
    "    </TR>\n",
    "    <TR>\n",
    "        <TD>R</TD>\n",
    "        <TD>S</TD>\n",
    "    </TR>\n",
    "</TABLE>\n",
    ">\"\"\")\n",
    "\n",
    "graf16.node(\"B\")\n",
    "graf16.edge(\"A\", \"B\")"
   ]
  },
  {
   "cell_type": "code",
   "execution_count": null,
   "metadata": {},
   "outputs": [
    {
     "data": {
      "image/svg+xml": [
       "<?xml version=\"1.0\" encoding=\"UTF-8\" standalone=\"no\"?>\n",
       "<!DOCTYPE svg PUBLIC \"-//W3C//DTD SVG 1.1//EN\"\n",
       " \"http://www.w3.org/Graphics/SVG/1.1/DTD/svg11.dtd\">\n",
       "<!-- Generated by graphviz version 2.43.0 (0)\n",
       " -->\n",
       "<!-- Title: %3 Pages: 1 -->\n",
       "<svg width=\"68pt\" height=\"130pt\"\n",
       " viewBox=\"0.00 0.00 68.00 130.00\" xmlns=\"http://www.w3.org/2000/svg\" xmlns:xlink=\"http://www.w3.org/1999/xlink\">\n",
       "<g id=\"graph0\" class=\"graph\" transform=\"scale(1 1) rotate(0) translate(4 126)\">\n",
       "<title>%3</title>\n",
       "<polygon fill=\"white\" stroke=\"transparent\" points=\"-4,4 -4,-126 64,-126 64,4 -4,4\"/>\n",
       "<!-- A -->\n",
       "<g id=\"node1\" class=\"node\">\n",
       "<title>A</title>\n",
       "<polygon fill=\"none\" stroke=\"black\" points=\"8,-76 8,-118 22,-118 22,-76 8,-76\"/>\n",
       "<text text-anchor=\"start\" x=\"11\" y=\"-93.3\" font-family=\"Times,serif\" font-size=\"14.00\">P</text>\n",
       "<polygon fill=\"none\" stroke=\"black\" points=\"22,-97 22,-118 52,-118 52,-97 22,-97\"/>\n",
       "<text text-anchor=\"start\" x=\"32\" y=\"-103.8\" font-family=\"Times,serif\" font-size=\"14.00\">Q</text>\n",
       "<polygon fill=\"none\" stroke=\"black\" points=\"22,-76 22,-97 38,-97 38,-76 22,-76\"/>\n",
       "<text text-anchor=\"start\" x=\"25\" y=\"-82.8\" font-family=\"Times,serif\" font-size=\"14.00\">R</text>\n",
       "<polygon fill=\"none\" stroke=\"black\" points=\"38,-76 38,-97 52,-97 52,-76 38,-76\"/>\n",
       "<text text-anchor=\"start\" x=\"41\" y=\"-82.8\" font-family=\"Times,serif\" font-size=\"14.00\">S</text>\n",
       "</g>\n",
       "<!-- B -->\n",
       "<g id=\"node2\" class=\"node\">\n",
       "<title>B</title>\n",
       "<ellipse fill=\"none\" stroke=\"black\" cx=\"30\" cy=\"-18\" rx=\"27\" ry=\"18\"/>\n",
       "<text text-anchor=\"middle\" x=\"30\" y=\"-14.3\" font-family=\"Times,serif\" font-size=\"14.00\">B</text>\n",
       "</g>\n",
       "<!-- A&#45;&gt;B -->\n",
       "<g id=\"edge1\" class=\"edge\">\n",
       "<title>A&#45;&gt;B</title>\n",
       "<path fill=\"none\" stroke=\"black\" d=\"M30,-71.64C30,-63.67 30,-54.77 30,-46.58\"/>\n",
       "<polygon fill=\"black\" stroke=\"black\" points=\"33.5,-46.38 30,-36.38 26.5,-46.38 33.5,-46.38\"/>\n",
       "</g>\n",
       "</g>\n",
       "</svg>\n"
      ],
      "text/plain": [
       "<graphviz.graphs.Digraph at 0x7dd769038a60>"
      ]
     },
     "metadata": {},
     "output_type": "display_data"
    }
   ],
   "source": [
    "display(graf16)"
   ]
  }
 ],
 "metadata": {
  "colab": {
   "provenance": [],
   "toc_visible": true
  },
  "kernelspec": {
   "display_name": "Python 3",
   "language": "python",
   "name": "python3"
  },
  "language_info": {
   "codemirror_mode": {
    "name": "ipython",
    "version": 3
   },
   "file_extension": ".py",
   "mimetype": "text/x-python",
   "name": "python",
   "nbconvert_exporter": "python",
   "pygments_lexer": "ipython3",
   "version": "3.13.3"
  }
 },
 "nbformat": 4,
 "nbformat_minor": 0
}
