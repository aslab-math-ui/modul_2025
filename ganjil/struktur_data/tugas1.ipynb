{
 "cells": [
  {
   "cell_type": "markdown",
   "id": "86adf04a",
   "metadata": {},
   "source": [
    "---\n",
    "title: \"Tugas 1 Praktikum Struktur Data: Array, Linked List, OOP\"\n",
    "subtitle: \"Assignment 1: Array, Linked List, OOP\"\n",
    "description: \"Tugas Individu, Take Home\"\n",
    "date: 10/01/2025\n",
    "page-navigation: true\n",
    "format: html\n",
    "---"
   ]
  },
  {
   "cell_type": "markdown",
   "id": "8e52c998",
   "metadata": {},
   "source": [
    "Kembali ke [Struktur Data](./strukdat2025.qmd)"
   ]
  },
  {
   "cell_type": "markdown",
   "id": "708b2714",
   "metadata": {},
   "source": [
    "Tugas ini diberikan pada hari dan tanggal: Rabu, 1 Oktober 2025"
   ]
  },
  {
   "cell_type": "markdown",
   "id": "b35bec9b",
   "metadata": {},
   "source": [
    "# Petunjuk umum"
   ]
  },
  {
   "cell_type": "markdown",
   "id": "362ab051",
   "metadata": {},
   "source": [
    "1. Kerjakan secara individu.\n",
    "\n",
    "2. Kerjakan tugas ini menggunakan bahasa pemrograman Python dengan *file format* berupa *interactive Python notebook* (yaitu *file* berbentuk .ipynb BUKAN .py), yang bisa dibuat misalnya menggunakan Jupyter Notebook atau Google Colaboratory.\n",
    "\n",
    "3. **Harap sertakan penjelasan untuk setiap variabel yang digunakan dan setiap proses secara singkat** di sebelah (atas/bawah/kanan) barisnya (dengan comment, `#`). Selain itu, **sertakan juga penjelasan kode** (yang bisa mencakupi idenya apa, bagaimana cara eksekusinya, atau tentang algoritma yang digunakan) **pada *cell* di sebelah (atas/bawah) kode**.\n",
    "\n",
    "4. Format nama *file* untuk Tugas 1 ini adalah:\n",
    "\n",
    "    Kelas SIAK_Tugas1PrakStrukdat_Nama Lengkap_NPM.ipynb\n",
    "\n",
    "    Contoh penamaan yang benar:\n",
    "\n",
    "    Kelas C_Tugas1PrakStrukdat_Haikal Fikri Rabani_2206823713.ipynb\n",
    "\n",
    "5. Pengumpulan Tugas 1 dilakukan ke Google Forms berikut ini:\n",
    "\n",
    "    [https://bit.ly/KumpulTugasPrakStrukdat2025Ganjil](https://bit.ly/KumpulTugasPrakStrukdat2025Ganjil)\n",
    "\n",
    "6. Apabila ada yang ingin direvisi setelah pengumpulan, lakukan pengumpulan ulang di Google Forms yang sama, tambahkan keterangan bahwa ada revisi, dan tambahkan kata “revisi” pada bagian akhir nama file, contohnya menjadi\n",
    "\n",
    "    Kelas C_Tugas1PrakStrukdat_Haikal Fikri Rabani_2206823713_revisi.ipynb\n",
    "\n",
    "    Kelas C_Tugas1PrakStrukdat_Haikal Fikri Rabani_2206823713_revisi2.ipynb\n",
    "\n",
    "    Kelas C_Tugas1PrakStrukdat_Haikal Fikri Rabani_2206823713_revisi3.ipynb\n",
    "\n",
    "    (Revisi boleh dilakukan berkali-kali.)\n",
    "\n",
    "7. Dengan durasi pengerjaan sekitar **12 Hari**, tenggat waktu (*deadline*) pengumpulan Tugas 1 ini (termasuk revisi) adalah **Minggu, 12 Oktober 2025, 23.59 WIB**.\n",
    "\n",
    "8. Sesuai standar Universitas Indonesia, **plagiarisme dilarang keras** dan bisa menyebabkan nilai tugas praktikum **menjadi nol untuk semua pihak yang terlibat, tanpa peringatan apapun.** Namun, Anda boleh langsung menggunakan kode yang ada di [modul praktikum](./strukdat2025.qmd).\n",
    "\n",
    "    **Kriteria Plagiarisme**:\n",
    "\n",
    "    - Mengirimkan proyek submission milik mahasiswa lain.\n",
    "    - Menyalin sebagian besar submission dari proyek mahasiswa lain.\n",
    "    - Memiliki kesamaan substansial (>70%) dengan sumber lain tanpa atribusi yang layak.\n",
    "    \n",
    "    **Konsekuensi**: Kami memiliki hak mutlak untuk mengenakan sanksi kepada peserta plagiat.\n",
    "\n",
    "    - Tim Asisten berhak melapor ke dosen pengampu mata kuliah.\n",
    "    - Atas izin dosen, Tim Asisten berhak memberikan matriks penilaian 0 (nol), tanpa terkecuali.\n",
    "\n",
    "9. *Module* atau *package* Python yang boleh digunakan (di-*import*) untuk Tugas 1 ini hanyalah numpy dan graphviz. Apabila Anda berniat ingin menggunakan *module* lain, harap konfirmasikan ke narahubung terlebih dahulu (bisa saja diperbolehkan).\n",
    "\n",
    "10. Narahubung untuk Tugas 1 Praktikum Struktur Data adalah:\n",
    "\n",
    "    Dimas Prasetya Utama (ID LINE: dimas.p.u)\n",
    "\n",
    "    Pandu Adjie Sukarno (ID LINE: pandu.adj)\n",
    "    \n",
    "    Silakan hubungi narahubung di atas apabila ada yang ingin ditanyakan atau dikonfirmasikan."
   ]
  },
  {
   "cell_type": "markdown",
   "id": "10fec270",
   "metadata": {},
   "source": [
    "# Soal"
   ]
  },
  {
   "cell_type": "markdown",
   "id": "3740cf0b",
   "metadata": {},
   "source": [
    "Tugas ini terdiri dari satu soal besar yang terbagi menjadi lima nomor."
   ]
  },
  {
   "cell_type": "markdown",
   "id": "c81abe85",
   "metadata": {},
   "source": [
    "Suatu polinomial dalam satu variabel memiliki bentuk\n",
    "\n",
    "$$a_nx^n+a_{n-1}x^{n-1}+...+a_2x^2+a_1x+a_0$$\n",
    "\n",
    "di mana bagian $a_ix^i$ disebut sebagai *term* (suku). Setiap *term* memiliki dua komponen, yaitu $a_i$ yang merupakan koefisien dari suatu *term* dan $i$ pada $x^i$ yang merupakan derajat dari suatu *term* untuk $i=0,1,...,n$.\n",
    "\n",
    "Kita dapat merepresentasikan suatu polinomial dengan menggunakan *singly linked list* di mana satu *term* pada polinomial dapat direpresentasikan sebagai satu *node* pada *linked list*. Sehingga *node* pada *linked list* polinomial akan memiliki tiga komponen, yaitu koefisien dan derajat (yang merupakan komponen data) serta next (yang merupakan pointer).\n"
   ]
  },
  {
   "cell_type": "markdown",
   "id": "31c7aa4f",
   "metadata": {},
   "source": [
    "## No 1"
   ]
  },
  {
   "cell_type": "markdown",
   "id": "940021ab",
   "metadata": {},
   "source": [
    "1. **[25]** Buatlah ``class NodePolynomial`` yaitu class untuk menyimpan ketiga komponen di atas dalam suatu *node*. Kemudian buat juga ``class SLLPolynomial`` (dapat berupa *child class* dari ``class SLList`` yang pernah dipelajari ataupun suatu *class* tersendiri) dengan satu *pointer* utama ``head`` dan satu operasi memasukkan node, yaitu ``insert_node``. Ketentuan memasukkan node pada linked list polinomial adalah sebagai berikut:\n",
    "\n",
    "- Nilai koefisien pada *node* baru tidak boleh nol (Pada polinomial seharusnya bisa saja memiliki koefisien yang nol, namun pada umumnya *term* dengan koefisien nol tidak ditampilkan sehingga disini juga tidak usah dimasukkan sebagai *node*),\n",
    "\n",
    "- *Node* yang ditunjuk ``head`` harus *node* dengan nilai derajat paling besar,\n",
    "\n",
    "- *Linked list* harus terurut mulai dari derajat terbesar hingga terkecil,\n",
    "\n",
    "- Jika memasukkan *node* dengan derajat yang sudah ada pada linked list, maka nilai koefisien pada *node* baru akan dijumlahkan dengan nilai koefisien *node* yang sudah ada.\n",
    "\n",
    "Kemudian representasikan polinomial berikut dalam bentuk *linked list*\n",
    "  \n",
    "$$Q_1(x) = 7x^8 - 12x^6 + 3x^5 - 3x^3 - 2x +5$$"
   ]
  },
  {
   "cell_type": "markdown",
   "id": "43e79d20",
   "metadata": {},
   "source": [
    "### Contoh:"
   ]
  },
  {
   "cell_type": "code",
   "execution_count": 76,
   "id": "24c48df7",
   "metadata": {},
   "outputs": [],
   "source": [
    "polinomial1 = SLLPolynomial()\n",
    "polinomial1.insert_node(7,5)\n",
    "polinomial1.insert_node(-10,4)\n",
    "polinomial1.insert_node(3,2)\n",
    "polinomial1.insert_node(-2,2)"
   ]
  },
  {
   "cell_type": "code",
   "execution_count": 112,
   "id": "65e86882",
   "metadata": {},
   "outputs": [
    {
     "name": "stdout",
     "output_type": "stream",
     "text": [
      "head -> koefisien : 2, derajat : 5 -> koefisien : -10, derajat : 4 -> koefisien : 1, derajat : 2 -> None\n"
     ]
    }
   ],
   "source": [
    "polinomial1.print_all()"
   ]
  },
  {
   "cell_type": "code",
   "execution_count": 113,
   "id": "105cc424",
   "metadata": {},
   "outputs": [
    {
     "name": "stdout",
     "output_type": "stream",
     "text": [
      "head -> koefisien : -3, derajat : 5 -> koefisien : -10, derajat : 4 -> koefisien : 1, derajat : 2 -> None\n"
     ]
    }
   ],
   "source": [
    "polinomial1.insert_node(-5,5)\n",
    "polinomial1.print_all()"
   ]
  },
  {
   "cell_type": "code",
   "execution_count": 79,
   "id": "39744526",
   "metadata": {},
   "outputs": [
    {
     "name": "stdout",
     "output_type": "stream",
     "text": [
      "head -> koefisien : 2, derajat : 5 -> koefisien : -10, derajat : 4 -> koefisien : 1, derajat : 2 -> None\n"
     ]
    }
   ],
   "source": [
    "polinomial1.print_all()"
   ]
  },
  {
   "cell_type": "code",
   "execution_count": 80,
   "id": "6d7833ef",
   "metadata": {},
   "outputs": [
    {
     "data": {
      "image/svg+xml": [
       "<?xml version=\"1.0\" encoding=\"UTF-8\" standalone=\"no\"?>\n",
       "<!DOCTYPE svg PUBLIC \"-//W3C//DTD SVG 1.1//EN\"\n",
       " \"http://www.w3.org/Graphics/SVG/1.1/DTD/svg11.dtd\">\n",
       "<!-- Generated by graphviz version 12.1.2 (20240928.0832)\n",
       " -->\n",
       "<!-- Pages: 1 -->\n",
       "<svg width=\"914pt\" height=\"192pt\"\n",
       " viewBox=\"0.00 0.00 914.25 192.00\" xmlns=\"http://www.w3.org/2000/svg\" xmlns:xlink=\"http://www.w3.org/1999/xlink\">\n",
       "<g id=\"graph0\" class=\"graph\" transform=\"scale(1 1) rotate(0) translate(4 188)\">\n",
       "<polygon fill=\"white\" stroke=\"none\" points=\"-4,4 -4,-188 910.25,-188 910.25,4 -4,4\"/>\n",
       "<!-- head -->\n",
       "<g id=\"node1\" class=\"node\">\n",
       "<title>head</title>\n",
       "<polygon fill=\"none\" stroke=\"black\" points=\"8,-27 8,-49.5 100.25,-49.5 100.25,-27 8,-27\"/>\n",
       "<text text-anchor=\"start\" x=\"41.38\" y=\"-33.2\" font-family=\"Times New Roman,serif\" font-size=\"14.00\">head</text>\n",
       "<polygon fill=\"none\" stroke=\"black\" points=\"8,-4.5 8,-27 100.25,-27 100.25,-4.5 8,-4.5\"/>\n",
       "<text text-anchor=\"start\" x=\"11\" y=\"-10.7\" font-family=\"Times New Roman,serif\" font-size=\"14.00\">0x2a127991e50</text>\n",
       "</g>\n",
       "<!-- node0 -->\n",
       "<g id=\"node2\" class=\"node\">\n",
       "<title>node0</title>\n",
       "<polygon fill=\"none\" stroke=\"black\" points=\"152.25,-70 152.25,-92 218.25,-92 218.25,-70 152.25,-70\"/>\n",
       "<text text-anchor=\"start\" x=\"154.88\" y=\"-75.7\" font-family=\"Times New Roman,serif\" font-size=\"14.00\">Coefficient</text>\n",
       "<polygon fill=\"none\" stroke=\"black\" points=\"218.25,-70 218.25,-92 263.25,-92 263.25,-70 218.25,-70\"/>\n",
       "<text text-anchor=\"start\" x=\"221.25\" y=\"-75.7\" font-family=\"Times New Roman,serif\" font-size=\"14.00\">Degree</text>\n",
       "<polygon fill=\"none\" stroke=\"black\" points=\"263.25,-70 263.25,-92 354.25,-92 354.25,-70 263.25,-70\"/>\n",
       "<text text-anchor=\"start\" x=\"297.12\" y=\"-75.7\" font-family=\"Times New Roman,serif\" font-size=\"14.00\">next</text>\n",
       "<polygon fill=\"none\" stroke=\"black\" points=\"152.25,-48 152.25,-70 218.25,-70 218.25,-48 152.25,-48\"/>\n",
       "<text text-anchor=\"start\" x=\"181.88\" y=\"-53.7\" font-family=\"Times New Roman,serif\" font-size=\"14.00\">2</text>\n",
       "<polygon fill=\"none\" stroke=\"black\" points=\"218.25,-48 218.25,-70 263.25,-70 263.25,-48 218.25,-48\"/>\n",
       "<text text-anchor=\"start\" x=\"237.38\" y=\"-53.7\" font-family=\"Times New Roman,serif\" font-size=\"14.00\">5</text>\n",
       "<polygon fill=\"none\" stroke=\"black\" points=\"263.25,-48 263.25,-70 354.25,-70 354.25,-48 263.25,-48\"/>\n",
       "<text text-anchor=\"start\" x=\"266\" y=\"-53.7\" font-family=\"Times New Roman,serif\" font-size=\"14.00\">0x2a126aa1290</text>\n",
       "<polygon fill=\"none\" stroke=\"black\" points=\"152.25,-26 152.25,-48 354.25,-48 354.25,-26 152.25,-26\"/>\n",
       "<text text-anchor=\"start\" x=\"219.88\" y=\"-31.7\" font-family=\"Times New Roman,serif\" font-size=\"14.00\">alamat node</text>\n",
       "<polygon fill=\"none\" stroke=\"black\" points=\"152.25,-4 152.25,-26 354.25,-26 354.25,-4 152.25,-4\"/>\n",
       "<text text-anchor=\"start\" x=\"210.12\" y=\"-9.7\" font-family=\"Times New Roman,serif\" font-size=\"14.00\">0x2a127991e50</text>\n",
       "</g>\n",
       "<!-- head&#45;&gt;node0 -->\n",
       "<g id=\"edge1\" class=\"edge\">\n",
       "<title>head:contents&#45;&gt;node0:id</title>\n",
       "<path fill=\"none\" stroke=\"black\" d=\"M101.25,-15.75C119.13,-15.75 126.22,-15.26 139.89,-15.07\"/>\n",
       "<polygon fill=\"black\" stroke=\"black\" points=\"139.76,-18.58 149.74,-15.01 139.71,-11.58 139.76,-18.58\"/>\n",
       "</g>\n",
       "<!-- node1 -->\n",
       "<g id=\"node3\" class=\"node\">\n",
       "<title>node1</title>\n",
       "<polygon fill=\"none\" stroke=\"black\" points=\"406.25,-114 406.25,-136 472.25,-136 472.25,-114 406.25,-114\"/>\n",
       "<text text-anchor=\"start\" x=\"408.88\" y=\"-119.7\" font-family=\"Times New Roman,serif\" font-size=\"14.00\">Coefficient</text>\n",
       "<polygon fill=\"none\" stroke=\"black\" points=\"472.25,-114 472.25,-136 517.25,-136 517.25,-114 472.25,-114\"/>\n",
       "<text text-anchor=\"start\" x=\"475.25\" y=\"-119.7\" font-family=\"Times New Roman,serif\" font-size=\"14.00\">Degree</text>\n",
       "<polygon fill=\"none\" stroke=\"black\" points=\"517.25,-114 517.25,-136 610.25,-136 610.25,-114 517.25,-114\"/>\n",
       "<text text-anchor=\"start\" x=\"552.12\" y=\"-119.7\" font-family=\"Times New Roman,serif\" font-size=\"14.00\">next</text>\n",
       "<polygon fill=\"none\" stroke=\"black\" points=\"406.25,-92 406.25,-114 472.25,-114 472.25,-92 406.25,-92\"/>\n",
       "<text text-anchor=\"start\" x=\"430.25\" y=\"-97.7\" font-family=\"Times New Roman,serif\" font-size=\"14.00\">&#45;10</text>\n",
       "<polygon fill=\"none\" stroke=\"black\" points=\"472.25,-92 472.25,-114 517.25,-114 517.25,-92 472.25,-92\"/>\n",
       "<text text-anchor=\"start\" x=\"491.38\" y=\"-97.7\" font-family=\"Times New Roman,serif\" font-size=\"14.00\">4</text>\n",
       "<polygon fill=\"none\" stroke=\"black\" points=\"517.25,-92 517.25,-114 610.25,-114 610.25,-92 517.25,-92\"/>\n",
       "<text text-anchor=\"start\" x=\"520.25\" y=\"-97.7\" font-family=\"Times New Roman,serif\" font-size=\"14.00\">0x2a1279915d0</text>\n",
       "<polygon fill=\"none\" stroke=\"black\" points=\"406.25,-70 406.25,-92 610.25,-92 610.25,-70 406.25,-70\"/>\n",
       "<text text-anchor=\"start\" x=\"474.88\" y=\"-75.7\" font-family=\"Times New Roman,serif\" font-size=\"14.00\">alamat node</text>\n",
       "<polygon fill=\"none\" stroke=\"black\" points=\"406.25,-48 406.25,-70 610.25,-70 610.25,-48 406.25,-48\"/>\n",
       "<text text-anchor=\"start\" x=\"465.5\" y=\"-53.7\" font-family=\"Times New Roman,serif\" font-size=\"14.00\">0x2a126aa1290</text>\n",
       "</g>\n",
       "<!-- node0&#45;&gt;node1 -->\n",
       "<g id=\"edge2\" class=\"edge\">\n",
       "<title>node0:next&#45;&gt;node1:id</title>\n",
       "<path fill=\"none\" stroke=\"black\" d=\"M355.25,-59C373.13,-59 380.22,-59 393.89,-59\"/>\n",
       "<polygon fill=\"black\" stroke=\"black\" points=\"393.74,-62.5 403.74,-59 393.74,-55.5 393.74,-62.5\"/>\n",
       "</g>\n",
       "<!-- node2 -->\n",
       "<g id=\"node4\" class=\"node\">\n",
       "<title>node2</title>\n",
       "<polygon fill=\"none\" stroke=\"black\" points=\"662.25,-158 662.25,-180 728.25,-180 728.25,-158 662.25,-158\"/>\n",
       "<text text-anchor=\"start\" x=\"664.88\" y=\"-163.7\" font-family=\"Times New Roman,serif\" font-size=\"14.00\">Coefficient</text>\n",
       "<polygon fill=\"none\" stroke=\"black\" points=\"728.25,-158 728.25,-180 773.25,-180 773.25,-158 728.25,-158\"/>\n",
       "<text text-anchor=\"start\" x=\"731.25\" y=\"-163.7\" font-family=\"Times New Roman,serif\" font-size=\"14.00\">Degree</text>\n",
       "<polygon fill=\"none\" stroke=\"black\" points=\"773.25,-158 773.25,-180 808.25,-180 808.25,-158 773.25,-158\"/>\n",
       "<text text-anchor=\"start\" x=\"779.12\" y=\"-163.7\" font-family=\"Times New Roman,serif\" font-size=\"14.00\">next</text>\n",
       "<polygon fill=\"none\" stroke=\"black\" points=\"662.25,-136 662.25,-158 728.25,-158 728.25,-136 662.25,-136\"/>\n",
       "<text text-anchor=\"start\" x=\"691.88\" y=\"-141.7\" font-family=\"Times New Roman,serif\" font-size=\"14.00\">1</text>\n",
       "<polygon fill=\"none\" stroke=\"black\" points=\"728.25,-136 728.25,-158 773.25,-158 773.25,-136 728.25,-136\"/>\n",
       "<text text-anchor=\"start\" x=\"747.38\" y=\"-141.7\" font-family=\"Times New Roman,serif\" font-size=\"14.00\">2</text>\n",
       "<polygon fill=\"none\" stroke=\"black\" points=\"773.25,-136 773.25,-158 808.25,-158 808.25,-136 773.25,-136\"/>\n",
       "<text text-anchor=\"start\" x=\"776.12\" y=\"-141.7\" font-family=\"Times New Roman,serif\" font-size=\"14.00\">None</text>\n",
       "<polygon fill=\"none\" stroke=\"black\" points=\"662.25,-114 662.25,-136 808.25,-136 808.25,-114 662.25,-114\"/>\n",
       "<text text-anchor=\"start\" x=\"701.88\" y=\"-119.7\" font-family=\"Times New Roman,serif\" font-size=\"14.00\">alamat node</text>\n",
       "<polygon fill=\"none\" stroke=\"black\" points=\"662.25,-92 662.25,-114 808.25,-114 808.25,-92 662.25,-92\"/>\n",
       "<text text-anchor=\"start\" x=\"691.75\" y=\"-97.7\" font-family=\"Times New Roman,serif\" font-size=\"14.00\">0x2a1279915d0</text>\n",
       "</g>\n",
       "<!-- node1&#45;&gt;node2 -->\n",
       "<g id=\"edge3\" class=\"edge\">\n",
       "<title>node1:next&#45;&gt;node2:id</title>\n",
       "<path fill=\"none\" stroke=\"black\" d=\"M611.25,-103C629.13,-103 636.22,-103 649.89,-103\"/>\n",
       "<polygon fill=\"black\" stroke=\"black\" points=\"649.74,-106.5 659.74,-103 649.74,-99.5 649.74,-106.5\"/>\n",
       "</g>\n",
       "<!-- node3 -->\n",
       "<g id=\"node5\" class=\"node\">\n",
       "<title>node3</title>\n",
       "<text text-anchor=\"middle\" x=\"879.25\" y=\"-141.95\" font-family=\"Times New Roman,serif\" font-size=\"14.00\">None</text>\n",
       "</g>\n",
       "<!-- node2&#45;&gt;node3 -->\n",
       "<g id=\"edge4\" class=\"edge\">\n",
       "<title>node2:next&#45;&gt;node3</title>\n",
       "<path fill=\"none\" stroke=\"black\" d=\"M809.25,-147C819.61,-147 830.84,-147 841.17,-147\"/>\n",
       "<polygon fill=\"black\" stroke=\"black\" points=\"840.85,-150.5 850.85,-147 840.85,-143.5 840.85,-150.5\"/>\n",
       "</g>\n",
       "</g>\n",
       "</svg>\n"
      ],
      "text/plain": [
       "<graphviz.graphs.Digraph at 0x2a126a07490>"
      ]
     },
     "execution_count": 80,
     "metadata": {},
     "output_type": "execute_result"
    }
   ],
   "source": [
    "polinomial1.get_digraph()"
   ]
  },
  {
   "cell_type": "markdown",
   "id": "e4866daf",
   "metadata": {},
   "source": [
    "## No 2"
   ]
  },
  {
   "cell_type": "markdown",
   "id": "24f74942",
   "metadata": {},
   "source": [
    "Hasil polinomial pada contoh di atas adalah\n",
    "$$P_1(x)=2x^5 - 10x^4 + x^2$$"
   ]
  },
  {
   "cell_type": "markdown",
   "id": "1448b5ca",
   "metadata": {},
   "source": [
    "2. **[15]** Diberikan suatu array $A=[a_0, a_1, ..., a_n]$ di mana elemen $a_i$ merupakan nilai koefisien dari suatu polinomial pada *term* berderajat $i$. Buatlah fungsi ``to_linked_list`` yang mengubah array $A$ menjadi suatu *linked list* polinomial. Tentukan Big-O dari algoritma yang telah anda buat dan berikan penjelasan atas jawaban anda (secara deskriptif saja).\n",
    "\n",
    "    Kemudian tentukan array dari polinomial berikut dan ubah menjadi *linked list* polinomial menggunakan fungsi ``to_linked_list`` yang telah anda buat\n",
    "\n",
    "    $$Q_2(x) = 9x^{12} + 12x^8 -5x^6 - 15x^3 + 4x^2 - 3$$\n"
   ]
  },
  {
   "cell_type": "markdown",
   "id": "d2717ed0",
   "metadata": {},
   "source": [
    "### Contoh:"
   ]
  },
  {
   "cell_type": "code",
   "execution_count": 87,
   "id": "af3f06fe",
   "metadata": {},
   "outputs": [
    {
     "name": "stdout",
     "output_type": "stream",
     "text": [
      "head -> koefisien : 8, derajat : 8 -> koefisien : 6, derajat : 6 -> koefisien : -1, derajat : 5 -> koefisien : 3, derajat : 3 -> koefisien : 2, derajat : 2 -> None\n"
     ]
    }
   ],
   "source": [
    "A = np.array([0, 0, 2, 3, 0, -1, 6, 0, 8])\n",
    "polinomial2 = to_linked_list(A)\n",
    "polinomial2.print_all()"
   ]
  },
  {
   "cell_type": "markdown",
   "id": "b385be4d",
   "metadata": {},
   "source": [
    "## No 3"
   ]
  },
  {
   "cell_type": "markdown",
   "id": "f6dd9a6f",
   "metadata": {},
   "source": [
    "3. **[15]** Buat *method* ``hapus`` yang berfungsi menghapus node yang diinginkan berdasarkan input yang diberikan. *Method* ini harus dapat menghapus node berdasarkan index, koefisien, ataupun derajat. Sebagai contoh:\n",
    "\n",
    "Diberikan $$P_2(x) = 10x^4 + 7x^6 + 5x^5 + 10x^3 + 2$$\n",
    "\n",
    "- Jika ingin dihapus term dengan derajat 5, maka polinomial akan menjadi $10x^4 + 7x^6 + 10x^3 + 2$\n",
    "\n",
    "- Jika ingin dihapus term dengan koefisien 10, maka polinomial akan menjadi $7x^6 + 5x^5 + 2$\n",
    "\n",
    "- Jika ingin dihapus index ke 0, maka polinomial akan menjadi $10x^4 + 5x^5 + 10x^3 + 2$"
   ]
  },
  {
   "cell_type": "markdown",
   "id": "6abc5487",
   "metadata": {},
   "source": [
    "### Contoh:"
   ]
  },
  {
   "cell_type": "code",
   "execution_count": 133,
   "id": "30d30206",
   "metadata": {},
   "outputs": [
    {
     "name": "stdout",
     "output_type": "stream",
     "text": [
      "head -> koefisien : 7, derajat : 6 -> koefisien : 5, derajat : 5 -> koefisien : 10, derajat : 4 -> koefisien : 10, derajat : 3 -> koefisien : 2, derajat : 0 -> None\n"
     ]
    }
   ],
   "source": [
    "polinomial3 = SLLPolynomial()\n",
    "polinomial3.arr([2, 0, 0, 10, 10, 5, 7]) # method ini tidak perlu dibuat\n",
    "polinomial3.print_all()"
   ]
  },
  {
   "cell_type": "code",
   "execution_count": 134,
   "id": "8645503d",
   "metadata": {},
   "outputs": [
    {
     "name": "stdout",
     "output_type": "stream",
     "text": [
      "head -> koefisien : 7, derajat : 6 -> koefisien : 10, derajat : 4 -> koefisien : 10, derajat : 3 -> koefisien : 2, derajat : 0 -> None\n"
     ]
    }
   ],
   "source": [
    "polinomial3.hapus('derajat', 5)\n",
    "polinomial3.print_all()"
   ]
  },
  {
   "cell_type": "code",
   "execution_count": 135,
   "id": "39737d5b",
   "metadata": {},
   "outputs": [
    {
     "name": "stdout",
     "output_type": "stream",
     "text": [
      "head -> koefisien : 7, derajat : 6 -> koefisien : 10, derajat : 4 -> koefisien : 10, derajat : 3 -> koefisien : 2, derajat : 0 -> None\n"
     ]
    }
   ],
   "source": [
    "polinomial3.hapus('koefisien', 5)\n",
    "polinomial3.print_all()"
   ]
  },
  {
   "cell_type": "code",
   "execution_count": 136,
   "id": "ee4c3db7",
   "metadata": {},
   "outputs": [
    {
     "data": {
      "text/plain": [
       "'Pastikan index yang anda input benar, yakni non negatif dan lebih kecil dari ukuran list'"
      ]
     },
     "execution_count": 136,
     "metadata": {},
     "output_type": "execute_result"
    }
   ],
   "source": [
    "polinomial3.hapus('index', 5)"
   ]
  },
  {
   "cell_type": "code",
   "execution_count": 137,
   "id": "12aee51e",
   "metadata": {},
   "outputs": [
    {
     "name": "stdout",
     "output_type": "stream",
     "text": [
      "head -> koefisien : 7, derajat : 6 -> koefisien : 10, derajat : 4 -> koefisien : 10, derajat : 3 -> koefisien : 2, derajat : 0 -> None\n"
     ]
    }
   ],
   "source": [
    "polinomial3.print_all()"
   ]
  },
  {
   "cell_type": "code",
   "execution_count": 138,
   "id": "e92721e8",
   "metadata": {},
   "outputs": [
    {
     "name": "stdout",
     "output_type": "stream",
     "text": [
      "head -> koefisien : 7, derajat : 6 -> koefisien : 10, derajat : 4 -> koefisien : 2, derajat : 0 -> None\n"
     ]
    }
   ],
   "source": [
    "polinomial3.hapus('index', 2)\n",
    "polinomial3.print_all()"
   ]
  },
  {
   "cell_type": "markdown",
   "id": "a9131db5",
   "metadata": {},
   "source": [
    "## No 4"
   ]
  },
  {
   "cell_type": "markdown",
   "id": "765f86a6",
   "metadata": {},
   "source": [
    "4. **[15]** Buat fungsi atau *method* ``evaluate``, jika diberikan linked list polinomial $P(x)$ dan suatu nilai tertentu $c$, fungsi atau *method* ini akan mengembalikan hasil evaluasi polinomial tersebut pada nilai $x=c$, yaitu $P(c)$.\n",
    "\n",
    "    Kemudian evaluasi polinomial $Q_1(x)$ dan $Q_2(x)$ pada no. 2 untuk $x = 24$."
   ]
  },
  {
   "cell_type": "markdown",
   "id": "eaac1289",
   "metadata": {},
   "source": [
    "### Contoh:"
   ]
  },
  {
   "cell_type": "markdown",
   "id": "4f2afd2e",
   "metadata": {},
   "source": [
    "Pada polinomial di contoh sebelumnya, yakni $P_2(x)$. Jika di evaluasi pada $x = 0$ dan $x = 2$ adalah sebagai berikut:"
   ]
  },
  {
   "cell_type": "markdown",
   "id": "00277512",
   "metadata": {},
   "source": [
    "$$P_2(0) = 10(0)^4 + 7(0)^6 + 5(0)^5 + 10(0)^3 + 2 = 2$$"
   ]
  },
  {
   "cell_type": "code",
   "execution_count": 139,
   "id": "765c4117",
   "metadata": {},
   "outputs": [
    {
     "data": {
      "text/plain": [
       "2"
      ]
     },
     "execution_count": 139,
     "metadata": {},
     "output_type": "execute_result"
    }
   ],
   "source": [
    "polinomial3 = SLLPolynomial()\n",
    "polinomial3.arr([2, 0, 0, 10, 10, 5, 7]) # method ini tidak perlu dibuat\n",
    "polinomial3.evaluate(0)"
   ]
  },
  {
   "cell_type": "markdown",
   "id": "b17d596d",
   "metadata": {},
   "source": [
    "$$P_2(2) = 10(2)^4 + 7(2)^6 + 5(2)^5 + 10(2)^3 + 2 = 850$$"
   ]
  },
  {
   "cell_type": "code",
   "execution_count": 140,
   "id": "408ad750",
   "metadata": {},
   "outputs": [
    {
     "data": {
      "text/plain": [
       "850"
      ]
     },
     "execution_count": 140,
     "metadata": {},
     "output_type": "execute_result"
    }
   ],
   "source": [
    "polinomial3.evaluate(2)"
   ]
  },
  {
   "cell_type": "markdown",
   "id": "be29af16",
   "metadata": {},
   "source": [
    "## No 5"
   ]
  },
  {
   "cell_type": "markdown",
   "id": "e7038e6a",
   "metadata": {},
   "source": [
    "5. **[30]** Misalkan diberikan dua polinomial\n",
    "$$P_1(x) = a_nx^n+a_{n-1}x^{n-1}+...+a_2x^2+a_1x+a_0$$\n",
    "$$P_2(x) = b_mx^m+b_{m-1}x^{m-1}+...+b_2x^2+b_1x+b_0$$\n",
    "\n",
    "Perkalian dua polinomial didefinisikan sebagai\n",
    "\n",
    "\\begin{align*}\n",
    "P_1(x)*P_2(x)&=(a_nx^n+a_{n-1}x^{n-1}+...+a_2x^2+a_1x+a_0)(b_mx^m+b_{m-1}x^{m-1}+...+b_2x^2+b_1x+b_0) \\\\\n",
    "&= a_nb_mx^{n+ m} + (a_nb_{m-1} + a_{n-1}b_m)x^{n+ m-1}+... + a_0b_0\\\\\n",
    "\n",
    "\\end{align*}\n",
    "\n",
    "atau\n",
    "\n",
    "$$P_1(x)*P_2(x)=c_{n+m}x^{n+m}+c_{n+m-1}x^{n+m-1}+...+c_2x^2+c_1x+c_0$$\n",
    "\n",
    "dimana \n",
    "\n",
    "$$c_i = a_ib_0+a_{i-1}b_1+...+a_1b_{i-1}+a_0b_i, \\forall i =0,1,..., n+m$$\n",
    "\n",
    "Masih bermain dengan `SLLPolynomial`, gunakan *operator overloading* untuk mengubah operator ``*`` agar dapat mengalikan dua polinomial seperti diatas. Kemudian tentukan $Q_1(x)*Q_2(x)$"
   ]
  },
  {
   "cell_type": "markdown",
   "id": "4484f1e2",
   "metadata": {},
   "source": [
    "### Contoh:"
   ]
  },
  {
   "cell_type": "markdown",
   "id": "ac9a2dd0",
   "metadata": {},
   "source": [
    "Misal $P(x) = x^5+3x^4+22x^2+4$ dan $R(x) = 8x^8+6x^6-x^5+3x^3+2x^2$"
   ]
  },
  {
   "cell_type": "code",
   "execution_count": 2,
   "id": "929d6062",
   "metadata": {},
   "outputs": [
    {
     "name": "stdout",
     "output_type": "stream",
     "text": [
      "head -> koefisien : 1, derajat : 5 -> koefisien : 3, derajat : 4 -> koefisien : 22, derajat : 2 -> koefisien : 4, derajat : 0 -> None\n"
     ]
    }
   ],
   "source": [
    "pol1 = SLLPolynomial()\n",
    "pol1.arr([4, 0, 22, 0, 3, 1])\n",
    "pol1.print_all()"
   ]
  },
  {
   "cell_type": "code",
   "execution_count": 3,
   "id": "0d361222",
   "metadata": {},
   "outputs": [
    {
     "data": {
      "image/svg+xml": [
       "<?xml version=\"1.0\" encoding=\"UTF-8\" standalone=\"no\"?>\n",
       "<!DOCTYPE svg PUBLIC \"-//W3C//DTD SVG 1.1//EN\"\n",
       " \"http://www.w3.org/Graphics/SVG/1.1/DTD/svg11.dtd\">\n",
       "<!-- Generated by graphviz version 12.1.2 (20240928.0832)\n",
       " -->\n",
       "<!-- Pages: 1 -->\n",
       "<svg width=\"1165pt\" height=\"236pt\"\n",
       " viewBox=\"0.00 0.00 1164.50 236.00\" xmlns=\"http://www.w3.org/2000/svg\" xmlns:xlink=\"http://www.w3.org/1999/xlink\">\n",
       "<g id=\"graph0\" class=\"graph\" transform=\"scale(1 1) rotate(0) translate(4 232)\">\n",
       "<polygon fill=\"white\" stroke=\"none\" points=\"-4,4 -4,-232 1160.5,-232 1160.5,4 -4,4\"/>\n",
       "<!-- head -->\n",
       "<g id=\"node1\" class=\"node\">\n",
       "<title>head</title>\n",
       "<polygon fill=\"none\" stroke=\"black\" points=\"8,-27 8,-49.5 99.5,-49.5 99.5,-27 8,-27\"/>\n",
       "<text text-anchor=\"start\" x=\"41\" y=\"-33.2\" font-family=\"Times New Roman,serif\" font-size=\"14.00\">head</text>\n",
       "<polygon fill=\"none\" stroke=\"black\" points=\"8,-4.5 8,-27 99.5,-27 99.5,-4.5 8,-4.5\"/>\n",
       "<text text-anchor=\"start\" x=\"11\" y=\"-10.7\" font-family=\"Times New Roman,serif\" font-size=\"14.00\">0x148138f3dd0</text>\n",
       "</g>\n",
       "<!-- node0 -->\n",
       "<g id=\"node2\" class=\"node\">\n",
       "<title>node0</title>\n",
       "<polygon fill=\"none\" stroke=\"black\" points=\"151.5,-70 151.5,-92 217.5,-92 217.5,-70 151.5,-70\"/>\n",
       "<text text-anchor=\"start\" x=\"154.12\" y=\"-75.7\" font-family=\"Times New Roman,serif\" font-size=\"14.00\">Coefficient</text>\n",
       "<polygon fill=\"none\" stroke=\"black\" points=\"217.5,-70 217.5,-92 262.5,-92 262.5,-70 217.5,-70\"/>\n",
       "<text text-anchor=\"start\" x=\"220.5\" y=\"-75.7\" font-family=\"Times New Roman,serif\" font-size=\"14.00\">Degree</text>\n",
       "<polygon fill=\"none\" stroke=\"black\" points=\"262.5,-70 262.5,-92 353.5,-92 353.5,-70 262.5,-70\"/>\n",
       "<text text-anchor=\"start\" x=\"296.38\" y=\"-75.7\" font-family=\"Times New Roman,serif\" font-size=\"14.00\">next</text>\n",
       "<polygon fill=\"none\" stroke=\"black\" points=\"151.5,-48 151.5,-70 217.5,-70 217.5,-48 151.5,-48\"/>\n",
       "<text text-anchor=\"start\" x=\"181.12\" y=\"-53.7\" font-family=\"Times New Roman,serif\" font-size=\"14.00\">1</text>\n",
       "<polygon fill=\"none\" stroke=\"black\" points=\"217.5,-48 217.5,-70 262.5,-70 262.5,-48 217.5,-48\"/>\n",
       "<text text-anchor=\"start\" x=\"236.62\" y=\"-53.7\" font-family=\"Times New Roman,serif\" font-size=\"14.00\">5</text>\n",
       "<polygon fill=\"none\" stroke=\"black\" points=\"262.5,-48 262.5,-70 353.5,-70 353.5,-48 262.5,-48\"/>\n",
       "<text text-anchor=\"start\" x=\"265.25\" y=\"-53.7\" font-family=\"Times New Roman,serif\" font-size=\"14.00\">0x148138f33d0</text>\n",
       "<polygon fill=\"none\" stroke=\"black\" points=\"151.5,-26 151.5,-48 353.5,-48 353.5,-26 151.5,-26\"/>\n",
       "<text text-anchor=\"start\" x=\"219.12\" y=\"-31.7\" font-family=\"Times New Roman,serif\" font-size=\"14.00\">alamat node</text>\n",
       "<polygon fill=\"none\" stroke=\"black\" points=\"151.5,-4 151.5,-26 353.5,-26 353.5,-4 151.5,-4\"/>\n",
       "<text text-anchor=\"start\" x=\"209.75\" y=\"-9.7\" font-family=\"Times New Roman,serif\" font-size=\"14.00\">0x148138f3dd0</text>\n",
       "</g>\n",
       "<!-- head&#45;&gt;node0 -->\n",
       "<g id=\"edge1\" class=\"edge\">\n",
       "<title>head:contents&#45;&gt;node0:id</title>\n",
       "<path fill=\"none\" stroke=\"black\" d=\"M100.5,-15.75C118.38,-15.75 125.47,-15.26 139.14,-15.07\"/>\n",
       "<polygon fill=\"black\" stroke=\"black\" points=\"139.01,-18.58 148.99,-15.01 138.96,-11.58 139.01,-18.58\"/>\n",
       "</g>\n",
       "<!-- node1 -->\n",
       "<g id=\"node3\" class=\"node\">\n",
       "<title>node1</title>\n",
       "<polygon fill=\"none\" stroke=\"black\" points=\"405.5,-114 405.5,-136 471.5,-136 471.5,-114 405.5,-114\"/>\n",
       "<text text-anchor=\"start\" x=\"408.12\" y=\"-119.7\" font-family=\"Times New Roman,serif\" font-size=\"14.00\">Coefficient</text>\n",
       "<polygon fill=\"none\" stroke=\"black\" points=\"471.5,-114 471.5,-136 516.5,-136 516.5,-114 471.5,-114\"/>\n",
       "<text text-anchor=\"start\" x=\"474.5\" y=\"-119.7\" font-family=\"Times New Roman,serif\" font-size=\"14.00\">Degree</text>\n",
       "<polygon fill=\"none\" stroke=\"black\" points=\"516.5,-114 516.5,-136 606.5,-136 606.5,-114 516.5,-114\"/>\n",
       "<text text-anchor=\"start\" x=\"549.88\" y=\"-119.7\" font-family=\"Times New Roman,serif\" font-size=\"14.00\">next</text>\n",
       "<polygon fill=\"none\" stroke=\"black\" points=\"405.5,-92 405.5,-114 471.5,-114 471.5,-92 405.5,-92\"/>\n",
       "<text text-anchor=\"start\" x=\"435.12\" y=\"-97.7\" font-family=\"Times New Roman,serif\" font-size=\"14.00\">3</text>\n",
       "<polygon fill=\"none\" stroke=\"black\" points=\"471.5,-92 471.5,-114 516.5,-114 516.5,-92 471.5,-92\"/>\n",
       "<text text-anchor=\"start\" x=\"490.62\" y=\"-97.7\" font-family=\"Times New Roman,serif\" font-size=\"14.00\">4</text>\n",
       "<polygon fill=\"none\" stroke=\"black\" points=\"516.5,-92 516.5,-114 606.5,-114 606.5,-92 516.5,-92\"/>\n",
       "<text text-anchor=\"start\" x=\"519.12\" y=\"-97.7\" font-family=\"Times New Roman,serif\" font-size=\"14.00\">0x148138f3e10</text>\n",
       "<polygon fill=\"none\" stroke=\"black\" points=\"405.5,-70 405.5,-92 606.5,-92 606.5,-70 405.5,-70\"/>\n",
       "<text text-anchor=\"start\" x=\"472.62\" y=\"-75.7\" font-family=\"Times New Roman,serif\" font-size=\"14.00\">alamat node</text>\n",
       "<polygon fill=\"none\" stroke=\"black\" points=\"405.5,-48 405.5,-70 606.5,-70 606.5,-48 405.5,-48\"/>\n",
       "<text text-anchor=\"start\" x=\"463.25\" y=\"-53.7\" font-family=\"Times New Roman,serif\" font-size=\"14.00\">0x148138f33d0</text>\n",
       "</g>\n",
       "<!-- node0&#45;&gt;node1 -->\n",
       "<g id=\"edge2\" class=\"edge\">\n",
       "<title>node0:next&#45;&gt;node1:id</title>\n",
       "<path fill=\"none\" stroke=\"black\" d=\"M354.5,-59C372.38,-59 379.47,-59 393.14,-59\"/>\n",
       "<polygon fill=\"black\" stroke=\"black\" points=\"392.99,-62.5 402.99,-59 392.99,-55.5 392.99,-62.5\"/>\n",
       "</g>\n",
       "<!-- node2 -->\n",
       "<g id=\"node4\" class=\"node\">\n",
       "<title>node2</title>\n",
       "<polygon fill=\"none\" stroke=\"black\" points=\"658.5,-158 658.5,-180 724.5,-180 724.5,-158 658.5,-158\"/>\n",
       "<text text-anchor=\"start\" x=\"661.12\" y=\"-163.7\" font-family=\"Times New Roman,serif\" font-size=\"14.00\">Coefficient</text>\n",
       "<polygon fill=\"none\" stroke=\"black\" points=\"724.5,-158 724.5,-180 769.5,-180 769.5,-158 724.5,-158\"/>\n",
       "<text text-anchor=\"start\" x=\"727.5\" y=\"-163.7\" font-family=\"Times New Roman,serif\" font-size=\"14.00\">Degree</text>\n",
       "<polygon fill=\"none\" stroke=\"black\" points=\"769.5,-158 769.5,-180 860.5,-180 860.5,-158 769.5,-158\"/>\n",
       "<text text-anchor=\"start\" x=\"803.38\" y=\"-163.7\" font-family=\"Times New Roman,serif\" font-size=\"14.00\">next</text>\n",
       "<polygon fill=\"none\" stroke=\"black\" points=\"658.5,-136 658.5,-158 724.5,-158 724.5,-136 658.5,-136\"/>\n",
       "<text text-anchor=\"start\" x=\"684.75\" y=\"-141.7\" font-family=\"Times New Roman,serif\" font-size=\"14.00\">22</text>\n",
       "<polygon fill=\"none\" stroke=\"black\" points=\"724.5,-136 724.5,-158 769.5,-158 769.5,-136 724.5,-136\"/>\n",
       "<text text-anchor=\"start\" x=\"743.62\" y=\"-141.7\" font-family=\"Times New Roman,serif\" font-size=\"14.00\">2</text>\n",
       "<polygon fill=\"none\" stroke=\"black\" points=\"769.5,-136 769.5,-158 860.5,-158 860.5,-136 769.5,-136\"/>\n",
       "<text text-anchor=\"start\" x=\"772.25\" y=\"-141.7\" font-family=\"Times New Roman,serif\" font-size=\"14.00\">0x148138f30d0</text>\n",
       "<polygon fill=\"none\" stroke=\"black\" points=\"658.5,-114 658.5,-136 860.5,-136 860.5,-114 658.5,-114\"/>\n",
       "<text text-anchor=\"start\" x=\"726.12\" y=\"-119.7\" font-family=\"Times New Roman,serif\" font-size=\"14.00\">alamat node</text>\n",
       "<polygon fill=\"none\" stroke=\"black\" points=\"658.5,-92 658.5,-114 860.5,-114 860.5,-92 658.5,-92\"/>\n",
       "<text text-anchor=\"start\" x=\"717.12\" y=\"-97.7\" font-family=\"Times New Roman,serif\" font-size=\"14.00\">0x148138f3e10</text>\n",
       "</g>\n",
       "<!-- node1&#45;&gt;node2 -->\n",
       "<g id=\"edge3\" class=\"edge\">\n",
       "<title>node1:next&#45;&gt;node2:id</title>\n",
       "<path fill=\"none\" stroke=\"black\" d=\"M607.5,-103C625.38,-103 632.47,-103 646.14,-103\"/>\n",
       "<polygon fill=\"black\" stroke=\"black\" points=\"645.99,-106.5 655.99,-103 645.99,-99.5 645.99,-106.5\"/>\n",
       "</g>\n",
       "<!-- node3 -->\n",
       "<g id=\"node5\" class=\"node\">\n",
       "<title>node3</title>\n",
       "<polygon fill=\"none\" stroke=\"black\" points=\"912.5,-202 912.5,-224 978.5,-224 978.5,-202 912.5,-202\"/>\n",
       "<text text-anchor=\"start\" x=\"915.12\" y=\"-207.7\" font-family=\"Times New Roman,serif\" font-size=\"14.00\">Coefficient</text>\n",
       "<polygon fill=\"none\" stroke=\"black\" points=\"978.5,-202 978.5,-224 1023.5,-224 1023.5,-202 978.5,-202\"/>\n",
       "<text text-anchor=\"start\" x=\"981.5\" y=\"-207.7\" font-family=\"Times New Roman,serif\" font-size=\"14.00\">Degree</text>\n",
       "<polygon fill=\"none\" stroke=\"black\" points=\"1023.5,-202 1023.5,-224 1058.5,-224 1058.5,-202 1023.5,-202\"/>\n",
       "<text text-anchor=\"start\" x=\"1029.38\" y=\"-207.7\" font-family=\"Times New Roman,serif\" font-size=\"14.00\">next</text>\n",
       "<polygon fill=\"none\" stroke=\"black\" points=\"912.5,-180 912.5,-202 978.5,-202 978.5,-180 912.5,-180\"/>\n",
       "<text text-anchor=\"start\" x=\"942.12\" y=\"-185.7\" font-family=\"Times New Roman,serif\" font-size=\"14.00\">4</text>\n",
       "<polygon fill=\"none\" stroke=\"black\" points=\"978.5,-180 978.5,-202 1023.5,-202 1023.5,-180 978.5,-180\"/>\n",
       "<text text-anchor=\"start\" x=\"997.62\" y=\"-185.7\" font-family=\"Times New Roman,serif\" font-size=\"14.00\">0</text>\n",
       "<polygon fill=\"none\" stroke=\"black\" points=\"1023.5,-180 1023.5,-202 1058.5,-202 1058.5,-180 1023.5,-180\"/>\n",
       "<text text-anchor=\"start\" x=\"1026.38\" y=\"-185.7\" font-family=\"Times New Roman,serif\" font-size=\"14.00\">None</text>\n",
       "<polygon fill=\"none\" stroke=\"black\" points=\"912.5,-158 912.5,-180 1058.5,-180 1058.5,-158 912.5,-158\"/>\n",
       "<text text-anchor=\"start\" x=\"952.12\" y=\"-163.7\" font-family=\"Times New Roman,serif\" font-size=\"14.00\">alamat node</text>\n",
       "<polygon fill=\"none\" stroke=\"black\" points=\"912.5,-136 912.5,-158 1058.5,-158 1058.5,-136 912.5,-136\"/>\n",
       "<text text-anchor=\"start\" x=\"942.75\" y=\"-141.7\" font-family=\"Times New Roman,serif\" font-size=\"14.00\">0x148138f30d0</text>\n",
       "</g>\n",
       "<!-- node2&#45;&gt;node3 -->\n",
       "<g id=\"edge4\" class=\"edge\">\n",
       "<title>node2:next&#45;&gt;node3:id</title>\n",
       "<path fill=\"none\" stroke=\"black\" d=\"M861.5,-147C879.38,-147 886.47,-147 900.14,-147\"/>\n",
       "<polygon fill=\"black\" stroke=\"black\" points=\"899.99,-150.5 909.99,-147 899.99,-143.5 899.99,-150.5\"/>\n",
       "</g>\n",
       "<!-- node4 -->\n",
       "<g id=\"node6\" class=\"node\">\n",
       "<title>node4</title>\n",
       "<text text-anchor=\"middle\" x=\"1129.5\" y=\"-185.95\" font-family=\"Times New Roman,serif\" font-size=\"14.00\">None</text>\n",
       "</g>\n",
       "<!-- node3&#45;&gt;node4 -->\n",
       "<g id=\"edge5\" class=\"edge\">\n",
       "<title>node3:next&#45;&gt;node4</title>\n",
       "<path fill=\"none\" stroke=\"black\" d=\"M1059.5,-191C1069.86,-191 1081.09,-191 1091.42,-191\"/>\n",
       "<polygon fill=\"black\" stroke=\"black\" points=\"1091.1,-194.5 1101.1,-191 1091.1,-187.5 1091.1,-194.5\"/>\n",
       "</g>\n",
       "</g>\n",
       "</svg>\n"
      ],
      "text/plain": [
       "<graphviz.graphs.Digraph at 0x14813da6990>"
      ]
     },
     "execution_count": 3,
     "metadata": {},
     "output_type": "execute_result"
    }
   ],
   "source": [
    "pol1.get_digraph()"
   ]
  },
  {
   "cell_type": "code",
   "execution_count": 4,
   "id": "d822cb5e",
   "metadata": {},
   "outputs": [
    {
     "name": "stdout",
     "output_type": "stream",
     "text": [
      "head -> koefisien : 8, derajat : 8 -> koefisien : 6, derajat : 6 -> koefisien : -1, derajat : 5 -> koefisien : 3, derajat : 3 -> koefisien : 2, derajat : 2 -> None\n"
     ]
    }
   ],
   "source": [
    "pol2 = SLLPolynomial()\n",
    "pol2.arr([0, 0, 2, 3, 0, -1, 6, 0, 8])\n",
    "pol2.print_all()"
   ]
  },
  {
   "cell_type": "code",
   "execution_count": 5,
   "id": "3a649fe8",
   "metadata": {},
   "outputs": [
    {
     "data": {
      "image/svg+xml": [
       "<?xml version=\"1.0\" encoding=\"UTF-8\" standalone=\"no\"?>\n",
       "<!DOCTYPE svg PUBLIC \"-//W3C//DTD SVG 1.1//EN\"\n",
       " \"http://www.w3.org/Graphics/SVG/1.1/DTD/svg11.dtd\">\n",
       "<!-- Generated by graphviz version 12.1.2 (20240928.0832)\n",
       " -->\n",
       "<!-- Pages: 1 -->\n",
       "<svg width=\"1418pt\" height=\"280pt\"\n",
       " viewBox=\"0.00 0.00 1418.25 280.00\" xmlns=\"http://www.w3.org/2000/svg\" xmlns:xlink=\"http://www.w3.org/1999/xlink\">\n",
       "<g id=\"graph0\" class=\"graph\" transform=\"scale(1 1) rotate(0) translate(4 276)\">\n",
       "<polygon fill=\"white\" stroke=\"none\" points=\"-4,4 -4,-276 1414.25,-276 1414.25,4 -4,4\"/>\n",
       "<!-- head -->\n",
       "<g id=\"node1\" class=\"node\">\n",
       "<title>head</title>\n",
       "<polygon fill=\"none\" stroke=\"black\" points=\"8,-27 8,-49.5 100.25,-49.5 100.25,-27 8,-27\"/>\n",
       "<text text-anchor=\"start\" x=\"41.38\" y=\"-33.2\" font-family=\"Times New Roman,serif\" font-size=\"14.00\">head</text>\n",
       "<polygon fill=\"none\" stroke=\"black\" points=\"8,-4.5 8,-27 100.25,-27 100.25,-4.5 8,-4.5\"/>\n",
       "<text text-anchor=\"start\" x=\"11\" y=\"-10.7\" font-family=\"Times New Roman,serif\" font-size=\"14.00\">0x14813c05e10</text>\n",
       "</g>\n",
       "<!-- node0 -->\n",
       "<g id=\"node2\" class=\"node\">\n",
       "<title>node0</title>\n",
       "<polygon fill=\"none\" stroke=\"black\" points=\"152.25,-70 152.25,-92 218.25,-92 218.25,-70 152.25,-70\"/>\n",
       "<text text-anchor=\"start\" x=\"154.88\" y=\"-75.7\" font-family=\"Times New Roman,serif\" font-size=\"14.00\">Coefficient</text>\n",
       "<polygon fill=\"none\" stroke=\"black\" points=\"218.25,-70 218.25,-92 263.25,-92 263.25,-70 218.25,-70\"/>\n",
       "<text text-anchor=\"start\" x=\"221.25\" y=\"-75.7\" font-family=\"Times New Roman,serif\" font-size=\"14.00\">Degree</text>\n",
       "<polygon fill=\"none\" stroke=\"black\" points=\"263.25,-70 263.25,-92 353.25,-92 353.25,-70 263.25,-70\"/>\n",
       "<text text-anchor=\"start\" x=\"296.62\" y=\"-75.7\" font-family=\"Times New Roman,serif\" font-size=\"14.00\">next</text>\n",
       "<polygon fill=\"none\" stroke=\"black\" points=\"152.25,-48 152.25,-70 218.25,-70 218.25,-48 152.25,-48\"/>\n",
       "<text text-anchor=\"start\" x=\"181.88\" y=\"-53.7\" font-family=\"Times New Roman,serif\" font-size=\"14.00\">8</text>\n",
       "<polygon fill=\"none\" stroke=\"black\" points=\"218.25,-48 218.25,-70 263.25,-70 263.25,-48 218.25,-48\"/>\n",
       "<text text-anchor=\"start\" x=\"237.38\" y=\"-53.7\" font-family=\"Times New Roman,serif\" font-size=\"14.00\">8</text>\n",
       "<polygon fill=\"none\" stroke=\"black\" points=\"263.25,-48 263.25,-70 353.25,-70 353.25,-48 263.25,-48\"/>\n",
       "<text text-anchor=\"start\" x=\"265.88\" y=\"-53.7\" font-family=\"Times New Roman,serif\" font-size=\"14.00\">0x14813c05f10</text>\n",
       "<polygon fill=\"none\" stroke=\"black\" points=\"152.25,-26 152.25,-48 353.25,-48 353.25,-26 152.25,-26\"/>\n",
       "<text text-anchor=\"start\" x=\"219.38\" y=\"-31.7\" font-family=\"Times New Roman,serif\" font-size=\"14.00\">alamat node</text>\n",
       "<polygon fill=\"none\" stroke=\"black\" points=\"152.25,-4 152.25,-26 353.25,-26 353.25,-4 152.25,-4\"/>\n",
       "<text text-anchor=\"start\" x=\"209.62\" y=\"-9.7\" font-family=\"Times New Roman,serif\" font-size=\"14.00\">0x14813c05e10</text>\n",
       "</g>\n",
       "<!-- head&#45;&gt;node0 -->\n",
       "<g id=\"edge1\" class=\"edge\">\n",
       "<title>head:contents&#45;&gt;node0:id</title>\n",
       "<path fill=\"none\" stroke=\"black\" d=\"M101.25,-15.75C119.13,-15.75 126.22,-15.26 139.89,-15.07\"/>\n",
       "<polygon fill=\"black\" stroke=\"black\" points=\"139.76,-18.58 149.74,-15.01 139.71,-11.58 139.76,-18.58\"/>\n",
       "</g>\n",
       "<!-- node1 -->\n",
       "<g id=\"node3\" class=\"node\">\n",
       "<title>node1</title>\n",
       "<polygon fill=\"none\" stroke=\"black\" points=\"405.25,-114 405.25,-136 471.25,-136 471.25,-114 405.25,-114\"/>\n",
       "<text text-anchor=\"start\" x=\"407.88\" y=\"-119.7\" font-family=\"Times New Roman,serif\" font-size=\"14.00\">Coefficient</text>\n",
       "<polygon fill=\"none\" stroke=\"black\" points=\"471.25,-114 471.25,-136 516.25,-136 516.25,-114 471.25,-114\"/>\n",
       "<text text-anchor=\"start\" x=\"474.25\" y=\"-119.7\" font-family=\"Times New Roman,serif\" font-size=\"14.00\">Degree</text>\n",
       "<polygon fill=\"none\" stroke=\"black\" points=\"516.25,-114 516.25,-136 606.25,-136 606.25,-114 516.25,-114\"/>\n",
       "<text text-anchor=\"start\" x=\"549.62\" y=\"-119.7\" font-family=\"Times New Roman,serif\" font-size=\"14.00\">next</text>\n",
       "<polygon fill=\"none\" stroke=\"black\" points=\"405.25,-92 405.25,-114 471.25,-114 471.25,-92 405.25,-92\"/>\n",
       "<text text-anchor=\"start\" x=\"434.88\" y=\"-97.7\" font-family=\"Times New Roman,serif\" font-size=\"14.00\">6</text>\n",
       "<polygon fill=\"none\" stroke=\"black\" points=\"471.25,-92 471.25,-114 516.25,-114 516.25,-92 471.25,-92\"/>\n",
       "<text text-anchor=\"start\" x=\"490.38\" y=\"-97.7\" font-family=\"Times New Roman,serif\" font-size=\"14.00\">6</text>\n",
       "<polygon fill=\"none\" stroke=\"black\" points=\"516.25,-92 516.25,-114 606.25,-114 606.25,-92 516.25,-92\"/>\n",
       "<text text-anchor=\"start\" x=\"518.88\" y=\"-97.7\" font-family=\"Times New Roman,serif\" font-size=\"14.00\">0x14813c05f50</text>\n",
       "<polygon fill=\"none\" stroke=\"black\" points=\"405.25,-70 405.25,-92 606.25,-92 606.25,-70 405.25,-70\"/>\n",
       "<text text-anchor=\"start\" x=\"472.38\" y=\"-75.7\" font-family=\"Times New Roman,serif\" font-size=\"14.00\">alamat node</text>\n",
       "<polygon fill=\"none\" stroke=\"black\" points=\"405.25,-48 405.25,-70 606.25,-70 606.25,-48 405.25,-48\"/>\n",
       "<text text-anchor=\"start\" x=\"463.38\" y=\"-53.7\" font-family=\"Times New Roman,serif\" font-size=\"14.00\">0x14813c05f10</text>\n",
       "</g>\n",
       "<!-- node0&#45;&gt;node1 -->\n",
       "<g id=\"edge2\" class=\"edge\">\n",
       "<title>node0:next&#45;&gt;node1:id</title>\n",
       "<path fill=\"none\" stroke=\"black\" d=\"M354.25,-59C372.13,-59 379.22,-59 392.89,-59\"/>\n",
       "<polygon fill=\"black\" stroke=\"black\" points=\"392.74,-62.5 402.74,-59 392.74,-55.5 392.74,-62.5\"/>\n",
       "</g>\n",
       "<!-- node2 -->\n",
       "<g id=\"node4\" class=\"node\">\n",
       "<title>node2</title>\n",
       "<polygon fill=\"none\" stroke=\"black\" points=\"658.25,-158 658.25,-180 724.25,-180 724.25,-158 658.25,-158\"/>\n",
       "<text text-anchor=\"start\" x=\"660.88\" y=\"-163.7\" font-family=\"Times New Roman,serif\" font-size=\"14.00\">Coefficient</text>\n",
       "<polygon fill=\"none\" stroke=\"black\" points=\"724.25,-158 724.25,-180 769.25,-180 769.25,-158 724.25,-158\"/>\n",
       "<text text-anchor=\"start\" x=\"727.25\" y=\"-163.7\" font-family=\"Times New Roman,serif\" font-size=\"14.00\">Degree</text>\n",
       "<polygon fill=\"none\" stroke=\"black\" points=\"769.25,-158 769.25,-180 861.25,-180 861.25,-158 769.25,-158\"/>\n",
       "<text text-anchor=\"start\" x=\"803.62\" y=\"-163.7\" font-family=\"Times New Roman,serif\" font-size=\"14.00\">next</text>\n",
       "<polygon fill=\"none\" stroke=\"black\" points=\"658.25,-136 658.25,-158 724.25,-158 724.25,-136 658.25,-136\"/>\n",
       "<text text-anchor=\"start\" x=\"685.62\" y=\"-141.7\" font-family=\"Times New Roman,serif\" font-size=\"14.00\">&#45;1</text>\n",
       "<polygon fill=\"none\" stroke=\"black\" points=\"724.25,-136 724.25,-158 769.25,-158 769.25,-136 724.25,-136\"/>\n",
       "<text text-anchor=\"start\" x=\"743.38\" y=\"-141.7\" font-family=\"Times New Roman,serif\" font-size=\"14.00\">5</text>\n",
       "<polygon fill=\"none\" stroke=\"black\" points=\"769.25,-136 769.25,-158 861.25,-158 861.25,-136 769.25,-136\"/>\n",
       "<text text-anchor=\"start\" x=\"772.12\" y=\"-141.7\" font-family=\"Times New Roman,serif\" font-size=\"14.00\">0x14813c05e50</text>\n",
       "<polygon fill=\"none\" stroke=\"black\" points=\"658.25,-114 658.25,-136 861.25,-136 861.25,-114 658.25,-114\"/>\n",
       "<text text-anchor=\"start\" x=\"726.38\" y=\"-119.7\" font-family=\"Times New Roman,serif\" font-size=\"14.00\">alamat node</text>\n",
       "<polygon fill=\"none\" stroke=\"black\" points=\"658.25,-92 658.25,-114 861.25,-114 861.25,-92 658.25,-92\"/>\n",
       "<text text-anchor=\"start\" x=\"717.38\" y=\"-97.7\" font-family=\"Times New Roman,serif\" font-size=\"14.00\">0x14813c05f50</text>\n",
       "</g>\n",
       "<!-- node1&#45;&gt;node2 -->\n",
       "<g id=\"edge3\" class=\"edge\">\n",
       "<title>node1:next&#45;&gt;node2:id</title>\n",
       "<path fill=\"none\" stroke=\"black\" d=\"M607.25,-103C625.13,-103 632.22,-103 645.89,-103\"/>\n",
       "<polygon fill=\"black\" stroke=\"black\" points=\"645.74,-106.5 655.74,-103 645.74,-99.5 645.74,-106.5\"/>\n",
       "</g>\n",
       "<!-- node3 -->\n",
       "<g id=\"node5\" class=\"node\">\n",
       "<title>node3</title>\n",
       "<polygon fill=\"none\" stroke=\"black\" points=\"913.25,-202 913.25,-224 979.25,-224 979.25,-202 913.25,-202\"/>\n",
       "<text text-anchor=\"start\" x=\"915.88\" y=\"-207.7\" font-family=\"Times New Roman,serif\" font-size=\"14.00\">Coefficient</text>\n",
       "<polygon fill=\"none\" stroke=\"black\" points=\"979.25,-202 979.25,-224 1024.25,-224 1024.25,-202 979.25,-202\"/>\n",
       "<text text-anchor=\"start\" x=\"982.25\" y=\"-207.7\" font-family=\"Times New Roman,serif\" font-size=\"14.00\">Degree</text>\n",
       "<polygon fill=\"none\" stroke=\"black\" points=\"1024.25,-202 1024.25,-224 1114.25,-224 1114.25,-202 1024.25,-202\"/>\n",
       "<text text-anchor=\"start\" x=\"1057.62\" y=\"-207.7\" font-family=\"Times New Roman,serif\" font-size=\"14.00\">next</text>\n",
       "<polygon fill=\"none\" stroke=\"black\" points=\"913.25,-180 913.25,-202 979.25,-202 979.25,-180 913.25,-180\"/>\n",
       "<text text-anchor=\"start\" x=\"942.88\" y=\"-185.7\" font-family=\"Times New Roman,serif\" font-size=\"14.00\">3</text>\n",
       "<polygon fill=\"none\" stroke=\"black\" points=\"979.25,-180 979.25,-202 1024.25,-202 1024.25,-180 979.25,-180\"/>\n",
       "<text text-anchor=\"start\" x=\"998.38\" y=\"-185.7\" font-family=\"Times New Roman,serif\" font-size=\"14.00\">3</text>\n",
       "<polygon fill=\"none\" stroke=\"black\" points=\"1024.25,-180 1024.25,-202 1114.25,-202 1114.25,-180 1024.25,-180\"/>\n",
       "<text text-anchor=\"start\" x=\"1026.88\" y=\"-185.7\" font-family=\"Times New Roman,serif\" font-size=\"14.00\">0x1481a436f50</text>\n",
       "<polygon fill=\"none\" stroke=\"black\" points=\"913.25,-158 913.25,-180 1114.25,-180 1114.25,-158 913.25,-158\"/>\n",
       "<text text-anchor=\"start\" x=\"980.38\" y=\"-163.7\" font-family=\"Times New Roman,serif\" font-size=\"14.00\">alamat node</text>\n",
       "<polygon fill=\"none\" stroke=\"black\" points=\"913.25,-136 913.25,-158 1114.25,-158 1114.25,-136 913.25,-136\"/>\n",
       "<text text-anchor=\"start\" x=\"970.62\" y=\"-141.7\" font-family=\"Times New Roman,serif\" font-size=\"14.00\">0x14813c05e50</text>\n",
       "</g>\n",
       "<!-- node2&#45;&gt;node3 -->\n",
       "<g id=\"edge4\" class=\"edge\">\n",
       "<title>node2:next&#45;&gt;node3:id</title>\n",
       "<path fill=\"none\" stroke=\"black\" d=\"M862.25,-147C880.13,-147 887.22,-147 900.89,-147\"/>\n",
       "<polygon fill=\"black\" stroke=\"black\" points=\"900.74,-150.5 910.74,-147 900.74,-143.5 900.74,-150.5\"/>\n",
       "</g>\n",
       "<!-- node4 -->\n",
       "<g id=\"node6\" class=\"node\">\n",
       "<title>node4</title>\n",
       "<polygon fill=\"none\" stroke=\"black\" points=\"1166.25,-246 1166.25,-268 1232.25,-268 1232.25,-246 1166.25,-246\"/>\n",
       "<text text-anchor=\"start\" x=\"1168.88\" y=\"-251.7\" font-family=\"Times New Roman,serif\" font-size=\"14.00\">Coefficient</text>\n",
       "<polygon fill=\"none\" stroke=\"black\" points=\"1232.25,-246 1232.25,-268 1277.25,-268 1277.25,-246 1232.25,-246\"/>\n",
       "<text text-anchor=\"start\" x=\"1235.25\" y=\"-251.7\" font-family=\"Times New Roman,serif\" font-size=\"14.00\">Degree</text>\n",
       "<polygon fill=\"none\" stroke=\"black\" points=\"1277.25,-246 1277.25,-268 1312.25,-268 1312.25,-246 1277.25,-246\"/>\n",
       "<text text-anchor=\"start\" x=\"1283.12\" y=\"-251.7\" font-family=\"Times New Roman,serif\" font-size=\"14.00\">next</text>\n",
       "<polygon fill=\"none\" stroke=\"black\" points=\"1166.25,-224 1166.25,-246 1232.25,-246 1232.25,-224 1166.25,-224\"/>\n",
       "<text text-anchor=\"start\" x=\"1195.88\" y=\"-229.7\" font-family=\"Times New Roman,serif\" font-size=\"14.00\">2</text>\n",
       "<polygon fill=\"none\" stroke=\"black\" points=\"1232.25,-224 1232.25,-246 1277.25,-246 1277.25,-224 1232.25,-224\"/>\n",
       "<text text-anchor=\"start\" x=\"1251.38\" y=\"-229.7\" font-family=\"Times New Roman,serif\" font-size=\"14.00\">2</text>\n",
       "<polygon fill=\"none\" stroke=\"black\" points=\"1277.25,-224 1277.25,-246 1312.25,-246 1312.25,-224 1277.25,-224\"/>\n",
       "<text text-anchor=\"start\" x=\"1280.12\" y=\"-229.7\" font-family=\"Times New Roman,serif\" font-size=\"14.00\">None</text>\n",
       "<polygon fill=\"none\" stroke=\"black\" points=\"1166.25,-202 1166.25,-224 1312.25,-224 1312.25,-202 1166.25,-202\"/>\n",
       "<text text-anchor=\"start\" x=\"1205.88\" y=\"-207.7\" font-family=\"Times New Roman,serif\" font-size=\"14.00\">alamat node</text>\n",
       "<polygon fill=\"none\" stroke=\"black\" points=\"1166.25,-180 1166.25,-202 1312.25,-202 1312.25,-180 1166.25,-180\"/>\n",
       "<text text-anchor=\"start\" x=\"1196.88\" y=\"-185.7\" font-family=\"Times New Roman,serif\" font-size=\"14.00\">0x1481a436f50</text>\n",
       "</g>\n",
       "<!-- node3&#45;&gt;node4 -->\n",
       "<g id=\"edge5\" class=\"edge\">\n",
       "<title>node3:next&#45;&gt;node4:id</title>\n",
       "<path fill=\"none\" stroke=\"black\" d=\"M1115.25,-191C1133.13,-191 1140.22,-191 1153.89,-191\"/>\n",
       "<polygon fill=\"black\" stroke=\"black\" points=\"1153.74,-194.5 1163.74,-191 1153.74,-187.5 1153.74,-194.5\"/>\n",
       "</g>\n",
       "<!-- node5 -->\n",
       "<g id=\"node7\" class=\"node\">\n",
       "<title>node5</title>\n",
       "<text text-anchor=\"middle\" x=\"1383.25\" y=\"-229.95\" font-family=\"Times New Roman,serif\" font-size=\"14.00\">None</text>\n",
       "</g>\n",
       "<!-- node4&#45;&gt;node5 -->\n",
       "<g id=\"edge6\" class=\"edge\">\n",
       "<title>node4:next&#45;&gt;node5</title>\n",
       "<path fill=\"none\" stroke=\"black\" d=\"M1313.25,-235C1323.61,-235 1334.84,-235 1345.17,-235\"/>\n",
       "<polygon fill=\"black\" stroke=\"black\" points=\"1344.85,-238.5 1354.85,-235 1344.85,-231.5 1344.85,-238.5\"/>\n",
       "</g>\n",
       "</g>\n",
       "</svg>\n"
      ],
      "text/plain": [
       "<graphviz.graphs.Digraph at 0x148138e6bd0>"
      ]
     },
     "execution_count": 5,
     "metadata": {},
     "output_type": "execute_result"
    }
   ],
   "source": [
    "pol2.get_digraph()"
   ]
  },
  {
   "cell_type": "code",
   "execution_count": 7,
   "id": "0128d7b3",
   "metadata": {},
   "outputs": [
    {
     "name": "stdout",
     "output_type": "stream",
     "text": [
      "8x¹³ + 24x¹² + 6x¹¹ + 193x¹⁰ - 3x⁹ + 167x⁸ - 11x⁷ + 30x⁶ + 62x⁵ + 44x⁴ + 12x³ + 8x²\n"
     ]
    }
   ],
   "source": [
    "pol3 = pol1 * pol2\n",
    "pol3.print_polinom()"
   ]
  },
  {
   "cell_type": "code",
   "execution_count": 8,
   "id": "143bd1e6",
   "metadata": {},
   "outputs": [
    {
     "data": {
      "image/svg+xml": [
       "<?xml version=\"1.0\" encoding=\"UTF-8\" standalone=\"no\"?>\n",
       "<!DOCTYPE svg PUBLIC \"-//W3C//DTD SVG 1.1//EN\"\n",
       " \"http://www.w3.org/Graphics/SVG/1.1/DTD/svg11.dtd\">\n",
       "<!-- Generated by graphviz version 12.1.2 (20240928.0832)\n",
       " -->\n",
       "<!-- Pages: 1 -->\n",
       "<svg width=\"3206pt\" height=\"588pt\"\n",
       " viewBox=\"0.00 0.00 3206.25 588.00\" xmlns=\"http://www.w3.org/2000/svg\" xmlns:xlink=\"http://www.w3.org/1999/xlink\">\n",
       "<g id=\"graph0\" class=\"graph\" transform=\"scale(1 1) rotate(0) translate(4 584)\">\n",
       "<polygon fill=\"white\" stroke=\"none\" points=\"-4,4 -4,-584 3202.25,-584 3202.25,4 -4,4\"/>\n",
       "<!-- head -->\n",
       "<g id=\"node1\" class=\"node\">\n",
       "<title>head</title>\n",
       "<polygon fill=\"none\" stroke=\"black\" points=\"8,-27 8,-49.5 100.25,-49.5 100.25,-27 8,-27\"/>\n",
       "<text text-anchor=\"start\" x=\"41.38\" y=\"-33.2\" font-family=\"Times New Roman,serif\" font-size=\"14.00\">head</text>\n",
       "<polygon fill=\"none\" stroke=\"black\" points=\"8,-4.5 8,-27 100.25,-27 100.25,-4.5 8,-4.5\"/>\n",
       "<text text-anchor=\"start\" x=\"11\" y=\"-10.7\" font-family=\"Times New Roman,serif\" font-size=\"14.00\">0x1481a141ad0</text>\n",
       "</g>\n",
       "<!-- node0 -->\n",
       "<g id=\"node2\" class=\"node\">\n",
       "<title>node0</title>\n",
       "<polygon fill=\"none\" stroke=\"black\" points=\"152.25,-70 152.25,-92 218.25,-92 218.25,-70 152.25,-70\"/>\n",
       "<text text-anchor=\"start\" x=\"154.88\" y=\"-75.7\" font-family=\"Times New Roman,serif\" font-size=\"14.00\">Coefficient</text>\n",
       "<polygon fill=\"none\" stroke=\"black\" points=\"218.25,-70 218.25,-92 263.25,-92 263.25,-70 218.25,-70\"/>\n",
       "<text text-anchor=\"start\" x=\"221.25\" y=\"-75.7\" font-family=\"Times New Roman,serif\" font-size=\"14.00\">Degree</text>\n",
       "<polygon fill=\"none\" stroke=\"black\" points=\"263.25,-70 263.25,-92 355.25,-92 355.25,-70 263.25,-70\"/>\n",
       "<text text-anchor=\"start\" x=\"297.62\" y=\"-75.7\" font-family=\"Times New Roman,serif\" font-size=\"14.00\">next</text>\n",
       "<polygon fill=\"none\" stroke=\"black\" points=\"152.25,-48 152.25,-70 218.25,-70 218.25,-48 152.25,-48\"/>\n",
       "<text text-anchor=\"start\" x=\"181.88\" y=\"-53.7\" font-family=\"Times New Roman,serif\" font-size=\"14.00\">8</text>\n",
       "<polygon fill=\"none\" stroke=\"black\" points=\"218.25,-48 218.25,-70 263.25,-70 263.25,-48 218.25,-48\"/>\n",
       "<text text-anchor=\"start\" x=\"234\" y=\"-53.7\" font-family=\"Times New Roman,serif\" font-size=\"14.00\">13</text>\n",
       "<polygon fill=\"none\" stroke=\"black\" points=\"263.25,-48 263.25,-70 355.25,-70 355.25,-48 263.25,-48\"/>\n",
       "<text text-anchor=\"start\" x=\"266.12\" y=\"-53.7\" font-family=\"Times New Roman,serif\" font-size=\"14.00\">0x14813c2e250</text>\n",
       "<polygon fill=\"none\" stroke=\"black\" points=\"152.25,-26 152.25,-48 355.25,-48 355.25,-26 152.25,-26\"/>\n",
       "<text text-anchor=\"start\" x=\"220.38\" y=\"-31.7\" font-family=\"Times New Roman,serif\" font-size=\"14.00\">alamat node</text>\n",
       "<polygon fill=\"none\" stroke=\"black\" points=\"152.25,-4 152.25,-26 355.25,-26 355.25,-4 152.25,-4\"/>\n",
       "<text text-anchor=\"start\" x=\"210.62\" y=\"-9.7\" font-family=\"Times New Roman,serif\" font-size=\"14.00\">0x1481a141ad0</text>\n",
       "</g>\n",
       "<!-- head&#45;&gt;node0 -->\n",
       "<g id=\"edge1\" class=\"edge\">\n",
       "<title>head:contents&#45;&gt;node0:id</title>\n",
       "<path fill=\"none\" stroke=\"black\" d=\"M101.25,-15.75C119.13,-15.75 126.22,-15.26 139.89,-15.07\"/>\n",
       "<polygon fill=\"black\" stroke=\"black\" points=\"139.76,-18.58 149.74,-15.01 139.71,-11.58 139.76,-18.58\"/>\n",
       "</g>\n",
       "<!-- node1 -->\n",
       "<g id=\"node3\" class=\"node\">\n",
       "<title>node1</title>\n",
       "<polygon fill=\"none\" stroke=\"black\" points=\"407.25,-114 407.25,-136 473.25,-136 473.25,-114 407.25,-114\"/>\n",
       "<text text-anchor=\"start\" x=\"409.88\" y=\"-119.7\" font-family=\"Times New Roman,serif\" font-size=\"14.00\">Coefficient</text>\n",
       "<polygon fill=\"none\" stroke=\"black\" points=\"473.25,-114 473.25,-136 518.25,-136 518.25,-114 473.25,-114\"/>\n",
       "<text text-anchor=\"start\" x=\"476.25\" y=\"-119.7\" font-family=\"Times New Roman,serif\" font-size=\"14.00\">Degree</text>\n",
       "<polygon fill=\"none\" stroke=\"black\" points=\"518.25,-114 518.25,-136 611.25,-136 611.25,-114 518.25,-114\"/>\n",
       "<text text-anchor=\"start\" x=\"553.12\" y=\"-119.7\" font-family=\"Times New Roman,serif\" font-size=\"14.00\">next</text>\n",
       "<polygon fill=\"none\" stroke=\"black\" points=\"407.25,-92 407.25,-114 473.25,-114 473.25,-92 407.25,-92\"/>\n",
       "<text text-anchor=\"start\" x=\"433.5\" y=\"-97.7\" font-family=\"Times New Roman,serif\" font-size=\"14.00\">24</text>\n",
       "<polygon fill=\"none\" stroke=\"black\" points=\"473.25,-92 473.25,-114 518.25,-114 518.25,-92 473.25,-92\"/>\n",
       "<text text-anchor=\"start\" x=\"489\" y=\"-97.7\" font-family=\"Times New Roman,serif\" font-size=\"14.00\">12</text>\n",
       "<polygon fill=\"none\" stroke=\"black\" points=\"518.25,-92 518.25,-114 611.25,-114 611.25,-92 518.25,-92\"/>\n",
       "<text text-anchor=\"start\" x=\"521.25\" y=\"-97.7\" font-family=\"Times New Roman,serif\" font-size=\"14.00\">0x14813c05690</text>\n",
       "<polygon fill=\"none\" stroke=\"black\" points=\"407.25,-70 407.25,-92 611.25,-92 611.25,-70 407.25,-70\"/>\n",
       "<text text-anchor=\"start\" x=\"475.88\" y=\"-75.7\" font-family=\"Times New Roman,serif\" font-size=\"14.00\">alamat node</text>\n",
       "<polygon fill=\"none\" stroke=\"black\" points=\"407.25,-48 407.25,-70 611.25,-70 611.25,-48 407.25,-48\"/>\n",
       "<text text-anchor=\"start\" x=\"466.12\" y=\"-53.7\" font-family=\"Times New Roman,serif\" font-size=\"14.00\">0x14813c2e250</text>\n",
       "</g>\n",
       "<!-- node0&#45;&gt;node1 -->\n",
       "<g id=\"edge2\" class=\"edge\">\n",
       "<title>node0:next&#45;&gt;node1:id</title>\n",
       "<path fill=\"none\" stroke=\"black\" d=\"M356.25,-59C374.13,-59 381.22,-59 394.89,-59\"/>\n",
       "<polygon fill=\"black\" stroke=\"black\" points=\"394.74,-62.5 404.74,-59 394.74,-55.5 394.74,-62.5\"/>\n",
       "</g>\n",
       "<!-- node2 -->\n",
       "<g id=\"node4\" class=\"node\">\n",
       "<title>node2</title>\n",
       "<polygon fill=\"none\" stroke=\"black\" points=\"663.25,-158 663.25,-180 729.25,-180 729.25,-158 663.25,-158\"/>\n",
       "<text text-anchor=\"start\" x=\"665.88\" y=\"-163.7\" font-family=\"Times New Roman,serif\" font-size=\"14.00\">Coefficient</text>\n",
       "<polygon fill=\"none\" stroke=\"black\" points=\"729.25,-158 729.25,-180 774.25,-180 774.25,-158 729.25,-158\"/>\n",
       "<text text-anchor=\"start\" x=\"732.25\" y=\"-163.7\" font-family=\"Times New Roman,serif\" font-size=\"14.00\">Degree</text>\n",
       "<polygon fill=\"none\" stroke=\"black\" points=\"774.25,-158 774.25,-180 866.25,-180 866.25,-158 774.25,-158\"/>\n",
       "<text text-anchor=\"start\" x=\"808.62\" y=\"-163.7\" font-family=\"Times New Roman,serif\" font-size=\"14.00\">next</text>\n",
       "<polygon fill=\"none\" stroke=\"black\" points=\"663.25,-136 663.25,-158 729.25,-158 729.25,-136 663.25,-136\"/>\n",
       "<text text-anchor=\"start\" x=\"692.88\" y=\"-141.7\" font-family=\"Times New Roman,serif\" font-size=\"14.00\">6</text>\n",
       "<polygon fill=\"none\" stroke=\"black\" points=\"729.25,-136 729.25,-158 774.25,-158 774.25,-136 729.25,-136\"/>\n",
       "<text text-anchor=\"start\" x=\"745\" y=\"-141.7\" font-family=\"Times New Roman,serif\" font-size=\"14.00\">11</text>\n",
       "<polygon fill=\"none\" stroke=\"black\" points=\"774.25,-136 774.25,-158 866.25,-158 866.25,-136 774.25,-136\"/>\n",
       "<text text-anchor=\"start\" x=\"777.12\" y=\"-141.7\" font-family=\"Times New Roman,serif\" font-size=\"14.00\">0x14813c2e890</text>\n",
       "<polygon fill=\"none\" stroke=\"black\" points=\"663.25,-114 663.25,-136 866.25,-136 866.25,-114 663.25,-114\"/>\n",
       "<text text-anchor=\"start\" x=\"731.38\" y=\"-119.7\" font-family=\"Times New Roman,serif\" font-size=\"14.00\">alamat node</text>\n",
       "<polygon fill=\"none\" stroke=\"black\" points=\"663.25,-92 663.25,-114 866.25,-114 866.25,-92 663.25,-92\"/>\n",
       "<text text-anchor=\"start\" x=\"721.25\" y=\"-97.7\" font-family=\"Times New Roman,serif\" font-size=\"14.00\">0x14813c05690</text>\n",
       "</g>\n",
       "<!-- node1&#45;&gt;node2 -->\n",
       "<g id=\"edge3\" class=\"edge\">\n",
       "<title>node1:next&#45;&gt;node2:id</title>\n",
       "<path fill=\"none\" stroke=\"black\" d=\"M612.25,-103C630.13,-103 637.22,-103 650.89,-103\"/>\n",
       "<polygon fill=\"black\" stroke=\"black\" points=\"650.74,-106.5 660.74,-103 650.74,-99.5 650.74,-106.5\"/>\n",
       "</g>\n",
       "<!-- node3 -->\n",
       "<g id=\"node5\" class=\"node\">\n",
       "<title>node3</title>\n",
       "<polygon fill=\"none\" stroke=\"black\" points=\"918.25,-202 918.25,-224 984.25,-224 984.25,-202 918.25,-202\"/>\n",
       "<text text-anchor=\"start\" x=\"920.88\" y=\"-207.7\" font-family=\"Times New Roman,serif\" font-size=\"14.00\">Coefficient</text>\n",
       "<polygon fill=\"none\" stroke=\"black\" points=\"984.25,-202 984.25,-224 1029.25,-224 1029.25,-202 984.25,-202\"/>\n",
       "<text text-anchor=\"start\" x=\"987.25\" y=\"-207.7\" font-family=\"Times New Roman,serif\" font-size=\"14.00\">Degree</text>\n",
       "<polygon fill=\"none\" stroke=\"black\" points=\"1029.25,-202 1029.25,-224 1121.25,-224 1121.25,-202 1029.25,-202\"/>\n",
       "<text text-anchor=\"start\" x=\"1063.62\" y=\"-207.7\" font-family=\"Times New Roman,serif\" font-size=\"14.00\">next</text>\n",
       "<polygon fill=\"none\" stroke=\"black\" points=\"918.25,-180 918.25,-202 984.25,-202 984.25,-180 918.25,-180\"/>\n",
       "<text text-anchor=\"start\" x=\"941.12\" y=\"-185.7\" font-family=\"Times New Roman,serif\" font-size=\"14.00\">193</text>\n",
       "<polygon fill=\"none\" stroke=\"black\" points=\"984.25,-180 984.25,-202 1029.25,-202 1029.25,-180 984.25,-180\"/>\n",
       "<text text-anchor=\"start\" x=\"1000\" y=\"-185.7\" font-family=\"Times New Roman,serif\" font-size=\"14.00\">10</text>\n",
       "<polygon fill=\"none\" stroke=\"black\" points=\"1029.25,-180 1029.25,-202 1121.25,-202 1121.25,-180 1029.25,-180\"/>\n",
       "<text text-anchor=\"start\" x=\"1032.12\" y=\"-185.7\" font-family=\"Times New Roman,serif\" font-size=\"14.00\">0x14813c2e2d0</text>\n",
       "<polygon fill=\"none\" stroke=\"black\" points=\"918.25,-158 918.25,-180 1121.25,-180 1121.25,-158 918.25,-158\"/>\n",
       "<text text-anchor=\"start\" x=\"986.38\" y=\"-163.7\" font-family=\"Times New Roman,serif\" font-size=\"14.00\">alamat node</text>\n",
       "<polygon fill=\"none\" stroke=\"black\" points=\"918.25,-136 918.25,-158 1121.25,-158 1121.25,-136 918.25,-136\"/>\n",
       "<text text-anchor=\"start\" x=\"976.62\" y=\"-141.7\" font-family=\"Times New Roman,serif\" font-size=\"14.00\">0x14813c2e890</text>\n",
       "</g>\n",
       "<!-- node2&#45;&gt;node3 -->\n",
       "<g id=\"edge4\" class=\"edge\">\n",
       "<title>node2:next&#45;&gt;node3:id</title>\n",
       "<path fill=\"none\" stroke=\"black\" d=\"M867.25,-147C885.13,-147 892.22,-147 905.89,-147\"/>\n",
       "<polygon fill=\"black\" stroke=\"black\" points=\"905.74,-150.5 915.74,-147 905.74,-143.5 905.74,-150.5\"/>\n",
       "</g>\n",
       "<!-- node4 -->\n",
       "<g id=\"node6\" class=\"node\">\n",
       "<title>node4</title>\n",
       "<polygon fill=\"none\" stroke=\"black\" points=\"1173.25,-246 1173.25,-268 1239.25,-268 1239.25,-246 1173.25,-246\"/>\n",
       "<text text-anchor=\"start\" x=\"1175.88\" y=\"-251.7\" font-family=\"Times New Roman,serif\" font-size=\"14.00\">Coefficient</text>\n",
       "<polygon fill=\"none\" stroke=\"black\" points=\"1239.25,-246 1239.25,-268 1284.25,-268 1284.25,-246 1239.25,-246\"/>\n",
       "<text text-anchor=\"start\" x=\"1242.25\" y=\"-251.7\" font-family=\"Times New Roman,serif\" font-size=\"14.00\">Degree</text>\n",
       "<polygon fill=\"none\" stroke=\"black\" points=\"1284.25,-246 1284.25,-268 1376.25,-268 1376.25,-246 1284.25,-246\"/>\n",
       "<text text-anchor=\"start\" x=\"1318.62\" y=\"-251.7\" font-family=\"Times New Roman,serif\" font-size=\"14.00\">next</text>\n",
       "<polygon fill=\"none\" stroke=\"black\" points=\"1173.25,-224 1173.25,-246 1239.25,-246 1239.25,-224 1173.25,-224\"/>\n",
       "<text text-anchor=\"start\" x=\"1200.62\" y=\"-229.7\" font-family=\"Times New Roman,serif\" font-size=\"14.00\">&#45;3</text>\n",
       "<polygon fill=\"none\" stroke=\"black\" points=\"1239.25,-224 1239.25,-246 1284.25,-246 1284.25,-224 1239.25,-224\"/>\n",
       "<text text-anchor=\"start\" x=\"1258.38\" y=\"-229.7\" font-family=\"Times New Roman,serif\" font-size=\"14.00\">9</text>\n",
       "<polygon fill=\"none\" stroke=\"black\" points=\"1284.25,-224 1284.25,-246 1376.25,-246 1376.25,-224 1284.25,-224\"/>\n",
       "<text text-anchor=\"start\" x=\"1287.12\" y=\"-229.7\" font-family=\"Times New Roman,serif\" font-size=\"14.00\">0x14813c2e590</text>\n",
       "<polygon fill=\"none\" stroke=\"black\" points=\"1173.25,-202 1173.25,-224 1376.25,-224 1376.25,-202 1173.25,-202\"/>\n",
       "<text text-anchor=\"start\" x=\"1241.38\" y=\"-207.7\" font-family=\"Times New Roman,serif\" font-size=\"14.00\">alamat node</text>\n",
       "<polygon fill=\"none\" stroke=\"black\" points=\"1173.25,-180 1173.25,-202 1376.25,-202 1376.25,-180 1173.25,-180\"/>\n",
       "<text text-anchor=\"start\" x=\"1231.62\" y=\"-185.7\" font-family=\"Times New Roman,serif\" font-size=\"14.00\">0x14813c2e2d0</text>\n",
       "</g>\n",
       "<!-- node3&#45;&gt;node4 -->\n",
       "<g id=\"edge5\" class=\"edge\">\n",
       "<title>node3:next&#45;&gt;node4:id</title>\n",
       "<path fill=\"none\" stroke=\"black\" d=\"M1122.25,-191C1140.13,-191 1147.22,-191 1160.89,-191\"/>\n",
       "<polygon fill=\"black\" stroke=\"black\" points=\"1160.74,-194.5 1170.74,-191 1160.74,-187.5 1160.74,-194.5\"/>\n",
       "</g>\n",
       "<!-- node5 -->\n",
       "<g id=\"node7\" class=\"node\">\n",
       "<title>node5</title>\n",
       "<polygon fill=\"none\" stroke=\"black\" points=\"1428.25,-290 1428.25,-312 1494.25,-312 1494.25,-290 1428.25,-290\"/>\n",
       "<text text-anchor=\"start\" x=\"1430.88\" y=\"-295.7\" font-family=\"Times New Roman,serif\" font-size=\"14.00\">Coefficient</text>\n",
       "<polygon fill=\"none\" stroke=\"black\" points=\"1494.25,-290 1494.25,-312 1539.25,-312 1539.25,-290 1494.25,-290\"/>\n",
       "<text text-anchor=\"start\" x=\"1497.25\" y=\"-295.7\" font-family=\"Times New Roman,serif\" font-size=\"14.00\">Degree</text>\n",
       "<polygon fill=\"none\" stroke=\"black\" points=\"1539.25,-290 1539.25,-312 1631.25,-312 1631.25,-290 1539.25,-290\"/>\n",
       "<text text-anchor=\"start\" x=\"1573.62\" y=\"-295.7\" font-family=\"Times New Roman,serif\" font-size=\"14.00\">next</text>\n",
       "<polygon fill=\"none\" stroke=\"black\" points=\"1428.25,-268 1428.25,-290 1494.25,-290 1494.25,-268 1428.25,-268\"/>\n",
       "<text text-anchor=\"start\" x=\"1451.12\" y=\"-273.7\" font-family=\"Times New Roman,serif\" font-size=\"14.00\">167</text>\n",
       "<polygon fill=\"none\" stroke=\"black\" points=\"1494.25,-268 1494.25,-290 1539.25,-290 1539.25,-268 1494.25,-268\"/>\n",
       "<text text-anchor=\"start\" x=\"1513.38\" y=\"-273.7\" font-family=\"Times New Roman,serif\" font-size=\"14.00\">8</text>\n",
       "<polygon fill=\"none\" stroke=\"black\" points=\"1539.25,-268 1539.25,-290 1631.25,-290 1631.25,-268 1539.25,-268\"/>\n",
       "<text text-anchor=\"start\" x=\"1542.12\" y=\"-273.7\" font-family=\"Times New Roman,serif\" font-size=\"14.00\">0x14813c2eb50</text>\n",
       "<polygon fill=\"none\" stroke=\"black\" points=\"1428.25,-246 1428.25,-268 1631.25,-268 1631.25,-246 1428.25,-246\"/>\n",
       "<text text-anchor=\"start\" x=\"1496.38\" y=\"-251.7\" font-family=\"Times New Roman,serif\" font-size=\"14.00\">alamat node</text>\n",
       "<polygon fill=\"none\" stroke=\"black\" points=\"1428.25,-224 1428.25,-246 1631.25,-246 1631.25,-224 1428.25,-224\"/>\n",
       "<text text-anchor=\"start\" x=\"1486.62\" y=\"-229.7\" font-family=\"Times New Roman,serif\" font-size=\"14.00\">0x14813c2e590</text>\n",
       "</g>\n",
       "<!-- node4&#45;&gt;node5 -->\n",
       "<g id=\"edge6\" class=\"edge\">\n",
       "<title>node4:next&#45;&gt;node5:id</title>\n",
       "<path fill=\"none\" stroke=\"black\" d=\"M1377.25,-235C1395.13,-235 1402.22,-235 1415.89,-235\"/>\n",
       "<polygon fill=\"black\" stroke=\"black\" points=\"1415.74,-238.5 1425.74,-235 1415.74,-231.5 1415.74,-238.5\"/>\n",
       "</g>\n",
       "<!-- node6 -->\n",
       "<g id=\"node8\" class=\"node\">\n",
       "<title>node6</title>\n",
       "<polygon fill=\"none\" stroke=\"black\" points=\"1683.25,-334 1683.25,-356 1749.25,-356 1749.25,-334 1683.25,-334\"/>\n",
       "<text text-anchor=\"start\" x=\"1685.88\" y=\"-339.7\" font-family=\"Times New Roman,serif\" font-size=\"14.00\">Coefficient</text>\n",
       "<polygon fill=\"none\" stroke=\"black\" points=\"1749.25,-334 1749.25,-356 1794.25,-356 1794.25,-334 1749.25,-334\"/>\n",
       "<text text-anchor=\"start\" x=\"1752.25\" y=\"-339.7\" font-family=\"Times New Roman,serif\" font-size=\"14.00\">Degree</text>\n",
       "<polygon fill=\"none\" stroke=\"black\" points=\"1794.25,-334 1794.25,-356 1887.25,-356 1887.25,-334 1794.25,-334\"/>\n",
       "<text text-anchor=\"start\" x=\"1829.12\" y=\"-339.7\" font-family=\"Times New Roman,serif\" font-size=\"14.00\">next</text>\n",
       "<polygon fill=\"none\" stroke=\"black\" points=\"1683.25,-312 1683.25,-334 1749.25,-334 1749.25,-312 1683.25,-312\"/>\n",
       "<text text-anchor=\"start\" x=\"1707.25\" y=\"-317.7\" font-family=\"Times New Roman,serif\" font-size=\"14.00\">&#45;11</text>\n",
       "<polygon fill=\"none\" stroke=\"black\" points=\"1749.25,-312 1749.25,-334 1794.25,-334 1794.25,-312 1749.25,-312\"/>\n",
       "<text text-anchor=\"start\" x=\"1768.38\" y=\"-317.7\" font-family=\"Times New Roman,serif\" font-size=\"14.00\">7</text>\n",
       "<polygon fill=\"none\" stroke=\"black\" points=\"1794.25,-312 1794.25,-334 1887.25,-334 1887.25,-312 1794.25,-312\"/>\n",
       "<text text-anchor=\"start\" x=\"1797.25\" y=\"-317.7\" font-family=\"Times New Roman,serif\" font-size=\"14.00\">0x14813c2d310</text>\n",
       "<polygon fill=\"none\" stroke=\"black\" points=\"1683.25,-290 1683.25,-312 1887.25,-312 1887.25,-290 1683.25,-290\"/>\n",
       "<text text-anchor=\"start\" x=\"1751.88\" y=\"-295.7\" font-family=\"Times New Roman,serif\" font-size=\"14.00\">alamat node</text>\n",
       "<polygon fill=\"none\" stroke=\"black\" points=\"1683.25,-268 1683.25,-290 1887.25,-290 1887.25,-268 1683.25,-268\"/>\n",
       "<text text-anchor=\"start\" x=\"1742.12\" y=\"-273.7\" font-family=\"Times New Roman,serif\" font-size=\"14.00\">0x14813c2eb50</text>\n",
       "</g>\n",
       "<!-- node5&#45;&gt;node6 -->\n",
       "<g id=\"edge7\" class=\"edge\">\n",
       "<title>node5:next&#45;&gt;node6:id</title>\n",
       "<path fill=\"none\" stroke=\"black\" d=\"M1632.25,-279C1650.13,-279 1657.22,-279 1670.89,-279\"/>\n",
       "<polygon fill=\"black\" stroke=\"black\" points=\"1670.74,-282.5 1680.74,-279 1670.74,-275.5 1670.74,-282.5\"/>\n",
       "</g>\n",
       "<!-- node7 -->\n",
       "<g id=\"node9\" class=\"node\">\n",
       "<title>node7</title>\n",
       "<polygon fill=\"none\" stroke=\"black\" points=\"1939.25,-378 1939.25,-400 2005.25,-400 2005.25,-378 1939.25,-378\"/>\n",
       "<text text-anchor=\"start\" x=\"1941.88\" y=\"-383.7\" font-family=\"Times New Roman,serif\" font-size=\"14.00\">Coefficient</text>\n",
       "<polygon fill=\"none\" stroke=\"black\" points=\"2005.25,-378 2005.25,-400 2050.25,-400 2050.25,-378 2005.25,-378\"/>\n",
       "<text text-anchor=\"start\" x=\"2008.25\" y=\"-383.7\" font-family=\"Times New Roman,serif\" font-size=\"14.00\">Degree</text>\n",
       "<polygon fill=\"none\" stroke=\"black\" points=\"2050.25,-378 2050.25,-400 2142.25,-400 2142.25,-378 2050.25,-378\"/>\n",
       "<text text-anchor=\"start\" x=\"2084.62\" y=\"-383.7\" font-family=\"Times New Roman,serif\" font-size=\"14.00\">next</text>\n",
       "<polygon fill=\"none\" stroke=\"black\" points=\"1939.25,-356 1939.25,-378 2005.25,-378 2005.25,-356 1939.25,-356\"/>\n",
       "<text text-anchor=\"start\" x=\"1965.5\" y=\"-361.7\" font-family=\"Times New Roman,serif\" font-size=\"14.00\">30</text>\n",
       "<polygon fill=\"none\" stroke=\"black\" points=\"2005.25,-356 2005.25,-378 2050.25,-378 2050.25,-356 2005.25,-356\"/>\n",
       "<text text-anchor=\"start\" x=\"2024.38\" y=\"-361.7\" font-family=\"Times New Roman,serif\" font-size=\"14.00\">6</text>\n",
       "<polygon fill=\"none\" stroke=\"black\" points=\"2050.25,-356 2050.25,-378 2142.25,-378 2142.25,-356 2050.25,-356\"/>\n",
       "<text text-anchor=\"start\" x=\"2053.12\" y=\"-361.7\" font-family=\"Times New Roman,serif\" font-size=\"14.00\">0x14813c2e8d0</text>\n",
       "<polygon fill=\"none\" stroke=\"black\" points=\"1939.25,-334 1939.25,-356 2142.25,-356 2142.25,-334 1939.25,-334\"/>\n",
       "<text text-anchor=\"start\" x=\"2007.38\" y=\"-339.7\" font-family=\"Times New Roman,serif\" font-size=\"14.00\">alamat node</text>\n",
       "<polygon fill=\"none\" stroke=\"black\" points=\"1939.25,-312 1939.25,-334 2142.25,-334 2142.25,-312 1939.25,-312\"/>\n",
       "<text text-anchor=\"start\" x=\"1997.25\" y=\"-317.7\" font-family=\"Times New Roman,serif\" font-size=\"14.00\">0x14813c2d310</text>\n",
       "</g>\n",
       "<!-- node6&#45;&gt;node7 -->\n",
       "<g id=\"edge8\" class=\"edge\">\n",
       "<title>node6:next&#45;&gt;node7:id</title>\n",
       "<path fill=\"none\" stroke=\"black\" d=\"M1888.25,-323C1906.13,-323 1913.22,-323 1926.89,-323\"/>\n",
       "<polygon fill=\"black\" stroke=\"black\" points=\"1926.74,-326.5 1936.74,-323 1926.74,-319.5 1926.74,-326.5\"/>\n",
       "</g>\n",
       "<!-- node8 -->\n",
       "<g id=\"node10\" class=\"node\">\n",
       "<title>node8</title>\n",
       "<polygon fill=\"none\" stroke=\"black\" points=\"2194.25,-422 2194.25,-444 2260.25,-444 2260.25,-422 2194.25,-422\"/>\n",
       "<text text-anchor=\"start\" x=\"2196.88\" y=\"-427.7\" font-family=\"Times New Roman,serif\" font-size=\"14.00\">Coefficient</text>\n",
       "<polygon fill=\"none\" stroke=\"black\" points=\"2260.25,-422 2260.25,-444 2305.25,-444 2305.25,-422 2260.25,-422\"/>\n",
       "<text text-anchor=\"start\" x=\"2263.25\" y=\"-427.7\" font-family=\"Times New Roman,serif\" font-size=\"14.00\">Degree</text>\n",
       "<polygon fill=\"none\" stroke=\"black\" points=\"2305.25,-422 2305.25,-444 2396.25,-444 2396.25,-422 2305.25,-422\"/>\n",
       "<text text-anchor=\"start\" x=\"2339.12\" y=\"-427.7\" font-family=\"Times New Roman,serif\" font-size=\"14.00\">next</text>\n",
       "<polygon fill=\"none\" stroke=\"black\" points=\"2194.25,-400 2194.25,-422 2260.25,-422 2260.25,-400 2194.25,-400\"/>\n",
       "<text text-anchor=\"start\" x=\"2220.5\" y=\"-405.7\" font-family=\"Times New Roman,serif\" font-size=\"14.00\">62</text>\n",
       "<polygon fill=\"none\" stroke=\"black\" points=\"2260.25,-400 2260.25,-422 2305.25,-422 2305.25,-400 2260.25,-400\"/>\n",
       "<text text-anchor=\"start\" x=\"2279.38\" y=\"-405.7\" font-family=\"Times New Roman,serif\" font-size=\"14.00\">5</text>\n",
       "<polygon fill=\"none\" stroke=\"black\" points=\"2305.25,-400 2305.25,-422 2396.25,-422 2396.25,-400 2305.25,-400\"/>\n",
       "<text text-anchor=\"start\" x=\"2308\" y=\"-405.7\" font-family=\"Times New Roman,serif\" font-size=\"14.00\">0x14813c2ec90</text>\n",
       "<polygon fill=\"none\" stroke=\"black\" points=\"2194.25,-378 2194.25,-400 2396.25,-400 2396.25,-378 2194.25,-378\"/>\n",
       "<text text-anchor=\"start\" x=\"2261.88\" y=\"-383.7\" font-family=\"Times New Roman,serif\" font-size=\"14.00\">alamat node</text>\n",
       "<polygon fill=\"none\" stroke=\"black\" points=\"2194.25,-356 2194.25,-378 2396.25,-378 2396.25,-356 2194.25,-356\"/>\n",
       "<text text-anchor=\"start\" x=\"2252.12\" y=\"-361.7\" font-family=\"Times New Roman,serif\" font-size=\"14.00\">0x14813c2e8d0</text>\n",
       "</g>\n",
       "<!-- node7&#45;&gt;node8 -->\n",
       "<g id=\"edge9\" class=\"edge\">\n",
       "<title>node7:next&#45;&gt;node8:id</title>\n",
       "<path fill=\"none\" stroke=\"black\" d=\"M2143.25,-367C2161.13,-367 2168.22,-367 2181.89,-367\"/>\n",
       "<polygon fill=\"black\" stroke=\"black\" points=\"2181.74,-370.5 2191.74,-367 2181.74,-363.5 2181.74,-370.5\"/>\n",
       "</g>\n",
       "<!-- node9 -->\n",
       "<g id=\"node11\" class=\"node\">\n",
       "<title>node9</title>\n",
       "<polygon fill=\"none\" stroke=\"black\" points=\"2448.25,-466 2448.25,-488 2514.25,-488 2514.25,-466 2448.25,-466\"/>\n",
       "<text text-anchor=\"start\" x=\"2450.88\" y=\"-471.7\" font-family=\"Times New Roman,serif\" font-size=\"14.00\">Coefficient</text>\n",
       "<polygon fill=\"none\" stroke=\"black\" points=\"2514.25,-466 2514.25,-488 2559.25,-488 2559.25,-466 2514.25,-466\"/>\n",
       "<text text-anchor=\"start\" x=\"2517.25\" y=\"-471.7\" font-family=\"Times New Roman,serif\" font-size=\"14.00\">Degree</text>\n",
       "<polygon fill=\"none\" stroke=\"black\" points=\"2559.25,-466 2559.25,-488 2649.25,-488 2649.25,-466 2559.25,-466\"/>\n",
       "<text text-anchor=\"start\" x=\"2592.62\" y=\"-471.7\" font-family=\"Times New Roman,serif\" font-size=\"14.00\">next</text>\n",
       "<polygon fill=\"none\" stroke=\"black\" points=\"2448.25,-444 2448.25,-466 2514.25,-466 2514.25,-444 2448.25,-444\"/>\n",
       "<text text-anchor=\"start\" x=\"2474.5\" y=\"-449.7\" font-family=\"Times New Roman,serif\" font-size=\"14.00\">44</text>\n",
       "<polygon fill=\"none\" stroke=\"black\" points=\"2514.25,-444 2514.25,-466 2559.25,-466 2559.25,-444 2514.25,-444\"/>\n",
       "<text text-anchor=\"start\" x=\"2533.38\" y=\"-449.7\" font-family=\"Times New Roman,serif\" font-size=\"14.00\">4</text>\n",
       "<polygon fill=\"none\" stroke=\"black\" points=\"2559.25,-444 2559.25,-466 2649.25,-466 2649.25,-444 2559.25,-444\"/>\n",
       "<text text-anchor=\"start\" x=\"2562.25\" y=\"-449.7\" font-family=\"Times New Roman,serif\" font-size=\"14.00\">0x14813c2fcd0</text>\n",
       "<polygon fill=\"none\" stroke=\"black\" points=\"2448.25,-422 2448.25,-444 2649.25,-444 2649.25,-422 2448.25,-422\"/>\n",
       "<text text-anchor=\"start\" x=\"2515.38\" y=\"-427.7\" font-family=\"Times New Roman,serif\" font-size=\"14.00\">alamat node</text>\n",
       "<polygon fill=\"none\" stroke=\"black\" points=\"2448.25,-400 2448.25,-422 2649.25,-422 2649.25,-400 2448.25,-400\"/>\n",
       "<text text-anchor=\"start\" x=\"2506\" y=\"-405.7\" font-family=\"Times New Roman,serif\" font-size=\"14.00\">0x14813c2ec90</text>\n",
       "</g>\n",
       "<!-- node8&#45;&gt;node9 -->\n",
       "<g id=\"edge10\" class=\"edge\">\n",
       "<title>node8:next&#45;&gt;node9:id</title>\n",
       "<path fill=\"none\" stroke=\"black\" d=\"M2397.25,-411C2415.13,-411 2422.22,-411 2435.89,-411\"/>\n",
       "<polygon fill=\"black\" stroke=\"black\" points=\"2435.74,-414.5 2445.74,-411 2435.74,-407.5 2435.74,-414.5\"/>\n",
       "</g>\n",
       "<!-- node10 -->\n",
       "<g id=\"node12\" class=\"node\">\n",
       "<title>node10</title>\n",
       "<polygon fill=\"none\" stroke=\"black\" points=\"2701.25,-510 2701.25,-532 2767.25,-532 2767.25,-510 2701.25,-510\"/>\n",
       "<text text-anchor=\"start\" x=\"2703.88\" y=\"-515.7\" font-family=\"Times New Roman,serif\" font-size=\"14.00\">Coefficient</text>\n",
       "<polygon fill=\"none\" stroke=\"black\" points=\"2767.25,-510 2767.25,-532 2812.25,-532 2812.25,-510 2767.25,-510\"/>\n",
       "<text text-anchor=\"start\" x=\"2770.25\" y=\"-515.7\" font-family=\"Times New Roman,serif\" font-size=\"14.00\">Degree</text>\n",
       "<polygon fill=\"none\" stroke=\"black\" points=\"2812.25,-510 2812.25,-532 2902.25,-532 2902.25,-510 2812.25,-510\"/>\n",
       "<text text-anchor=\"start\" x=\"2845.62\" y=\"-515.7\" font-family=\"Times New Roman,serif\" font-size=\"14.00\">next</text>\n",
       "<polygon fill=\"none\" stroke=\"black\" points=\"2701.25,-488 2701.25,-510 2767.25,-510 2767.25,-488 2701.25,-488\"/>\n",
       "<text text-anchor=\"start\" x=\"2727.5\" y=\"-493.7\" font-family=\"Times New Roman,serif\" font-size=\"14.00\">12</text>\n",
       "<polygon fill=\"none\" stroke=\"black\" points=\"2767.25,-488 2767.25,-510 2812.25,-510 2812.25,-488 2767.25,-488\"/>\n",
       "<text text-anchor=\"start\" x=\"2786.38\" y=\"-493.7\" font-family=\"Times New Roman,serif\" font-size=\"14.00\">3</text>\n",
       "<polygon fill=\"none\" stroke=\"black\" points=\"2812.25,-488 2812.25,-510 2902.25,-510 2902.25,-488 2812.25,-488\"/>\n",
       "<text text-anchor=\"start\" x=\"2814.88\" y=\"-493.7\" font-family=\"Times New Roman,serif\" font-size=\"14.00\">0x14813c2f2d0</text>\n",
       "<polygon fill=\"none\" stroke=\"black\" points=\"2701.25,-466 2701.25,-488 2902.25,-488 2902.25,-466 2701.25,-466\"/>\n",
       "<text text-anchor=\"start\" x=\"2768.38\" y=\"-471.7\" font-family=\"Times New Roman,serif\" font-size=\"14.00\">alamat node</text>\n",
       "<polygon fill=\"none\" stroke=\"black\" points=\"2701.25,-444 2701.25,-466 2902.25,-466 2902.25,-444 2701.25,-444\"/>\n",
       "<text text-anchor=\"start\" x=\"2759.75\" y=\"-449.7\" font-family=\"Times New Roman,serif\" font-size=\"14.00\">0x14813c2fcd0</text>\n",
       "</g>\n",
       "<!-- node9&#45;&gt;node10 -->\n",
       "<g id=\"edge11\" class=\"edge\">\n",
       "<title>node9:next&#45;&gt;node10:id</title>\n",
       "<path fill=\"none\" stroke=\"black\" d=\"M2650.25,-455C2668.13,-455 2675.22,-455 2688.89,-455\"/>\n",
       "<polygon fill=\"black\" stroke=\"black\" points=\"2688.74,-458.5 2698.74,-455 2688.74,-451.5 2688.74,-458.5\"/>\n",
       "</g>\n",
       "<!-- node11 -->\n",
       "<g id=\"node13\" class=\"node\">\n",
       "<title>node11</title>\n",
       "<polygon fill=\"none\" stroke=\"black\" points=\"2954.25,-554 2954.25,-576 3020.25,-576 3020.25,-554 2954.25,-554\"/>\n",
       "<text text-anchor=\"start\" x=\"2956.88\" y=\"-559.7\" font-family=\"Times New Roman,serif\" font-size=\"14.00\">Coefficient</text>\n",
       "<polygon fill=\"none\" stroke=\"black\" points=\"3020.25,-554 3020.25,-576 3065.25,-576 3065.25,-554 3020.25,-554\"/>\n",
       "<text text-anchor=\"start\" x=\"3023.25\" y=\"-559.7\" font-family=\"Times New Roman,serif\" font-size=\"14.00\">Degree</text>\n",
       "<polygon fill=\"none\" stroke=\"black\" points=\"3065.25,-554 3065.25,-576 3100.25,-576 3100.25,-554 3065.25,-554\"/>\n",
       "<text text-anchor=\"start\" x=\"3071.12\" y=\"-559.7\" font-family=\"Times New Roman,serif\" font-size=\"14.00\">next</text>\n",
       "<polygon fill=\"none\" stroke=\"black\" points=\"2954.25,-532 2954.25,-554 3020.25,-554 3020.25,-532 2954.25,-532\"/>\n",
       "<text text-anchor=\"start\" x=\"2983.88\" y=\"-537.7\" font-family=\"Times New Roman,serif\" font-size=\"14.00\">8</text>\n",
       "<polygon fill=\"none\" stroke=\"black\" points=\"3020.25,-532 3020.25,-554 3065.25,-554 3065.25,-532 3020.25,-532\"/>\n",
       "<text text-anchor=\"start\" x=\"3039.38\" y=\"-537.7\" font-family=\"Times New Roman,serif\" font-size=\"14.00\">2</text>\n",
       "<polygon fill=\"none\" stroke=\"black\" points=\"3065.25,-532 3065.25,-554 3100.25,-554 3100.25,-532 3065.25,-532\"/>\n",
       "<text text-anchor=\"start\" x=\"3068.12\" y=\"-537.7\" font-family=\"Times New Roman,serif\" font-size=\"14.00\">None</text>\n",
       "<polygon fill=\"none\" stroke=\"black\" points=\"2954.25,-510 2954.25,-532 3100.25,-532 3100.25,-510 2954.25,-510\"/>\n",
       "<text text-anchor=\"start\" x=\"2993.88\" y=\"-515.7\" font-family=\"Times New Roman,serif\" font-size=\"14.00\">alamat node</text>\n",
       "<polygon fill=\"none\" stroke=\"black\" points=\"2954.25,-488 2954.25,-510 3100.25,-510 3100.25,-488 2954.25,-488\"/>\n",
       "<text text-anchor=\"start\" x=\"2984.88\" y=\"-493.7\" font-family=\"Times New Roman,serif\" font-size=\"14.00\">0x14813c2f2d0</text>\n",
       "</g>\n",
       "<!-- node10&#45;&gt;node11 -->\n",
       "<g id=\"edge12\" class=\"edge\">\n",
       "<title>node10:next&#45;&gt;node11:id</title>\n",
       "<path fill=\"none\" stroke=\"black\" d=\"M2903.25,-499C2921.13,-499 2928.22,-499 2941.89,-499\"/>\n",
       "<polygon fill=\"black\" stroke=\"black\" points=\"2941.74,-502.5 2951.74,-499 2941.74,-495.5 2941.74,-502.5\"/>\n",
       "</g>\n",
       "<!-- node12 -->\n",
       "<g id=\"node14\" class=\"node\">\n",
       "<title>node12</title>\n",
       "<text text-anchor=\"middle\" x=\"3171.25\" y=\"-537.95\" font-family=\"Times New Roman,serif\" font-size=\"14.00\">None</text>\n",
       "</g>\n",
       "<!-- node11&#45;&gt;node12 -->\n",
       "<g id=\"edge13\" class=\"edge\">\n",
       "<title>node11:next&#45;&gt;node12</title>\n",
       "<path fill=\"none\" stroke=\"black\" d=\"M3101.25,-543C3111.61,-543 3122.84,-543 3133.17,-543\"/>\n",
       "<polygon fill=\"black\" stroke=\"black\" points=\"3132.85,-546.5 3142.85,-543 3132.85,-539.5 3132.85,-546.5\"/>\n",
       "</g>\n",
       "</g>\n",
       "</svg>\n"
      ],
      "text/plain": [
       "<graphviz.graphs.Digraph at 0x14813c2d050>"
      ]
     },
     "execution_count": 8,
     "metadata": {},
     "output_type": "execute_result"
    }
   ],
   "source": [
    "pol3.get_digraph()"
   ]
  },
  {
   "cell_type": "markdown",
   "id": "73abab0a",
   "metadata": {},
   "source": [
    ":::{.callout-warning title=\"Menampilkan Polinomial\"}\n",
    "Pada contoh-contoh diatas anda akan melihat tiga jenis *method* untuk menampilkan hasil polinomialnya, yaitu `print_all()`, `get_digraph()`, dan `print_polinom()` yang menampilkan polinomial dengan cara berbeda. Anda dibebaskan dalam membuat satu *method* untuk menampilkan hasil polinomial dengan cara apapun, boleh mirip dengan yang diberikan pada contoh atau berbeda sesuai keinginan anda.\n",
    "\n",
    ":::"
   ]
  },
  {
   "cell_type": "markdown",
   "id": "843311e6",
   "metadata": {},
   "source": [
    "# Kriteria Penilaian"
   ]
  },
  {
   "cell_type": "markdown",
   "id": "1ef5508f",
   "metadata": {},
   "source": [
    "Berikut adalah kriteria penilaian yang digunakan untuk tugas ini"
   ]
  },
  {
   "cell_type": "markdown",
   "id": "5819cd0a",
   "metadata": {},
   "source": [
    "<style>\n",
    "  /* Menargetkan seluruh tabel */\n",
    "  table {\n",
    "    font-family: sans-serif;\n",
    "    border-collapse: collapse; /* Menggabungkan border sel menjadi satu garis */\n",
    "    width: 100%;\n",
    "  }\n",
    "\n",
    "  /* Menargetkan sel header (th) dan sel data (td) */\n",
    "  td, th {\n",
    "    border: 1px solid #dddddd; /* Membuat garis setebal 1px, solid, warna abu-abu */\n",
    "    text-align: left;\n",
    "    padding: 8px; /* Memberi jarak antara teks dan garis */\n",
    "  }\n",
    "\n",
    "  /* Memberi warna latar pada baris ganjil agar mudah dibaca */\n",
    "  tr:nth-child(even) {\n",
    "    background-color: #f2f2f2;\n",
    "  }\n",
    "</style>\n",
    "<table>\n",
    "  <thead>\n",
    "    <tr>\n",
    "      <th>Komponen</th>\n",
    "      <th>Persentase</th>\n",
    "      <th>Keterangan</th>\n",
    "    </tr>\n",
    "  </thead>\n",
    "  <tbody>\n",
    "    <tr>\n",
    "      <td><strong>Soal</strong></td>\n",
    "      <td>80%</td>\n",
    "      <td>Menilai keberhasilan dan ketepatan dalam menyelesaikan soal yang diberikan.</td>\n",
    "    </tr>\n",
    "    <tr>\n",
    "      <td><strong>Dokumentasi Kode</strong></td>\n",
    "      <td>10%</td>\n",
    "      <td>Menilai kelengkapan dan kejelasan komentar atau dokumentasi dalam kode, termasuk penjelasan fungsi, variabel, dan alur program.</td>\n",
    "    </tr>\n",
    "    <tr>\n",
    "      <td><strong>Kerapian Kode</strong></td>\n",
    "      <td>5%</td>\n",
    "      <td>Menilai keterbacaan dan konsistensi format penulisan kode, seperti penggunaan indentasi, penamaan variabel, dan struktur kode.</td>\n",
    "    </tr>\n",
    "    <tr>\n",
    "      <td><strong>Submisi</strong></td>\n",
    "      <td>5%</td>\n",
    "      <td>Menilai ketepatan format file (.ipynb) dan penamaan file yang dikumpulkan, serta waktu submisi tidak melewati tenggat waktu yang diberikan.</td>\n",
    "    </tr>\n",
    "  </tbody>\n",
    "</table>"
   ]
  }
 ],
 "metadata": {
  "kernelspec": {
   "display_name": "Python 3",
   "language": "python",
   "name": "python3"
  },
  "language_info": {
   "codemirror_mode": {
    "name": "ipython",
    "version": 3
   },
   "file_extension": ".py",
   "mimetype": "text/x-python",
   "name": "python",
   "nbconvert_exporter": "python",
   "pygments_lexer": "ipython3",
   "version": "3.11.9"
  }
 },
 "nbformat": 4,
 "nbformat_minor": 5
}
