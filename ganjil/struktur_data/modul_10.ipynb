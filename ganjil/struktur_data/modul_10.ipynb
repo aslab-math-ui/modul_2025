{
 "cells": [
  {
   "cell_type": "markdown",
   "id": "0772d6c8",
   "metadata": {},
   "source": [
    "---\n",
    "title: \"Modul 1 Struktur Data: Array, Searching, Sorting\"\n",
    "subtitle: \"Pembahasan Struktur Data Array serta Algoritma Searching dan Sorting lebih lanjut\"\n",
    "image: https://raw.githubusercontent.com/aslab-math-ui/asset/main/struktur_data/static/array_logical_size_vs_capacity.png\n",
    "description: \"Offline di Departemen Matematika\"\n",
    "date: 09/14/2025\n",
    "page-navigation: true\n",
    "format: html\n",
    "fig-width: 6\n",
    "fig-height: 2.5\n",
    "---"
   ]
  }
 ],
 "metadata": {
  "language_info": {
   "name": "python"
  }
 },
 "nbformat": 4,
 "nbformat_minor": 5
}
